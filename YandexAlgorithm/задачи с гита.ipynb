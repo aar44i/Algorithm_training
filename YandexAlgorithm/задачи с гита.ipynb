{
 "cells": [
  {
   "cell_type": "code",
   "execution_count": 1,
   "id": "e4625a2a",
   "metadata": {},
   "outputs": [
    {
     "name": "stdout",
     "output_type": "stream",
     "text": [
      "15 5\n",
      "2\n",
      "0\n"
     ]
    }
   ],
   "source": [
    "# Даны две строки строчных латинских символов: строка J и строка S.\n",
    "# Символы, входящие в строку J, — «драгоценности», входящие в строку S — «камни».\n",
    "# Нужно определить, какое количество символов из S одновременно являются «драгоценностями».\n",
    "# Проще говоря, нужно проверить, какое количество символов из S входит в J.\n",
    "\n",
    "\n",
    "def jewelry(j: str, s: str) -> int:\n",
    "    count = 0\n",
    "    for s_i in s:\n",
    "        if s_i in j:\n",
    "            count += 1\n",
    "    return count\n",
    "\n",
    "\n",
    "if __name__ == '__main__':\n",
    "    j = input()\n",
    "    s = input()\n",
    "\n",
    "    print(jewelry(j, s))"
   ]
  },
  {
   "cell_type": "code",
   "execution_count": 13,
   "id": "4ebcee0e",
   "metadata": {},
   "outputs": [
    {
     "data": {
      "text/plain": [
       "3"
      ]
     },
     "execution_count": 13,
     "metadata": {},
     "output_type": "execute_result"
    }
   ],
   "source": [
    "# Требуется найти в бинарном векторе самую длинную последовательность единиц и вывести её длину.\n",
    "# Желательно получить решение, работающее за линейное время и при этом проходящее по входному массиву только один раз.\n",
    "# Первая строка входного файла содержит одно число n, n ≤ 10000.\n",
    "# Каждая из следующих n строк содержит ровно одно число — очередной элемент массива.\n",
    "# Выходной файл должен содержать единственное число — длину самой длинной последовательности единиц во входном массиве.\n",
    "\n",
    "n = str(111001101)\n",
    "current = 0\n",
    "best = 0\n",
    "for i in n:\n",
    "    if i == '1':\n",
    "        current += 1\n",
    "        best = max(best, current)\n",
    "    else:\n",
    "        current = 0\n",
    "best"
   ]
  },
  {
   "cell_type": "code",
   "execution_count": 26,
   "id": "bed93526",
   "metadata": {},
   "outputs": [
    {
     "name": "stdout",
     "output_type": "stream",
     "text": [
      "5\n",
      "4\n"
     ]
    }
   ],
   "source": [
    "lst = [5,4, 2,2, 3,3,3,2]\n",
    "for i in lst:\n",
    "    lst_new = []\n",
    "    if lst.count(i) == 1:\n",
    "        print(i)\n",
    "        lst_new.append(i)\n",
    "    "
   ]
  },
  {
   "cell_type": "code",
   "execution_count": 29,
   "id": "2c7eae7d",
   "metadata": {},
   "outputs": [
    {
     "name": "stdout",
     "output_type": "stream",
     "text": [
      "1\n"
     ]
    }
   ],
   "source": [
    "str1 = 'приказ'\n",
    "str2 = 'каприз' \n",
    "\n",
    "str1_list = list(str1)\n",
    "str1_list.sort()\n",
    "str2_list = list(str2)\n",
    "str2_list.sort()\n",
    "if str1_list == str2_list:\n",
    "    print(1)\n",
    "else:\n",
    "    print(0)\n",
    "# check_anagram(str1, str2)"
   ]
  },
  {
   "cell_type": "code",
   "execution_count": 30,
   "id": "4c17d5c9",
   "metadata": {},
   "outputs": [
    {
     "data": {
      "text/plain": [
       "['а', 'з', 'и', 'к', 'п', 'р']"
      ]
     },
     "execution_count": 30,
     "metadata": {},
     "output_type": "execute_result"
    }
   ],
   "source": [
    "str1_list"
   ]
  },
  {
   "cell_type": "code",
   "execution_count": 31,
   "id": "56ea32bf",
   "metadata": {},
   "outputs": [],
   "source": [
    "str1_list.sort()"
   ]
  },
  {
   "cell_type": "code",
   "execution_count": 32,
   "id": "75151887",
   "metadata": {},
   "outputs": [
    {
     "data": {
      "text/plain": [
       "['а', 'з', 'и', 'к', 'п', 'р']"
      ]
     },
     "execution_count": 32,
     "metadata": {},
     "output_type": "execute_result"
    }
   ],
   "source": [
    "str1_list"
   ]
  },
  {
   "cell_type": "code",
   "execution_count": null,
   "id": "9af3f0ab",
   "metadata": {},
   "outputs": [],
   "source": []
  }
 ],
 "metadata": {
  "kernelspec": {
   "display_name": "Python 3",
   "language": "python",
   "name": "python3"
  },
  "language_info": {
   "codemirror_mode": {
    "name": "ipython",
    "version": 3
   },
   "file_extension": ".py",
   "mimetype": "text/x-python",
   "name": "python",
   "nbconvert_exporter": "python",
   "pygments_lexer": "ipython3",
   "version": "3.8.8"
  }
 },
 "nbformat": 4,
 "nbformat_minor": 5
}
