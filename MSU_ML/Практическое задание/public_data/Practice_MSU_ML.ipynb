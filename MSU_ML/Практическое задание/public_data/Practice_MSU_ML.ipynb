{
 "cells": [
  {
   "cell_type": "code",
   "execution_count": 33,
   "id": "74a750ec-1c16-47bf-866b-724d22c85d07",
   "metadata": {},
   "outputs": [],
   "source": [
    "import pandas as pd \n",
    "import matplotlib.pyplot as plt\n",
    "import seaborn as sns\n",
    "import plotly.express as px\n",
    "from tqdm import tqdm_notebook\n",
    "\n",
    "import warnings\n",
    "warnings.filterwarnings('ignore')"
   ]
  },
  {
   "cell_type": "code",
   "execution_count": 3,
   "id": "f228c889-0c85-499a-9e42-88519e451df0",
   "metadata": {},
   "outputs": [],
   "source": [
    "train_df = pd.read_csv('train.csv')\n",
    "test_df = pd.read_csv('test.csv')"
   ]
  },
  {
   "cell_type": "markdown",
   "id": "b754eaca-7094-4698-809a-05936447465b",
   "metadata": {},
   "source": [
    "Мысли:  \n",
    "Добавить дни недели  \n",
    "добавить категориальную переменную Выходные  \n",
    "Сделать лаговые фичи на 7-14 дней  \n",
    "Нормализация"
   ]
  },
  {
   "cell_type": "code",
   "execution_count": 4,
   "id": "20c82953-9ca5-45bc-b839-5b372546a795",
   "metadata": {},
   "outputs": [
    {
     "data": {
      "text/html": [
       "<div>\n",
       "<style scoped>\n",
       "    .dataframe tbody tr th:only-of-type {\n",
       "        vertical-align: middle;\n",
       "    }\n",
       "\n",
       "    .dataframe tbody tr th {\n",
       "        vertical-align: top;\n",
       "    }\n",
       "\n",
       "    .dataframe thead th {\n",
       "        text-align: right;\n",
       "    }\n",
       "</style>\n",
       "<table border=\"1\" class=\"dataframe\">\n",
       "  <thead>\n",
       "    <tr style=\"text-align: right;\">\n",
       "      <th></th>\n",
       "      <th>id</th>\n",
       "      <th>date</th>\n",
       "      <th>city_name</th>\n",
       "      <th>store_id</th>\n",
       "      <th>category_id</th>\n",
       "      <th>product_id</th>\n",
       "      <th>price</th>\n",
       "      <th>weather_desc</th>\n",
       "      <th>humidity</th>\n",
       "      <th>temperature</th>\n",
       "      <th>pressure</th>\n",
       "      <th>sales</th>\n",
       "    </tr>\n",
       "  </thead>\n",
       "  <tbody>\n",
       "    <tr>\n",
       "      <th>0</th>\n",
       "      <td>1</td>\n",
       "      <td>2021-07-29</td>\n",
       "      <td>Москва</td>\n",
       "      <td>1</td>\n",
       "      <td>1</td>\n",
       "      <td>1</td>\n",
       "      <td>4.79</td>\n",
       "      <td>переменная облачность, небольшой дождь</td>\n",
       "      <td>61.9375</td>\n",
       "      <td>23.1875</td>\n",
       "      <td>741.0000</td>\n",
       "      <td>26</td>\n",
       "    </tr>\n",
       "    <tr>\n",
       "      <th>1</th>\n",
       "      <td>2</td>\n",
       "      <td>2021-07-30</td>\n",
       "      <td>Москва</td>\n",
       "      <td>1</td>\n",
       "      <td>1</td>\n",
       "      <td>1</td>\n",
       "      <td>4.79</td>\n",
       "      <td>переменная облачность, небольшой дождь</td>\n",
       "      <td>70.2500</td>\n",
       "      <td>22.1875</td>\n",
       "      <td>740.3125</td>\n",
       "      <td>37</td>\n",
       "    </tr>\n",
       "    <tr>\n",
       "      <th>2</th>\n",
       "      <td>3</td>\n",
       "      <td>2021-07-31</td>\n",
       "      <td>Москва</td>\n",
       "      <td>1</td>\n",
       "      <td>1</td>\n",
       "      <td>1</td>\n",
       "      <td>4.79</td>\n",
       "      <td>переменная облачность</td>\n",
       "      <td>52.6250</td>\n",
       "      <td>21.8125</td>\n",
       "      <td>741.6250</td>\n",
       "      <td>25</td>\n",
       "    </tr>\n",
       "    <tr>\n",
       "      <th>3</th>\n",
       "      <td>4</td>\n",
       "      <td>2021-08-01</td>\n",
       "      <td>Москва</td>\n",
       "      <td>1</td>\n",
       "      <td>1</td>\n",
       "      <td>1</td>\n",
       "      <td>4.79</td>\n",
       "      <td>облачно, небольшой дождь</td>\n",
       "      <td>87.4375</td>\n",
       "      <td>20.0625</td>\n",
       "      <td>743.3125</td>\n",
       "      <td>26</td>\n",
       "    </tr>\n",
       "    <tr>\n",
       "      <th>4</th>\n",
       "      <td>5</td>\n",
       "      <td>2021-08-02</td>\n",
       "      <td>Москва</td>\n",
       "      <td>1</td>\n",
       "      <td>1</td>\n",
       "      <td>1</td>\n",
       "      <td>4.79</td>\n",
       "      <td>переменная облачность</td>\n",
       "      <td>66.1875</td>\n",
       "      <td>23.4375</td>\n",
       "      <td>739.6250</td>\n",
       "      <td>22</td>\n",
       "    </tr>\n",
       "  </tbody>\n",
       "</table>\n",
       "</div>"
      ],
      "text/plain": [
       "   id        date city_name  store_id  category_id  product_id  price  \\\n",
       "0   1  2021-07-29    Москва         1            1           1   4.79   \n",
       "1   2  2021-07-30    Москва         1            1           1   4.79   \n",
       "2   3  2021-07-31    Москва         1            1           1   4.79   \n",
       "3   4  2021-08-01    Москва         1            1           1   4.79   \n",
       "4   5  2021-08-02    Москва         1            1           1   4.79   \n",
       "\n",
       "                             weather_desc  humidity  temperature  pressure  \\\n",
       "0  переменная облачность, небольшой дождь   61.9375      23.1875  741.0000   \n",
       "1  переменная облачность, небольшой дождь   70.2500      22.1875  740.3125   \n",
       "2                   переменная облачность   52.6250      21.8125  741.6250   \n",
       "3                облачно, небольшой дождь   87.4375      20.0625  743.3125   \n",
       "4                   переменная облачность   66.1875      23.4375  739.6250   \n",
       "\n",
       "   sales  \n",
       "0     26  \n",
       "1     37  \n",
       "2     25  \n",
       "3     26  \n",
       "4     22  "
      ]
     },
     "execution_count": 4,
     "metadata": {},
     "output_type": "execute_result"
    }
   ],
   "source": [
    "train_df.head()"
   ]
  },
  {
   "cell_type": "code",
   "execution_count": 5,
   "id": "ce8a8b9c-1b8c-4c38-ba0f-9a1a4c2a0518",
   "metadata": {},
   "outputs": [
    {
     "name": "stdout",
     "output_type": "stream",
     "text": [
      "<class 'pandas.core.frame.DataFrame'>\n",
      "RangeIndex: 666676 entries, 0 to 666675\n",
      "Data columns (total 12 columns):\n",
      " #   Column        Non-Null Count   Dtype  \n",
      "---  ------        --------------   -----  \n",
      " 0   id            666676 non-null  int64  \n",
      " 1   date          666676 non-null  object \n",
      " 2   city_name     666676 non-null  object \n",
      " 3   store_id      666676 non-null  int64  \n",
      " 4   category_id   666676 non-null  int64  \n",
      " 5   product_id    666676 non-null  int64  \n",
      " 6   price         666676 non-null  float64\n",
      " 7   weather_desc  666676 non-null  object \n",
      " 8   humidity      666676 non-null  float64\n",
      " 9   temperature   666676 non-null  float64\n",
      " 10  pressure      666676 non-null  float64\n",
      " 11  sales         666676 non-null  int64  \n",
      "dtypes: float64(4), int64(5), object(3)\n",
      "memory usage: 61.0+ MB\n"
     ]
    }
   ],
   "source": [
    "train_df.info()"
   ]
  },
  {
   "cell_type": "code",
   "execution_count": 6,
   "id": "97c3c61e-ed09-4c17-bda1-7ac91592edf7",
   "metadata": {},
   "outputs": [
    {
     "name": "stdout",
     "output_type": "stream",
     "text": [
      "store_id \n",
      " [  1   2   3   4   5   6   7   8   9  10  11  12  13  14  15  16  17  18\n",
      "  19  20  21  22  23  24  25  26  27  28  29  30  31  32  33  34  35  36\n",
      "  37  38  39  40  41  42  43  44  45  46  47  48  49  50  51  52  53  54\n",
      "  55  56  57  58  59  60  61  62  63  64  65  66  67  68  69  70  71  72\n",
      "  73  74  75  76  77  78  79  81  82  83  84  85  86  87  88  89  90  91\n",
      "  92  93  94  95  96  97  98  99 100 101 102 103 104 105 106 107 108 109\n",
      " 110 111 112 113 114 115 116 117 118 119 120 121 122 123 124 125 126 127\n",
      " 128 129 130 131 132 133 134 135 136 137 138 139 140 141 142 143 144 145\n",
      " 146 147 148 149 150 152 153 154 156 157 158 159 160 162 163 164]\n",
      "category_id \n",
      " [1 2 3 4 5 7 8 9 6]\n",
      "product_id \n",
      " [ 1  2  4  5  7  8  9 10 11 12 13 14 16 17 18 20 21 24 25 26 28 29 30 32\n",
      " 33 34 35  6  3 27 19 31]\n",
      "price \n",
      " [ 4.79  7.78  8.15 11.25 12.15  2.39  4.64  3.01  3.3   2.9   6.2   4.09\n",
      "  4.18  3.51 18.63  2.52  5.9   1.93  3.83  6.02  2.49  6.58  3.    3.8\n",
      "  2.48 11.2   7.68  2.02  3.65]\n"
     ]
    }
   ],
   "source": [
    "lst = ['store_id' ,'category_id', 'product_id', 'price' ]\n",
    "for i in lst:\n",
    "    print(i,'\\n', train_df[i].unique())"
   ]
  },
  {
   "cell_type": "code",
   "execution_count": 7,
   "id": "24dbd883-789c-42c8-b5f0-3df6e121f1d5",
   "metadata": {},
   "outputs": [
    {
     "data": {
      "text/plain": [
       "array(['Москва', 'Санкт-Петербург', 'Краснодар', 'Самара',\n",
       "       'Нижний Новгород', 'Ростов-на-Дону', 'Волгоград', 'Воронеж',\n",
       "       'Казань', 'Екатеринбург'], dtype=object)"
      ]
     },
     "execution_count": 7,
     "metadata": {},
     "output_type": "execute_result"
    }
   ],
   "source": [
    "train_df['city_name'].unique()"
   ]
  },
  {
   "cell_type": "code",
   "execution_count": 8,
   "id": "04bc8751-174c-4859-a7de-5dd76e5162af",
   "metadata": {},
   "outputs": [
    {
     "data": {
      "text/plain": [
       "array(['переменная облачность, небольшой дождь', 'переменная облачность',\n",
       "       'облачно, небольшой дождь', 'дождь, гроза',\n",
       "       'облачно, без существенных осадков',\n",
       "       'переменная облачность, дождь', 'дождь', 'облачно', 'ясно',\n",
       "       'облачно, небольшой снег',\n",
       "       'переменная облачность, небольшие осадки',\n",
       "       'облачно, небольшие осадки', 'снег', 'метель', 'осадки',\n",
       "       'переменная облачность, небольшой снег'], dtype=object)"
      ]
     },
     "execution_count": 8,
     "metadata": {},
     "output_type": "execute_result"
    }
   ],
   "source": [
    "train_df['weather_desc'].unique()"
   ]
  },
  {
   "cell_type": "code",
   "execution_count": 18,
   "id": "4f3f8a0f-5e45-4951-b6b1-0e952f6e5a09",
   "metadata": {},
   "outputs": [
    {
     "data": {
      "image/png": "[encoded data removed]",
      "text/plain": [
       "<Figure size 1080x216 with 3 Axes>"
      ]
     },
     "metadata": {
      "needs_background": "light"
     },
     "output_type": "display_data"
    }
   ],
   "source": [
    "fig, ax = plt.subplots(1,3,figsize=(15, 3)) # Распеределение признаков\n",
    "sns.histplot(train_df['temperature'], ax=ax[0], kde=True, legend=False)\n",
    "ax[0].set_title(\"Temperature\")\n",
    "sns.histplot(train_df['pressure'], ax=ax[1], kde=True, legend=False)\n",
    "ax[1].set_title(\"Pressure\")\n",
    "sns.histplot(train_df['humidity'], ax=ax[2], kde=True, legend=False)\n",
    "ax[2].set_title(\"Humidity\")\n",
    "plt.show()"
   ]
  },
  {
   "cell_type": "code",
   "execution_count": 9,
   "id": "993bbb41-a9f6-4231-a457-3011b54e369e",
   "metadata": {},
   "outputs": [
    {
     "data": {
      "text/plain": [
       "<AxesSubplot:>"
      ]
     },
     "execution_count": 9,
     "metadata": {},
     "output_type": "execute_result"
    },
    {
     "data": {
      "image/png": "[encoded data removed]",
      "text/plain": [
       "<Figure size 576x432 with 2 Axes>"
      ]
     },
     "metadata": {
      "needs_background": "light"
     },
     "output_type": "display_data"
    }
   ],
   "source": [
    "corr = train_df.corr()\n",
    "f, ax = plt.subplots(figsize=(8, 6))\n",
    "cmap = sns.diverging_palette(220, 10, as_cmap=True)\n",
    "sns.heatmap(corr, cmap=cmap, center=0., square=True, linewidths=.5, cbar_kws={\"shrink\": .5})"
   ]
  },
  {
   "cell_type": "code",
   "execution_count": 13,
   "id": "aa4096d7-b6b0-4dae-8ae9-256fee2274fd",
   "metadata": {},
   "outputs": [],
   "source": [
    "# group = train_df[['date', 'city_name', 'sales']].groupby(['date', 'city_name'], as_index=False).sum()\n",
    "# fig = px.line(group, x=\"date\", y=\"sales\", color='city_name')\n",
    "# fig.update_layout(\n",
    "#     title={\n",
    "#         'text': \"Количество заказов по регионам\",\n",
    "#         'y':0.95,\n",
    "#         'x':0.5,\n",
    "#         'xanchor': 'center',\n",
    "#         'yanchor': 'top'})\n",
    "# fig.show() "
   ]
  },
  {
   "cell_type": "code",
   "execution_count": 35,
   "id": "7ae1539b-a660-4858-a138-8a48935a92ae",
   "metadata": {},
   "outputs": [
    {
     "name": "stdout",
     "output_type": "stream",
     "text": [
      "<class 'pandas.core.frame.DataFrame'>\n",
      "RangeIndex: 666676 entries, 0 to 666675\n",
      "Data columns (total 12 columns):\n",
      " #   Column        Non-Null Count   Dtype         \n",
      "---  ------        --------------   -----         \n",
      " 0   id            666676 non-null  int64         \n",
      " 1   date          666676 non-null  datetime64[ns]\n",
      " 2   city_name     666676 non-null  object        \n",
      " 3   store_id      666676 non-null  int64         \n",
      " 4   category_id   666676 non-null  int64         \n",
      " 5   product_id    666676 non-null  int64         \n",
      " 6   price         666676 non-null  float64       \n",
      " 7   weather_desc  666676 non-null  object        \n",
      " 8   humidity      666676 non-null  float64       \n",
      " 9   temperature   666676 non-null  float64       \n",
      " 10  pressure      666676 non-null  float64       \n",
      " 11  sales         666676 non-null  int64         \n",
      "dtypes: datetime64[ns](1), float64(4), int64(5), object(2)\n",
      "memory usage: 61.0+ MB\n"
     ]
    }
   ],
   "source": [
    "train_df['date'] = pd.to_datetime(train_df['date'].astype(str))\n",
    "# train_df['weekday'] = (train_df['date'][i].weekday() for i in range(len(train_df)))\n",
    "train_df.info()"
   ]
  },
  {
   "cell_type": "code",
   "execution_count": 38,
   "id": "c6573b32-e848-4597-a124-5c73f36f5007",
   "metadata": {},
   "outputs": [
    {
     "data": {
      "text/plain": [
       "5"
      ]
     },
     "execution_count": 38,
     "metadata": {},
     "output_type": "execute_result"
    }
   ],
   "source": [
    "train_df['date'][23].weekday()\n",
    "# .weekday()"
   ]
  },
  {
   "cell_type": "code",
   "execution_count": 60,
   "id": "cbe6b824-7b8b-4e93-b745-80fe96f51830",
   "metadata": {},
   "outputs": [
    {
     "data": {
      "application/vnd.jupyter.widget-view+json": {
       "model_id": "2ed5469a3938447a85384fc0a2085906",
       "version_major": 2,
       "version_minor": 0
      },
      "text/plain": [
       "  0%|          | 0/666676 [00:00<?, ?it/s]"
      ]
     },
     "metadata": {},
     "output_type": "display_data"
    },
    {
     "ename": "KeyboardInterrupt",
     "evalue": "",
     "output_type": "error",
     "traceback": [
      "\u001b[1;31m---------------------------------------------------------------------------\u001b[0m",
      "\u001b[1;31mFileNotFoundError\u001b[0m                         Traceback (most recent call last)",
      "File \u001b[1;32mD:\\JupiterLab\\lib\\genericpath.py:19\u001b[0m, in \u001b[0;36mexists\u001b[1;34m(path)\u001b[0m\n\u001b[0;32m     18\u001b[0m \u001b[38;5;28;01mtry\u001b[39;00m:\n\u001b[1;32m---> 19\u001b[0m     \u001b[43mos\u001b[49m\u001b[38;5;241;43m.\u001b[39;49m\u001b[43mstat\u001b[49m\u001b[43m(\u001b[49m\u001b[43mpath\u001b[49m\u001b[43m)\u001b[49m\n\u001b[0;32m     20\u001b[0m \u001b[38;5;28;01mexcept\u001b[39;00m (\u001b[38;5;167;01mOSError\u001b[39;00m, \u001b[38;5;167;01mValueError\u001b[39;00m):\n",
      "\u001b[1;31mFileNotFoundError\u001b[0m: [WinError 3] Системе не удается найти указанный путь: 'C:\\\\Users\\\\gorba\\\\AppData\\\\Local\\\\Temp\\\\ipykernel_9480\\\\1884148182.py'",
      "\nDuring handling of the above exception, another exception occurred:\n",
      "\u001b[1;31mKeyboardInterrupt\u001b[0m                         Traceback (most recent call last)",
      "Input \u001b[1;32mIn [60]\u001b[0m, in \u001b[0;36m<cell line: 2>\u001b[1;34m()\u001b[0m\n\u001b[0;32m      1\u001b[0m train_df[\u001b[38;5;124m'\u001b[39m\u001b[38;5;124mweekday\u001b[39m\u001b[38;5;124m'\u001b[39m] \u001b[38;5;241m=\u001b[39m train_df[\u001b[38;5;124m'\u001b[39m\u001b[38;5;124mdate\u001b[39m\u001b[38;5;124m'\u001b[39m][\u001b[38;5;241m0\u001b[39m]\u001b[38;5;241m.\u001b[39mweekday()\n\u001b[0;32m      2\u001b[0m \u001b[38;5;28;01mfor\u001b[39;00m i \u001b[38;5;129;01min\u001b[39;00m tqdm_notebook(\u001b[38;5;28mrange\u001b[39m(\u001b[38;5;28mlen\u001b[39m(train_df))):\n\u001b[1;32m----> 3\u001b[0m     train_df[\u001b[38;5;124m'\u001b[39m\u001b[38;5;124mweekday\u001b[39m\u001b[38;5;124m'\u001b[39m][i] \u001b[38;5;241m=\u001b[39m (train_df[\u001b[38;5;124m'\u001b[39m\u001b[38;5;124mdate\u001b[39m\u001b[38;5;124m'\u001b[39m][i]\u001b[38;5;241m.\u001b[39mweekday())\n",
      "File \u001b[1;32mD:\\JupiterLab\\lib\\site-packages\\pandas\\core\\series.py:1075\u001b[0m, in \u001b[0;36mSeries.__setitem__\u001b[1;34m(self, key, value)\u001b[0m\n\u001b[0;32m   1073\u001b[0m check_deprecated_indexers(key)\n\u001b[0;32m   1074\u001b[0m key \u001b[38;5;241m=\u001b[39m com\u001b[38;5;241m.\u001b[39mapply_if_callable(key, \u001b[38;5;28mself\u001b[39m)\n\u001b[1;32m-> 1075\u001b[0m cacher_needs_updating \u001b[38;5;241m=\u001b[39m \u001b[38;5;28;43mself\u001b[39;49m\u001b[38;5;241;43m.\u001b[39;49m\u001b[43m_check_is_chained_assignment_possible\u001b[49m\u001b[43m(\u001b[49m\u001b[43m)\u001b[49m\n\u001b[0;32m   1077\u001b[0m \u001b[38;5;28;01mif\u001b[39;00m key \u001b[38;5;129;01mis\u001b[39;00m \u001b[38;5;28mEllipsis\u001b[39m:\n\u001b[0;32m   1078\u001b[0m     key \u001b[38;5;241m=\u001b[39m \u001b[38;5;28mslice\u001b[39m(\u001b[38;5;28;01mNone\u001b[39;00m)\n",
      "File \u001b[1;32mD:\\JupiterLab\\lib\\site-packages\\pandas\\core\\series.py:1256\u001b[0m, in \u001b[0;36mSeries._check_is_chained_assignment_possible\u001b[1;34m(self)\u001b[0m\n\u001b[0;32m   1254\u001b[0m     ref \u001b[38;5;241m=\u001b[39m \u001b[38;5;28mself\u001b[39m\u001b[38;5;241m.\u001b[39m_get_cacher()\n\u001b[0;32m   1255\u001b[0m     \u001b[38;5;28;01mif\u001b[39;00m ref \u001b[38;5;129;01mis\u001b[39;00m \u001b[38;5;129;01mnot\u001b[39;00m \u001b[38;5;28;01mNone\u001b[39;00m \u001b[38;5;129;01mand\u001b[39;00m ref\u001b[38;5;241m.\u001b[39m_is_mixed_type:\n\u001b[1;32m-> 1256\u001b[0m         \u001b[38;5;28;43mself\u001b[39;49m\u001b[38;5;241;43m.\u001b[39;49m\u001b[43m_check_setitem_copy\u001b[49m\u001b[43m(\u001b[49m\u001b[43mt\u001b[49m\u001b[38;5;241;43m=\u001b[39;49m\u001b[38;5;124;43m\"\u001b[39;49m\u001b[38;5;124;43mreferent\u001b[39;49m\u001b[38;5;124;43m\"\u001b[39;49m\u001b[43m,\u001b[49m\u001b[43m \u001b[49m\u001b[43mforce\u001b[49m\u001b[38;5;241;43m=\u001b[39;49m\u001b[38;5;28;43;01mTrue\u001b[39;49;00m\u001b[43m)\u001b[49m\n\u001b[0;32m   1257\u001b[0m     \u001b[38;5;28;01mreturn\u001b[39;00m \u001b[38;5;28;01mTrue\u001b[39;00m\n\u001b[0;32m   1258\u001b[0m \u001b[38;5;28;01mreturn\u001b[39;00m \u001b[38;5;28msuper\u001b[39m()\u001b[38;5;241m.\u001b[39m_check_is_chained_assignment_possible()\n",
      "File \u001b[1;32mD:\\JupiterLab\\lib\\site-packages\\pandas\\core\\generic.py:4030\u001b[0m, in \u001b[0;36mNDFrame._check_setitem_copy\u001b[1;34m(self, t, force)\u001b[0m\n\u001b[0;32m   4028\u001b[0m     \u001b[38;5;28;01mraise\u001b[39;00m com\u001b[38;5;241m.\u001b[39mSettingWithCopyError(t)\n\u001b[0;32m   4029\u001b[0m \u001b[38;5;28;01melif\u001b[39;00m value \u001b[38;5;241m==\u001b[39m \u001b[38;5;124m\"\u001b[39m\u001b[38;5;124mwarn\u001b[39m\u001b[38;5;124m\"\u001b[39m:\n\u001b[1;32m-> 4030\u001b[0m     warnings\u001b[38;5;241m.\u001b[39mwarn(t, com\u001b[38;5;241m.\u001b[39mSettingWithCopyWarning, stacklevel\u001b[38;5;241m=\u001b[39m\u001b[43mfind_stack_level\u001b[49m\u001b[43m(\u001b[49m\u001b[43m)\u001b[49m)\n",
      "File \u001b[1;32mD:\\JupiterLab\\lib\\site-packages\\pandas\\util\\_exceptions.py:32\u001b[0m, in \u001b[0;36mfind_stack_level\u001b[1;34m()\u001b[0m\n\u001b[0;32m     27\u001b[0m \u001b[38;5;28;01mdef\u001b[39;00m \u001b[38;5;21mfind_stack_level\u001b[39m() \u001b[38;5;241m-\u001b[39m\u001b[38;5;241m>\u001b[39m \u001b[38;5;28mint\u001b[39m:\n\u001b[0;32m     28\u001b[0m     \u001b[38;5;124;03m\"\"\"\u001b[39;00m\n\u001b[0;32m     29\u001b[0m \u001b[38;5;124;03m    Find the first place in the stack that is not inside pandas\u001b[39;00m\n\u001b[0;32m     30\u001b[0m \u001b[38;5;124;03m    (tests notwithstanding).\u001b[39;00m\n\u001b[0;32m     31\u001b[0m \u001b[38;5;124;03m    \"\"\"\u001b[39;00m\n\u001b[1;32m---> 32\u001b[0m     stack \u001b[38;5;241m=\u001b[39m \u001b[43minspect\u001b[49m\u001b[38;5;241;43m.\u001b[39;49m\u001b[43mstack\u001b[49m\u001b[43m(\u001b[49m\u001b[43m)\u001b[49m\n\u001b[0;32m     34\u001b[0m     \u001b[38;5;28;01mimport\u001b[39;00m \u001b[38;5;21;01mpandas\u001b[39;00m \u001b[38;5;28;01mas\u001b[39;00m \u001b[38;5;21;01mpd\u001b[39;00m\n\u001b[0;32m     36\u001b[0m     pkg_dir \u001b[38;5;241m=\u001b[39m os\u001b[38;5;241m.\u001b[39mpath\u001b[38;5;241m.\u001b[39mdirname(pd\u001b[38;5;241m.\u001b[39m\u001b[38;5;18m__file__\u001b[39m)\n",
      "File \u001b[1;32mD:\\JupiterLab\\lib\\inspect.py:1526\u001b[0m, in \u001b[0;36mstack\u001b[1;34m(context)\u001b[0m\n\u001b[0;32m   1524\u001b[0m \u001b[38;5;28;01mdef\u001b[39;00m \u001b[38;5;21mstack\u001b[39m(context\u001b[38;5;241m=\u001b[39m\u001b[38;5;241m1\u001b[39m):\n\u001b[0;32m   1525\u001b[0m     \u001b[38;5;124;03m\"\"\"Return a list of records for the stack above the caller's frame.\"\"\"\u001b[39;00m\n\u001b[1;32m-> 1526\u001b[0m     \u001b[38;5;28;01mreturn\u001b[39;00m \u001b[43mgetouterframes\u001b[49m\u001b[43m(\u001b[49m\u001b[43msys\u001b[49m\u001b[38;5;241;43m.\u001b[39;49m\u001b[43m_getframe\u001b[49m\u001b[43m(\u001b[49m\u001b[38;5;241;43m1\u001b[39;49m\u001b[43m)\u001b[49m\u001b[43m,\u001b[49m\u001b[43m \u001b[49m\u001b[43mcontext\u001b[49m\u001b[43m)\u001b[49m\n",
      "File \u001b[1;32mD:\\JupiterLab\\lib\\inspect.py:1503\u001b[0m, in \u001b[0;36mgetouterframes\u001b[1;34m(frame, context)\u001b[0m\n\u001b[0;32m   1501\u001b[0m framelist \u001b[38;5;241m=\u001b[39m []\n\u001b[0;32m   1502\u001b[0m \u001b[38;5;28;01mwhile\u001b[39;00m frame:\n\u001b[1;32m-> 1503\u001b[0m     frameinfo \u001b[38;5;241m=\u001b[39m (frame,) \u001b[38;5;241m+\u001b[39m \u001b[43mgetframeinfo\u001b[49m\u001b[43m(\u001b[49m\u001b[43mframe\u001b[49m\u001b[43m,\u001b[49m\u001b[43m \u001b[49m\u001b[43mcontext\u001b[49m\u001b[43m)\u001b[49m\n\u001b[0;32m   1504\u001b[0m     framelist\u001b[38;5;241m.\u001b[39mappend(FrameInfo(\u001b[38;5;241m*\u001b[39mframeinfo))\n\u001b[0;32m   1505\u001b[0m     frame \u001b[38;5;241m=\u001b[39m frame\u001b[38;5;241m.\u001b[39mf_back\n",
      "File \u001b[1;32mD:\\JupiterLab\\lib\\inspect.py:1477\u001b[0m, in \u001b[0;36mgetframeinfo\u001b[1;34m(frame, context)\u001b[0m\n\u001b[0;32m   1475\u001b[0m start \u001b[38;5;241m=\u001b[39m lineno \u001b[38;5;241m-\u001b[39m \u001b[38;5;241m1\u001b[39m \u001b[38;5;241m-\u001b[39m context\u001b[38;5;241m/\u001b[39m\u001b[38;5;241m/\u001b[39m\u001b[38;5;241m2\u001b[39m\n\u001b[0;32m   1476\u001b[0m \u001b[38;5;28;01mtry\u001b[39;00m:\n\u001b[1;32m-> 1477\u001b[0m     lines, lnum \u001b[38;5;241m=\u001b[39m \u001b[43mfindsource\u001b[49m\u001b[43m(\u001b[49m\u001b[43mframe\u001b[49m\u001b[43m)\u001b[49m\n\u001b[0;32m   1478\u001b[0m \u001b[38;5;28;01mexcept\u001b[39;00m \u001b[38;5;167;01mOSError\u001b[39;00m:\n\u001b[0;32m   1479\u001b[0m     lines \u001b[38;5;241m=\u001b[39m index \u001b[38;5;241m=\u001b[39m \u001b[38;5;28;01mNone\u001b[39;00m\n",
      "File \u001b[1;32mD:\\JupiterLab\\lib\\inspect.py:780\u001b[0m, in \u001b[0;36mfindsource\u001b[1;34m(object)\u001b[0m\n\u001b[0;32m    772\u001b[0m \u001b[38;5;28;01mdef\u001b[39;00m \u001b[38;5;21mfindsource\u001b[39m(\u001b[38;5;28mobject\u001b[39m):\n\u001b[0;32m    773\u001b[0m     \u001b[38;5;124;03m\"\"\"Return the entire source file and starting line number for an object.\u001b[39;00m\n\u001b[0;32m    774\u001b[0m \n\u001b[0;32m    775\u001b[0m \u001b[38;5;124;03m    The argument may be a module, class, method, function, traceback, frame,\u001b[39;00m\n\u001b[0;32m    776\u001b[0m \u001b[38;5;124;03m    or code object.  The source code is returned as a list of all the lines\u001b[39;00m\n\u001b[0;32m    777\u001b[0m \u001b[38;5;124;03m    in the file and the line number indexes a line in that list.  An OSError\u001b[39;00m\n\u001b[0;32m    778\u001b[0m \u001b[38;5;124;03m    is raised if the source code cannot be retrieved.\"\"\"\u001b[39;00m\n\u001b[1;32m--> 780\u001b[0m     file \u001b[38;5;241m=\u001b[39m \u001b[43mgetsourcefile\u001b[49m\u001b[43m(\u001b[49m\u001b[38;5;28;43mobject\u001b[39;49m\u001b[43m)\u001b[49m\n\u001b[0;32m    781\u001b[0m     \u001b[38;5;28;01mif\u001b[39;00m file:\n\u001b[0;32m    782\u001b[0m         \u001b[38;5;66;03m# Invalidate cache if needed.\u001b[39;00m\n\u001b[0;32m    783\u001b[0m         linecache\u001b[38;5;241m.\u001b[39mcheckcache(file)\n",
      "File \u001b[1;32mD:\\JupiterLab\\lib\\inspect.py:705\u001b[0m, in \u001b[0;36mgetsourcefile\u001b[1;34m(object)\u001b[0m\n\u001b[0;32m    702\u001b[0m \u001b[38;5;28;01melif\u001b[39;00m \u001b[38;5;28many\u001b[39m(filename\u001b[38;5;241m.\u001b[39mendswith(s) \u001b[38;5;28;01mfor\u001b[39;00m s \u001b[38;5;129;01min\u001b[39;00m\n\u001b[0;32m    703\u001b[0m              importlib\u001b[38;5;241m.\u001b[39mmachinery\u001b[38;5;241m.\u001b[39mEXTENSION_SUFFIXES):\n\u001b[0;32m    704\u001b[0m     \u001b[38;5;28;01mreturn\u001b[39;00m \u001b[38;5;28;01mNone\u001b[39;00m\n\u001b[1;32m--> 705\u001b[0m \u001b[38;5;28;01mif\u001b[39;00m \u001b[43mos\u001b[49m\u001b[38;5;241;43m.\u001b[39;49m\u001b[43mpath\u001b[49m\u001b[38;5;241;43m.\u001b[39;49m\u001b[43mexists\u001b[49m\u001b[43m(\u001b[49m\u001b[43mfilename\u001b[49m\u001b[43m)\u001b[49m:\n\u001b[0;32m    706\u001b[0m     \u001b[38;5;28;01mreturn\u001b[39;00m filename\n\u001b[0;32m    707\u001b[0m \u001b[38;5;66;03m# only return a non-existent filename if the module has a PEP 302 loader\u001b[39;00m\n",
      "File \u001b[1;32mD:\\JupiterLab\\lib\\genericpath.py:19\u001b[0m, in \u001b[0;36mexists\u001b[1;34m(path)\u001b[0m\n\u001b[0;32m     17\u001b[0m \u001b[38;5;124;03m\"\"\"Test whether a path exists.  Returns False for broken symbolic links\"\"\"\u001b[39;00m\n\u001b[0;32m     18\u001b[0m \u001b[38;5;28;01mtry\u001b[39;00m:\n\u001b[1;32m---> 19\u001b[0m     \u001b[43mos\u001b[49m\u001b[38;5;241;43m.\u001b[39;49m\u001b[43mstat\u001b[49m\u001b[43m(\u001b[49m\u001b[43mpath\u001b[49m\u001b[43m)\u001b[49m\n\u001b[0;32m     20\u001b[0m \u001b[38;5;28;01mexcept\u001b[39;00m (\u001b[38;5;167;01mOSError\u001b[39;00m, \u001b[38;5;167;01mValueError\u001b[39;00m):\n\u001b[0;32m     21\u001b[0m     \u001b[38;5;28;01mreturn\u001b[39;00m \u001b[38;5;28;01mFalse\u001b[39;00m\n",
      "\u001b[1;31mKeyboardInterrupt\u001b[0m: "
     ]
    }
   ],
   "source": [
    "train_df['weekday'] = train_df['date'][0].weekday()\n",
    "for i in tqdm_notebook(range(len(train_df))):\n",
    "    train_df['weekday'][i] = (train_df['date'][i].weekday())\n",
    "    # print(train_df['date'][i].weekday())\n",
    "    "
   ]
  },
  {
   "cell_type": "code",
   "execution_count": 44,
   "id": "0f3decef-bf45-4e86-97f7-9ea8543c5f18",
   "metadata": {},
   "outputs": [],
   "source": [
    "# train_df['weekday'][1] =(train_df['date'][1].weekday())"
   ]
  },
  {
   "cell_type": "code",
   "execution_count": 48,
   "id": "934d46cb-7332-4027-b4f1-7629bbdc0ade",
   "metadata": {},
   "outputs": [
    {
     "data": {
      "text/plain": [
       "4"
      ]
     },
     "execution_count": 48,
     "metadata": {},
     "output_type": "execute_result"
    }
   ],
   "source": [
    "train_df['date'][1].weekday()"
   ]
  },
  {
   "cell_type": "code",
   "execution_count": 58,
   "id": "b0a668c7-f808-411d-a761-787358f86fb1",
   "metadata": {},
   "outputs": [],
   "source": [
    "train_df['weekday'] = train_df['date'][0].weekday()"
   ]
  },
  {
   "cell_type": "code",
   "execution_count": 59,
   "id": "43b8da53-926c-4f69-a5d7-389ecb18828b",
   "metadata": {},
   "outputs": [
    {
     "data": {
      "text/html": [
       "<div>\n",
       "<style scoped>\n",
       "    .dataframe tbody tr th:only-of-type {\n",
       "        vertical-align: middle;\n",
       "    }\n",
       "\n",
       "    .dataframe tbody tr th {\n",
       "        vertical-align: top;\n",
       "    }\n",
       "\n",
       "    .dataframe thead th {\n",
       "        text-align: right;\n",
       "    }\n",
       "</style>\n",
       "<table border=\"1\" class=\"dataframe\">\n",
       "  <thead>\n",
       "    <tr style=\"text-align: right;\">\n",
       "      <th></th>\n",
       "      <th>id</th>\n",
       "      <th>date</th>\n",
       "      <th>city_name</th>\n",
       "      <th>store_id</th>\n",
       "      <th>category_id</th>\n",
       "      <th>product_id</th>\n",
       "      <th>price</th>\n",
       "      <th>weather_desc</th>\n",
       "      <th>humidity</th>\n",
       "      <th>temperature</th>\n",
       "      <th>pressure</th>\n",
       "      <th>sales</th>\n",
       "      <th>weekday</th>\n",
       "    </tr>\n",
       "  </thead>\n",
       "  <tbody>\n",
       "    <tr>\n",
       "      <th>0</th>\n",
       "      <td>1</td>\n",
       "      <td>2021-07-29</td>\n",
       "      <td>Москва</td>\n",
       "      <td>1</td>\n",
       "      <td>1</td>\n",
       "      <td>1</td>\n",
       "      <td>4.79</td>\n",
       "      <td>переменная облачность, небольшой дождь</td>\n",
       "      <td>61.9375</td>\n",
       "      <td>23.1875</td>\n",
       "      <td>741.0000</td>\n",
       "      <td>26</td>\n",
       "      <td>3</td>\n",
       "    </tr>\n",
       "    <tr>\n",
       "      <th>1</th>\n",
       "      <td>2</td>\n",
       "      <td>2021-07-30</td>\n",
       "      <td>Москва</td>\n",
       "      <td>1</td>\n",
       "      <td>1</td>\n",
       "      <td>1</td>\n",
       "      <td>4.79</td>\n",
       "      <td>переменная облачность, небольшой дождь</td>\n",
       "      <td>70.2500</td>\n",
       "      <td>22.1875</td>\n",
       "      <td>740.3125</td>\n",
       "      <td>37</td>\n",
       "      <td>3</td>\n",
       "    </tr>\n",
       "    <tr>\n",
       "      <th>2</th>\n",
       "      <td>3</td>\n",
       "      <td>2021-07-31</td>\n",
       "      <td>Москва</td>\n",
       "      <td>1</td>\n",
       "      <td>1</td>\n",
       "      <td>1</td>\n",
       "      <td>4.79</td>\n",
       "      <td>переменная облачность</td>\n",
       "      <td>52.6250</td>\n",
       "      <td>21.8125</td>\n",
       "      <td>741.6250</td>\n",
       "      <td>25</td>\n",
       "      <td>3</td>\n",
       "    </tr>\n",
       "    <tr>\n",
       "      <th>3</th>\n",
       "      <td>4</td>\n",
       "      <td>2021-08-01</td>\n",
       "      <td>Москва</td>\n",
       "      <td>1</td>\n",
       "      <td>1</td>\n",
       "      <td>1</td>\n",
       "      <td>4.79</td>\n",
       "      <td>облачно, небольшой дождь</td>\n",
       "      <td>87.4375</td>\n",
       "      <td>20.0625</td>\n",
       "      <td>743.3125</td>\n",
       "      <td>26</td>\n",
       "      <td>3</td>\n",
       "    </tr>\n",
       "    <tr>\n",
       "      <th>4</th>\n",
       "      <td>5</td>\n",
       "      <td>2021-08-02</td>\n",
       "      <td>Москва</td>\n",
       "      <td>1</td>\n",
       "      <td>1</td>\n",
       "      <td>1</td>\n",
       "      <td>4.79</td>\n",
       "      <td>переменная облачность</td>\n",
       "      <td>66.1875</td>\n",
       "      <td>23.4375</td>\n",
       "      <td>739.6250</td>\n",
       "      <td>22</td>\n",
       "      <td>3</td>\n",
       "    </tr>\n",
       "    <tr>\n",
       "      <th>...</th>\n",
       "      <td>...</td>\n",
       "      <td>...</td>\n",
       "      <td>...</td>\n",
       "      <td>...</td>\n",
       "      <td>...</td>\n",
       "      <td>...</td>\n",
       "      <td>...</td>\n",
       "      <td>...</td>\n",
       "      <td>...</td>\n",
       "      <td>...</td>\n",
       "      <td>...</td>\n",
       "      <td>...</td>\n",
       "      <td>...</td>\n",
       "    </tr>\n",
       "    <tr>\n",
       "      <th>666671</th>\n",
       "      <td>666672</td>\n",
       "      <td>2022-02-09</td>\n",
       "      <td>Воронеж</td>\n",
       "      <td>164</td>\n",
       "      <td>1</td>\n",
       "      <td>35</td>\n",
       "      <td>2.48</td>\n",
       "      <td>облачно, небольшой снег</td>\n",
       "      <td>89.1250</td>\n",
       "      <td>-4.3125</td>\n",
       "      <td>744.6875</td>\n",
       "      <td>11</td>\n",
       "      <td>3</td>\n",
       "    </tr>\n",
       "    <tr>\n",
       "      <th>666672</th>\n",
       "      <td>666673</td>\n",
       "      <td>2022-02-10</td>\n",
       "      <td>Воронеж</td>\n",
       "      <td>164</td>\n",
       "      <td>1</td>\n",
       "      <td>35</td>\n",
       "      <td>2.48</td>\n",
       "      <td>облачно, небольшие осадки</td>\n",
       "      <td>92.5625</td>\n",
       "      <td>-0.9375</td>\n",
       "      <td>746.3125</td>\n",
       "      <td>17</td>\n",
       "      <td>3</td>\n",
       "    </tr>\n",
       "    <tr>\n",
       "      <th>666673</th>\n",
       "      <td>666674</td>\n",
       "      <td>2022-02-11</td>\n",
       "      <td>Воронеж</td>\n",
       "      <td>164</td>\n",
       "      <td>1</td>\n",
       "      <td>35</td>\n",
       "      <td>2.48</td>\n",
       "      <td>осадки</td>\n",
       "      <td>99.6875</td>\n",
       "      <td>-0.3125</td>\n",
       "      <td>745.3125</td>\n",
       "      <td>2</td>\n",
       "      <td>3</td>\n",
       "    </tr>\n",
       "    <tr>\n",
       "      <th>666674</th>\n",
       "      <td>666675</td>\n",
       "      <td>2022-02-12</td>\n",
       "      <td>Воронеж</td>\n",
       "      <td>164</td>\n",
       "      <td>1</td>\n",
       "      <td>35</td>\n",
       "      <td>2.48</td>\n",
       "      <td>переменная облачность, небольшие осадки</td>\n",
       "      <td>91.8750</td>\n",
       "      <td>-2.2500</td>\n",
       "      <td>749.9375</td>\n",
       "      <td>7</td>\n",
       "      <td>3</td>\n",
       "    </tr>\n",
       "    <tr>\n",
       "      <th>666675</th>\n",
       "      <td>666676</td>\n",
       "      <td>2022-02-13</td>\n",
       "      <td>Воронеж</td>\n",
       "      <td>164</td>\n",
       "      <td>1</td>\n",
       "      <td>35</td>\n",
       "      <td>2.48</td>\n",
       "      <td>переменная облачность</td>\n",
       "      <td>85.9375</td>\n",
       "      <td>-4.8750</td>\n",
       "      <td>755.3125</td>\n",
       "      <td>18</td>\n",
       "      <td>3</td>\n",
       "    </tr>\n",
       "  </tbody>\n",
       "</table>\n",
       "<p>666676 rows × 13 columns</p>\n",
       "</div>"
      ],
      "text/plain": [
       "            id       date city_name  store_id  category_id  product_id  price  \\\n",
       "0            1 2021-07-29    Москва         1            1           1   4.79   \n",
       "1            2 2021-07-30    Москва         1            1           1   4.79   \n",
       "2            3 2021-07-31    Москва         1            1           1   4.79   \n",
       "3            4 2021-08-01    Москва         1            1           1   4.79   \n",
       "4            5 2021-08-02    Москва         1            1           1   4.79   \n",
       "...        ...        ...       ...       ...          ...         ...    ...   \n",
       "666671  666672 2022-02-09   Воронеж       164            1          35   2.48   \n",
       "666672  666673 2022-02-10   Воронеж       164            1          35   2.48   \n",
       "666673  666674 2022-02-11   Воронеж       164            1          35   2.48   \n",
       "666674  666675 2022-02-12   Воронеж       164            1          35   2.48   \n",
       "666675  666676 2022-02-13   Воронеж       164            1          35   2.48   \n",
       "\n",
       "                                   weather_desc  humidity  temperature  \\\n",
       "0        переменная облачность, небольшой дождь   61.9375      23.1875   \n",
       "1        переменная облачность, небольшой дождь   70.2500      22.1875   \n",
       "2                         переменная облачность   52.6250      21.8125   \n",
       "3                      облачно, небольшой дождь   87.4375      20.0625   \n",
       "4                         переменная облачность   66.1875      23.4375   \n",
       "...                                         ...       ...          ...   \n",
       "666671                  облачно, небольшой снег   89.1250      -4.3125   \n",
       "666672                облачно, небольшие осадки   92.5625      -0.9375   \n",
       "666673                                   осадки   99.6875      -0.3125   \n",
       "666674  переменная облачность, небольшие осадки   91.8750      -2.2500   \n",
       "666675                    переменная облачность   85.9375      -4.8750   \n",
       "\n",
       "        pressure  sales  weekday  \n",
       "0       741.0000     26        3  \n",
       "1       740.3125     37        3  \n",
       "2       741.6250     25        3  \n",
       "3       743.3125     26        3  \n",
       "4       739.6250     22        3  \n",
       "...          ...    ...      ...  \n",
       "666671  744.6875     11        3  \n",
       "666672  746.3125     17        3  \n",
       "666673  745.3125      2        3  \n",
       "666674  749.9375      7        3  \n",
       "666675  755.3125     18        3  \n",
       "\n",
       "[666676 rows x 13 columns]"
      ]
     },
     "execution_count": 59,
     "metadata": {},
     "output_type": "execute_result"
    }
   ],
   "source": [
    "train_df"
   ]
  },
  {
   "cell_type": "code",
   "execution_count": null,
   "id": "216c83cc-9d92-4d74-b45d-38a7f69994e3",
   "metadata": {},
   "outputs": [],
   "source": []
  }
 ],
 "metadata": {
  "kernelspec": {
   "display_name": "Python 3 (ipykernel)",
   "language": "python",
   "name": "python3"
  },
  "language_info": {
   "codemirror_mode": {
    "name": "ipython",
    "version": 3
   },
   "file_extension": ".py",
   "mimetype": "text/x-python",
   "name": "python",
   "nbconvert_exporter": "python",
   "pygments_lexer": "ipython3",
   "version": "3.8.13"
  },
  "toc-autonumbering": true,
  "toc-showtags": false
 },
 "nbformat": 4,
 "nbformat_minor": 5
}
