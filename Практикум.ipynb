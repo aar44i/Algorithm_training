{
 "cells": [
  {
   "cell_type": "markdown",
   "id": "5125c24b",
   "metadata": {},
   "source": [
    "Ответьте на его вопрос: «Чем отличается DataFrame от Series?»"
   ]
  },
  {
   "cell_type": "markdown",
   "id": "862aa0c3",
   "metadata": {},
   "source": [
    "В первую очередь стоит разобраться, что такое объекты Series и Data Frame сами по себе.  "
   ]
  },
  {
   "cell_type": "markdown",
   "id": "5b02e73a",
   "metadata": {},
   "source": [
    "# Структура данных Series"
   ]
  },
  {
   "cell_type": "markdown",
   "id": "0762f336",
   "metadata": {},
   "source": [
    "**Series** - похожий на массив объект, который имеет одну важную отличительную особенность - *индексы*.\n",
    "\n",
    "*Индексы* - это определенный массив меток, позволяющий гораздо удобнее обращатсья к элементам Series. Индексами могут быть порядковые номера элементов, даты, имена и любые другие признаки. Наличие индексов делает анализ с помощью Series гораздо удобнее.\n",
    "\n",
    "Пример работы с Series:"
   ]
  },
  {
   "cell_type": "code",
   "execution_count": 4,
   "id": "749cfab7",
   "metadata": {},
   "outputs": [],
   "source": [
    "import pandas as pd\n",
    "import numpy as np"
   ]
  },
  {
   "cell_type": "markdown",
   "id": "5bec37c8",
   "metadata": {},
   "source": [
    "Создание объекта Series "
   ]
  },
  {
   "cell_type": "code",
   "execution_count": 22,
   "id": "fd8c8955",
   "metadata": {},
   "outputs": [
    {
     "name": "stdout",
     "output_type": "stream",
     "text": [
      "Создание обьекта Series:\n"
     ]
    },
    {
     "data": {
      "text/plain": [
       "0    1\n",
       "1    2\n",
       "2    3\n",
       "3    4\n",
       "4    5\n",
       "5    6\n",
       "6    7\n",
       "dtype: int64"
      ]
     },
     "execution_count": 22,
     "metadata": {},
     "output_type": "execute_result"
    }
   ],
   "source": [
    "print(\"Создание обьекта Series:\")\n",
    "obj = pd.Series([1,2,3,4,5,6,7])\n",
    "obj"
   ]
  },
  {
   "cell_type": "markdown",
   "id": "50065523",
   "metadata": {},
   "source": [
    " Series позволяет проводить арифмитические операции над элементами и условные выражения"
   ]
  },
  {
   "cell_type": "code",
   "execution_count": 33,
   "id": "7c483484",
   "metadata": {},
   "outputs": [
    {
     "name": "stdout",
     "output_type": "stream",
     "text": [
      "Все элементы, больше чем 4\n",
      "4    5\n",
      "5    6\n",
      "6    7\n",
      "dtype: int64\n",
      "Все элементы, умноженные на 3\n",
      "0     3\n",
      "1     6\n",
      "2     9\n",
      "3    12\n",
      "4    15\n",
      "5    18\n",
      "6    21\n",
      "dtype: int64\n"
     ]
    }
   ],
   "source": [
    "print('Все элементы, больше чем 4')\n",
    "print(obj[obj > 4])\n",
    "print('Все элементы, умноженные на 3')\n",
    "print(obj * 3)"
   ]
  },
  {
   "cell_type": "markdown",
   "id": "438cb86d",
   "metadata": {},
   "source": [
    "Объект Series может содержать не только числовые значения, но и строковые данные "
   ]
  },
  {
   "cell_type": "code",
   "execution_count": 7,
   "id": "c3bf93a0",
   "metadata": {},
   "outputs": [
    {
     "name": "stdout",
     "output_type": "stream",
     "text": [
      "Создание обьекта Series со строковым типом данных:\n"
     ]
    },
    {
     "data": {
      "text/plain": [
       "0      Маша\n",
       "1     Антон\n",
       "2    Сергей\n",
       "3     Света\n",
       "dtype: object"
      ]
     },
     "execution_count": 7,
     "metadata": {},
     "output_type": "execute_result"
    }
   ],
   "source": [
    "print(\"Создание обьекта Series со строковым типом данных:\")\n",
    "obj2 = pd.Series(['Маша','Антон','Сергей','Света'])\n",
    "obj2"
   ]
  },
  {
   "cell_type": "markdown",
   "id": "f7471b53",
   "metadata": {},
   "source": [
    "Помимо самих объектов Series, мы так же можем задать и значения индексов. Например, давайте попробуем создать объект Series с информацией о любимых блюдах школьников. В качестве индексов будем использовать имена, а в качестве элемента, их любимые блюда. "
   ]
  },
  {
   "cell_type": "code",
   "execution_count": 18,
   "id": "fbcde9c8",
   "metadata": {},
   "outputs": [
    {
     "name": "stdout",
     "output_type": "stream",
     "text": [
      "Создание обьекта Series с указанием индексов:\n"
     ]
    },
    {
     "data": {
      "text/plain": [
       "Маша                    Пельмени\n",
       "Антон                Куриный суп\n",
       "Сережа    Картофельная запеканка\n",
       "Света                    Голубцы\n",
       "dtype: object"
      ]
     },
     "execution_count": 18,
     "metadata": {},
     "output_type": "execute_result"
    }
   ],
   "source": [
    "print(\"Создание обьекта Series с указанием индексов:\")\n",
    "obj2 = pd.Series(['Пельмени','Куриный суп','Картофельная запеканка','Голубцы'], \n",
    "                 index = ['Маша','Антон','Сережа','Света'])\n",
    "obj2"
   ]
  },
  {
   "cell_type": "markdown",
   "id": "b924fc30",
   "metadata": {},
   "source": [
    "Теперь, имея такую удобную структуру данных, мы можем очень просто обращаться к интересующему элементу списка. Например мы хотим узнать любимое блюда Сережи:"
   ]
  },
  {
   "cell_type": "code",
   "execution_count": 14,
   "id": "189f5009",
   "metadata": {},
   "outputs": [
    {
     "name": "stdout",
     "output_type": "stream",
     "text": [
      "Обращение к элементу списка по индексу:\n"
     ]
    },
    {
     "data": {
      "text/plain": [
       "'Картофельная запеканка'"
      ]
     },
     "execution_count": 14,
     "metadata": {},
     "output_type": "execute_result"
    }
   ],
   "source": [
    "print(\"Обращение к элементу списка по индексу:\")\n",
    "obj2['Сережа']"
   ]
  },
  {
   "cell_type": "markdown",
   "id": "af4a7c96",
   "metadata": {},
   "source": [
    "С помощью обращения к объекту Series по индексу, мы можем изменить какое то определенное значение. Например, мы хотим изменить любимое блюдо у Маши. Для этого мы обращаемся к элементу с индексом Маша и присваиваем ему значение нового блюда "
   ]
  },
  {
   "cell_type": "code",
   "execution_count": 21,
   "id": "57033468",
   "metadata": {},
   "outputs": [
    {
     "name": "stdout",
     "output_type": "stream",
     "text": [
      "Изменение определенного элемента:\n"
     ]
    },
    {
     "data": {
      "text/plain": [
       "Маша                        Борщ\n",
       "Антон                Куриный суп\n",
       "Сережа    Картофельная запеканка\n",
       "Света                    Голубцы\n",
       "dtype: object"
      ]
     },
     "execution_count": 21,
     "metadata": {},
     "output_type": "execute_result"
    }
   ],
   "source": [
    "print(\"Изменение определенного элемента:\")\n",
    "obj2['Маша'] = 'Борщ'\n",
    "obj2"
   ]
  },
  {
   "cell_type": "markdown",
   "id": "de7efe4d",
   "metadata": {},
   "source": [
    "Также мы можем проверить, есть ли тот или иной индекс в Series. В зависимости от того, есть ли тот или иной обьект, программа выведет нам значение True или False."
   ]
  },
  {
   "cell_type": "code",
   "execution_count": 27,
   "id": "f9a7fa4b",
   "metadata": {},
   "outputs": [
    {
     "name": "stdout",
     "output_type": "stream",
     "text": [
      "True\n"
     ]
    }
   ],
   "source": [
    "print('Света' in obj2)"
   ]
  },
  {
   "cell_type": "code",
   "execution_count": 26,
   "id": "33bff449",
   "metadata": {},
   "outputs": [
    {
     "name": "stdout",
     "output_type": "stream",
     "text": [
      "False\n"
     ]
    }
   ],
   "source": [
    "print('Олег' in obj2)"
   ]
  },
  {
   "cell_type": "markdown",
   "id": "6f4da962",
   "metadata": {},
   "source": [
    "# Структура данных DataFrame"
   ]
  },
  {
   "cell_type": "markdown",
   "id": "64875a9d",
   "metadata": {},
   "source": [
    "Если Series представляет собой одномерную структуру, которую для себя можно представить как таблицу с одной строкой, то  **DataFrame** – это уже двумерная структура – полноценная таблица с множеством строк и столбцов самых разных типов. \n",
    "\n",
    "Можно сказать что главное отличие **DataFrame** от **Series** в том, что в объекте **DataFrame** храняться два индекса а не один: по столбцам и по строкам.\n",
    "\n",
    "Конструктор класса DataFrame выглядит так:  \n",
    "`class pandas.DataFrame(data=None, index=None, columns=None, dtype=None, copy=False)`\n",
    "\n",
    "*data* – массив ndarray, словарь (dict) или другой DataFrame;  \n",
    "*index* – список меток для записей (имена строк таблицы);  \n",
    "*columns* – список меток для полей (имена столбцов таблицы);  \n",
    "*dtype* – объект numpy.dtype, определяющий тип данных;  \n",
    "*copy* – создает копию массива данных, если параметр равен True в ином случае ничего не делает."
   ]
  },
  {
   "cell_type": "code",
   "execution_count": null,
   "id": "748995e0",
   "metadata": {},
   "outputs": [],
   "source": []
  },
  {
   "cell_type": "markdown",
   "id": "7346f79c",
   "metadata": {},
   "source": [
    "Давайте вспомним уже знакомых школьников и их любимые блюда и добавим еще полезной информации."
   ]
  },
  {
   "cell_type": "code",
   "execution_count": 74,
   "id": "f05a832e",
   "metadata": {},
   "outputs": [
    {
     "data": {
      "text/html": [
       "<div>\n",
       "<style scoped>\n",
       "    .dataframe tbody tr th:only-of-type {\n",
       "        vertical-align: middle;\n",
       "    }\n",
       "\n",
       "    .dataframe tbody tr th {\n",
       "        vertical-align: top;\n",
       "    }\n",
       "\n",
       "    .dataframe thead th {\n",
       "        text-align: right;\n",
       "    }\n",
       "</style>\n",
       "<table border=\"1\" class=\"dataframe\">\n",
       "  <thead>\n",
       "    <tr style=\"text-align: right;\">\n",
       "      <th></th>\n",
       "      <th>Любимые блюда</th>\n",
       "      <th>Возраст</th>\n",
       "      <th>Вес</th>\n",
       "    </tr>\n",
       "  </thead>\n",
       "  <tbody>\n",
       "    <tr>\n",
       "      <th>Маша</th>\n",
       "      <td>Пельмени</td>\n",
       "      <td>8</td>\n",
       "      <td>28</td>\n",
       "    </tr>\n",
       "    <tr>\n",
       "      <th>Антон</th>\n",
       "      <td>Куриный суп</td>\n",
       "      <td>9</td>\n",
       "      <td>36</td>\n",
       "    </tr>\n",
       "    <tr>\n",
       "      <th>Сережа</th>\n",
       "      <td>Картофельная запеканка</td>\n",
       "      <td>11</td>\n",
       "      <td>41</td>\n",
       "    </tr>\n",
       "    <tr>\n",
       "      <th>Света</th>\n",
       "      <td>Голубцы</td>\n",
       "      <td>7</td>\n",
       "      <td>34</td>\n",
       "    </tr>\n",
       "  </tbody>\n",
       "</table>\n",
       "</div>"
      ],
      "text/plain": [
       "                 Любимые блюда  Возраст  Вес\n",
       "Маша                  Пельмени        8   28\n",
       "Антон              Куриный суп        9   36\n",
       "Сережа  Картофельная запеканка       11   41\n",
       "Света                  Голубцы        7   34"
      ]
     },
     "execution_count": 74,
     "metadata": {},
     "output_type": "execute_result"
    }
   ],
   "source": [
    "ind = ['Маша','Антон','Сережа','Света']\n",
    "data = {'Любимые блюда': ['Пельмени','Куриный суп','Картофельная запеканка','Голубцы'], \n",
    "        'Возраст':[8, 9, 11, 7],\n",
    "       'Вес': [28, 36, 41, 34]}\n",
    "df = pd.DataFrame(data, index = ind)\n",
    "df\n"
   ]
  },
  {
   "cell_type": "markdown",
   "id": "2ccf09a5",
   "metadata": {},
   "source": [
    "Теперь мы можем обращаться к данным не только по строчно, но и с помощью столбцов, например мы хотим узнать возраст всех школьников."
   ]
  },
  {
   "cell_type": "code",
   "execution_count": 75,
   "id": "695048ca",
   "metadata": {},
   "outputs": [
    {
     "data": {
      "text/plain": [
       "Маша       8\n",
       "Антон      9\n",
       "Сережа    11\n",
       "Света      7\n",
       "Name: Возраст, dtype: int64"
      ]
     },
     "execution_count": 75,
     "metadata": {},
     "output_type": "execute_result"
    }
   ],
   "source": [
    "df['Возраст']"
   ]
  },
  {
   "cell_type": "markdown",
   "id": "cac27d95",
   "metadata": {},
   "source": [
    "В DataFrame обращения к строкам осуществляются с помощью метода .loc. Например мы хотим узнать все данные о Свете:"
   ]
  },
  {
   "cell_type": "code",
   "execution_count": 76,
   "id": "31444408",
   "metadata": {},
   "outputs": [
    {
     "data": {
      "text/plain": [
       "Любимые блюда    Голубцы\n",
       "Возраст                7\n",
       "Вес                   34\n",
       "Name: Света, dtype: object"
      ]
     },
     "execution_count": 76,
     "metadata": {},
     "output_type": "execute_result"
    }
   ],
   "source": [
    "df.loc['Света']"
   ]
  },
  {
   "cell_type": "markdown",
   "id": "fe3d7cdb",
   "metadata": {},
   "source": [
    "Так же можно испольвать так назваемые срезы, для обращения к данным с учетом как строк, так и столбцов"
   ]
  },
  {
   "cell_type": "code",
   "execution_count": 90,
   "id": "44f3f1e4",
   "metadata": {},
   "outputs": [
    {
     "data": {
      "text/html": [
       "<div>\n",
       "<style scoped>\n",
       "    .dataframe tbody tr th:only-of-type {\n",
       "        vertical-align: middle;\n",
       "    }\n",
       "\n",
       "    .dataframe tbody tr th {\n",
       "        vertical-align: top;\n",
       "    }\n",
       "\n",
       "    .dataframe thead th {\n",
       "        text-align: right;\n",
       "    }\n",
       "</style>\n",
       "<table border=\"1\" class=\"dataframe\">\n",
       "  <thead>\n",
       "    <tr style=\"text-align: right;\">\n",
       "      <th></th>\n",
       "      <th>Возраст</th>\n",
       "    </tr>\n",
       "  </thead>\n",
       "  <tbody>\n",
       "    <tr>\n",
       "      <th>Маша</th>\n",
       "      <td>8</td>\n",
       "    </tr>\n",
       "    <tr>\n",
       "      <th>Антон</th>\n",
       "      <td>9</td>\n",
       "    </tr>\n",
       "  </tbody>\n",
       "</table>\n",
       "</div>"
      ],
      "text/plain": [
       "       Возраст\n",
       "Маша         8\n",
       "Антон        9"
      ]
     },
     "execution_count": 90,
     "metadata": {},
     "output_type": "execute_result"
    }
   ],
   "source": [
    "df.iloc[0:2, 1:2]"
   ]
  },
  {
   "cell_type": "markdown",
   "id": "f187e823",
   "metadata": {},
   "source": [
    "В DataFrame мы в целом можем приминять все те арифмитические операции и условные выражения что и в Series."
   ]
  },
  {
   "cell_type": "code",
   "execution_count": 85,
   "id": "aa18362b",
   "metadata": {},
   "outputs": [
    {
     "name": "stdout",
     "output_type": "stream",
     "text": [
      "Средний вес всех школьников:\n",
      "34.75\n",
      "Максимальный возраст школьников:\n",
      "11\n",
      "Имена школьников, старше 8 лет:\n",
      "['Антон', 'Сережа']\n"
     ]
    }
   ],
   "source": [
    "print('Средний вес всех школьников:')\n",
    "print(df['Вес'].mean())\n",
    "print('Максимальный возраст школьников:')\n",
    "print(df['Возраст'].max())\n",
    "print('Имена школьников, старше 8 лет:')\n",
    "print(list(df[df['Возраст'] > 8].index))"
   ]
  },
  {
   "cell_type": "code",
   "execution_count": null,
   "id": "a3a41014",
   "metadata": {},
   "outputs": [],
   "source": [
    "# каждое число встреч 2 раза, и только одно число - 1 раз, найти его \n",
    "ll = [1,1,2,2,3]\n",
    "[1,2,2,3,3]\n",
    "[1,1,2,3,3]\n",
    "# можно отсортировать массив, тогда у одного числа не будет пары\n",
    "def twonums(lst):\n",
    "    lst_sort = slt.sort()\n",
    "    for i in range(len(lst)):\n",
    "        if \n",
    "return x \n",
    "            "
   ]
  },
  {
   "cell_type": "code",
   "execution_count": 23,
   "id": "2aca587e",
   "metadata": {},
   "outputs": [
    {
     "name": "stdout",
     "output_type": "stream",
     "text": [
      "4\n"
     ]
    }
   ],
   "source": [
    "x = [1,2,3,4,5,4,3,2,1]\n",
    "# x = [1,1,2,2,3]\n",
    "x = [4,1,2,1,2]\n",
    "for i in x:\n",
    "\tif x.count(i) == 1:\n",
    "\t\tprint(i)"
   ]
  },
  {
   "cell_type": "code",
   "execution_count": 25,
   "id": "7469f194",
   "metadata": {},
   "outputs": [
    {
     "ename": "TypeError",
     "evalue": "list indices must be integers or slices, not type",
     "output_type": "error",
     "traceback": [
      "\u001b[1;31m---------------------------------------------------------------------------\u001b[0m",
      "\u001b[1;31mTypeError\u001b[0m                                 Traceback (most recent call last)",
      "\u001b[1;32m<ipython-input-25-789808f8539b>\u001b[0m in \u001b[0;36m<module>\u001b[1;34m\u001b[0m\n\u001b[0;32m      1\u001b[0m \u001b[0mnums\u001b[0m \u001b[1;33m=\u001b[0m \u001b[1;33m[\u001b[0m\u001b[1;36m4\u001b[0m\u001b[1;33m,\u001b[0m\u001b[1;36m1\u001b[0m\u001b[1;33m,\u001b[0m\u001b[1;36m2\u001b[0m\u001b[1;33m,\u001b[0m\u001b[1;36m1\u001b[0m\u001b[1;33m,\u001b[0m\u001b[1;36m2\u001b[0m\u001b[1;33m]\u001b[0m\u001b[1;33m\u001b[0m\u001b[1;33m\u001b[0m\u001b[0m\n\u001b[1;32m----> 2\u001b[1;33m \u001b[1;32mdef\u001b[0m \u001b[0msingleNumber\u001b[0m\u001b[1;33m(\u001b[0m\u001b[0mself\u001b[0m\u001b[1;33m,\u001b[0m \u001b[0mnums\u001b[0m\u001b[1;33m:\u001b[0m \u001b[0mList\u001b[0m\u001b[1;33m[\u001b[0m\u001b[0mint\u001b[0m\u001b[1;33m]\u001b[0m\u001b[1;33m)\u001b[0m \u001b[1;33m->\u001b[0m \u001b[0mint\u001b[0m\u001b[1;33m:\u001b[0m\u001b[1;33m\u001b[0m\u001b[1;33m\u001b[0m\u001b[0m\n\u001b[0m\u001b[0;32m      3\u001b[0m     \u001b[1;32mif\u001b[0m\u001b[1;33m(\u001b[0m\u001b[0mlen\u001b[0m\u001b[1;33m(\u001b[0m\u001b[0mnums\u001b[0m\u001b[1;33m)\u001b[0m\u001b[1;33m==\u001b[0m\u001b[1;36m1\u001b[0m\u001b[1;33m)\u001b[0m\u001b[1;33m:\u001b[0m\u001b[1;33m\u001b[0m\u001b[1;33m\u001b[0m\u001b[0m\n\u001b[0;32m      4\u001b[0m         \u001b[1;32mreturn\u001b[0m \u001b[0mnums\u001b[0m\u001b[1;33m[\u001b[0m\u001b[1;36m0\u001b[0m\u001b[1;33m]\u001b[0m\u001b[1;33m\u001b[0m\u001b[1;33m\u001b[0m\u001b[0m\n\u001b[0;32m      5\u001b[0m \u001b[1;33m\u001b[0m\u001b[0m\n",
      "\u001b[1;31mTypeError\u001b[0m: list indices must be integers or slices, not type"
     ]
    }
   ],
   "source": [
    "nums = [4,1,2,1,2]\n",
    "def singleNumber(self, nums: List[int]) -> int:\n",
    "    if(len(nums)==1):\n",
    "        return nums[0]\n",
    "\n",
    "    else:\n",
    "        nums=Counter(nums)\n",
    "        for x in nums:\n",
    "            if(nums[x]==1):\n",
    "                return x\n",
    "singleNumber(nums)"
   ]
  },
  {
   "cell_type": "code",
   "execution_count": 14,
   "id": "f5e00f73",
   "metadata": {},
   "outputs": [
    {
     "data": {
      "text/plain": [
       "20"
      ]
     },
     "execution_count": 14,
     "metadata": {},
     "output_type": "execute_result"
    }
   ],
   "source": [
    "ll = [1,1,2,2,3,3,20]\n",
    "# ll = [1,2,3] SET\n",
    "sum(set(ll)) * 2 - sum(ll)"
   ]
  },
  {
   "cell_type": "code",
   "execution_count": 17,
   "id": "b957d53b",
   "metadata": {},
   "outputs": [],
   "source": [
    "def nth_fibonacci(n):\n",
    "    if n <= 1:\n",
    "        return n\n",
    "    previous, current = 0, 1\n",
    "    for _ in range(n - 1):\n",
    "        previous, current = current, previous + current\n",
    "    return current "
   ]
  },
  {
   "cell_type": "code",
   "execution_count": 58,
   "id": "72910453",
   "metadata": {},
   "outputs": [
    {
     "data": {
      "text/plain": [
       "13"
      ]
     },
     "execution_count": 58,
     "metadata": {},
     "output_type": "execute_result"
    }
   ],
   "source": [
    "nth_fibonacci(7)"
   ]
  },
  {
   "cell_type": "code",
   "execution_count": 20,
   "id": "d325618b",
   "metadata": {},
   "outputs": [],
   "source": [
    ">>> def fibonacci_of(n):\n",
    "...     if n in {0, 1}:  # Base case\n",
    "...         return n\n",
    "...     return fibonacci_of(n - 1) + fibonacci_of(n - 2)  # Recursive case"
   ]
  },
  {
   "cell_type": "code",
   "execution_count": 22,
   "id": "e4e9c9a0",
   "metadata": {},
   "outputs": [
    {
     "data": {
      "text/plain": [
       "8"
      ]
     },
     "execution_count": 22,
     "metadata": {},
     "output_type": "execute_result"
    }
   ],
   "source": [
    "fibonacci_of(6)"
   ]
  },
  {
   "cell_type": "code",
   "execution_count": 4,
   "id": "de7f4f0f",
   "metadata": {},
   "outputs": [],
   "source": [
    "def quicksort(lst):\n",
    "    if len(lst) < 2:\n",
    "        return lst\n",
    "    else:\n",
    "        pivot = lst[0]\n",
    "        less = [i for i in lst[1:] if i <= pivot]\n",
    "        great = [i for i in lst[1:] if i > pivot]\n",
    "    return quicksort(less) + [pivot] + quicksort(great)"
   ]
  },
  {
   "cell_type": "code",
   "execution_count": 9,
   "id": "1ced0d5d",
   "metadata": {},
   "outputs": [
    {
     "data": {
      "text/plain": [
       "[2, 5, 10, 12, 56, 77, 341]"
      ]
     },
     "execution_count": 9,
     "metadata": {},
     "output_type": "execute_result"
    }
   ],
   "source": [
    "lst = [10,56,341,12,2,77,5]\n",
    "\n",
    "quicksort(lst)"
   ]
  },
  {
   "cell_type": "code",
   "execution_count": 12,
   "id": "5dd40dea",
   "metadata": {},
   "outputs": [
    {
     "data": {
      "text/plain": [
       "12"
      ]
     },
     "execution_count": 12,
     "metadata": {},
     "output_type": "execute_result"
    }
   ],
   "source": [
    "ind = len(lst) // 2\n",
    "lst[ind]"
   ]
  },
  {
   "cell_type": "code",
   "execution_count": 62,
   "id": "ab412329",
   "metadata": {},
   "outputs": [
    {
     "name": "stdout",
     "output_type": "stream",
     "text": [
      "0\n",
      "1\n",
      "1\n",
      "2\n",
      "3\n",
      "5\n",
      "8\n",
      "13\n",
      "21\n",
      "34\n",
      "55\n",
      "89\n"
     ]
    }
   ],
   "source": [
    "def fibonacci_of(n):\n",
    "    if n in {0, 1}:  # Base case\n",
    "        return n\n",
    "    return fibonacci_of(n - 1) + fibonacci_of(n - 2)  # Recursive case\n",
    "for i in range(0,12):\n",
    "    print(fibonacci_of(i))"
   ]
  },
  {
   "cell_type": "code",
   "execution_count": 67,
   "id": "905f853d",
   "metadata": {},
   "outputs": [
    {
     "data": {
      "text/plain": [
       "[3, 2, 1]"
      ]
     },
     "execution_count": 67,
     "metadata": {},
     "output_type": "execute_result"
    }
   ],
   "source": [
    "def rev(x):\n",
    "    return x[::-1]\n",
    "rev([1,2,3])"
   ]
  },
  {
   "cell_type": "markdown",
   "id": "edd514ee",
   "metadata": {},
   "source": [
    "# set of duplicates"
   ]
  },
  {
   "cell_type": "code",
   "execution_count": 71,
   "id": "61e42fc9",
   "metadata": {},
   "outputs": [
    {
     "name": "stdout",
     "output_type": "stream",
     "text": [
      "{10, 2}\n"
     ]
    }
   ],
   "source": [
    "lst = [10,10,10,12,2,2,5,77]\n",
    "print(set(i for i in lst if lst.count(i) > 1))"
   ]
  },
  {
   "cell_type": "code",
   "execution_count": 72,
   "id": "c31422dc",
   "metadata": {},
   "outputs": [
    {
     "name": "stdout",
     "output_type": "stream",
     "text": [
      "4\n"
     ]
    }
   ],
   "source": [
    "text = 'В лесу родилась ёлочка'\n",
    "print(len(text.split()))"
   ]
  },
  {
   "cell_type": "code",
   "execution_count": 74,
   "id": "83331a6a",
   "metadata": {},
   "outputs": [
    {
     "data": {
      "text/plain": [
       "12333099"
      ]
     },
     "execution_count": 74,
     "metadata": {},
     "output_type": "execute_result"
    }
   ],
   "source": [
    "string = '12jkjkpj333mlkkjopk099'\n",
    "res = ''.join(filter(lambda i: i.isdigit(), string))\n",
    "int(res)"
   ]
  },
  {
   "cell_type": "code",
   "execution_count": 1,
   "id": "3e671e04",
   "metadata": {},
   "outputs": [],
   "source": [
    "def poli(x):\n",
    "    return x[::-1]"
   ]
  },
  {
   "cell_type": "code",
   "execution_count": 2,
   "id": "d1ea2765",
   "metadata": {},
   "outputs": [
    {
     "data": {
      "text/plain": [
       "'ytrewq'"
      ]
     },
     "execution_count": 2,
     "metadata": {},
     "output_type": "execute_result"
    }
   ],
   "source": [
    "poli('qwerty')"
   ]
  },
  {
   "cell_type": "code",
   "execution_count": null,
   "id": "c54e5ff9",
   "metadata": {},
   "outputs": [],
   "source": []
  }
 ],
 "metadata": {
  "kernelspec": {
   "display_name": "Python 3",
   "language": "python",
   "name": "python3"
  },
  "language_info": {
   "codemirror_mode": {
    "name": "ipython",
    "version": 3
   },
   "file_extension": ".py",
   "mimetype": "text/x-python",
   "name": "python",
   "nbconvert_exporter": "python",
   "pygments_lexer": "ipython3",
   "version": "3.8.8"
  }
 },
 "nbformat": 4,
 "nbformat_minor": 5
}
