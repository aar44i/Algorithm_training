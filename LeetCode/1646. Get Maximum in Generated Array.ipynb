{
 "cells": [
  {
   "cell_type": "markdown",
   "id": "37dc0ab4",
   "metadata": {},
   "source": [
    "You are given an integer n. A 0-indexed integer array nums of length n + 1 is generated in the following way:\n",
    "\n",
    "`nums[0] = 0\n",
    "nums[1] = 1\n",
    "nums[2 * i] = nums[i] when 2 <= 2 * i <= n\n",
    "nums[2 * i + 1] = nums[i] + nums[i + 1] when 2 <= 2 * i + 1 <= n`\n",
    "\n",
    "Return the maximum integer in the array nums​​​."
   ]
  },
  {
   "cell_type": "markdown",
   "id": "7e0aa020",
   "metadata": {},
   "source": [
    "`Input: n = 7\n",
    "Output: 3\n",
    "Explanation: According to the given rules:\n",
    "  nums[0] = 0\n",
    "  nums[1] = 1\n",
    "  nums[(1 * 2) = 2] = nums[1] = 1\n",
    "  nums[(1 * 2) + 1 = 3] = nums[1] + nums[2] = 1 + 1 = 2\n",
    "  nums[(2 * 2) = 4] = nums[2] = 1\n",
    "  nums[(2 * 2) + 1 = 5] = nums[2] + nums[3] = 1 + 2 = 3\n",
    "  nums[(3 * 2) = 6] = nums[3] = 2\n",
    "  nums[(3 * 2) + 1 = 7] = nums[3] + nums[4] = 2 + 1 = 3\n",
    "Hence, nums = [0,1,1,2,1,3,2,3], and the maximum is max(0,1,1,2,1,3,2,3) = 3.`"
   ]
  },
  {
   "cell_type": "code",
   "execution_count": 4,
   "id": "2a95eb26",
   "metadata": {},
   "outputs": [],
   "source": [
    "def getMaximumGenerated(n):\n",
    "    if n < 1:\n",
    "        return 0\n",
    "\n",
    "    nums = [None for i in range(n + 1)]\n",
    "\n",
    "    nums[0] = 0\n",
    "    nums[1] = 1\n",
    "\n",
    "    for i in range(0, n + 1):\n",
    "\n",
    "\n",
    "        if 2 <= 2 * i <= n:\n",
    "            nums[2 * i] = nums[i]\n",
    "\n",
    "        if 2 <= 2 * i + 1 <= n:\n",
    "            nums[2 * i + 1] = nums[i] + nums[i + 1]\n",
    "\n",
    "    return max(nums)"
   ]
  },
  {
   "cell_type": "code",
   "execution_count": 17,
   "id": "66a73290",
   "metadata": {},
   "outputs": [],
   "source": [
    "def getMaximumGenerated(n):\n",
    "    n= 10\n",
    "    nums = [None for i in range(n + 1)]\n",
    "    nums[0] = 0\n",
    "    nums[1] = 1\n",
    "    for i in range(0, n + 1):\n",
    "        if 2 <= 2 * i <= n:\n",
    "            nums[2 * i] = nums[i]\n",
    "        if 2 <= 2 * i + 1 <= n:\n",
    "            nums[2 * i + 1] = nums[i] + nums[i + 1]\n",
    "    return nums"
   ]
  },
  {
   "cell_type": "code",
   "execution_count": 18,
   "id": "ea55f78b",
   "metadata": {},
   "outputs": [
    {
     "data": {
      "text/plain": [
       "[0, 1, 1, 2, 1, 3, 2, 3, 1, 4, 3]"
      ]
     },
     "execution_count": 18,
     "metadata": {},
     "output_type": "execute_result"
    }
   ],
   "source": [
    "getMaximumGenerated(10)"
   ]
  },
  {
   "cell_type": "code",
   "execution_count": null,
   "id": "c3e49c78",
   "metadata": {},
   "outputs": [],
   "source": [
    "class Solution:\n",
    "    def getMaximumGenerated(self, n: int) -> int:\n",
    "        v = [0,1]\n",
    "        for i in range(2,n+1,2):\n",
    "            v.append(v[i//2])\n",
    "            v.append(v[i//2] + v[i//2+1])\n",
    "        if n%2 ==0:\n",
    "            return max(v[:-1])\n",
    "        return max(v)"
   ]
  }
 ],
 "metadata": {
  "kernelspec": {
   "display_name": "Python 3",
   "language": "python",
   "name": "python3"
  },
  "language_info": {
   "codemirror_mode": {
    "name": "ipython",
    "version": 3
   },
   "file_extension": ".py",
   "mimetype": "text/x-python",
   "name": "python",
   "nbconvert_exporter": "python",
   "pygments_lexer": "ipython3",
   "version": "3.8.8"
  }
 },
 "nbformat": 4,
 "nbformat_minor": 5
}
