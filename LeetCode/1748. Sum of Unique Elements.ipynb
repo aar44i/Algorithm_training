{
 "cells": [
  {
   "cell_type": "markdown",
   "id": "3d22c9d8",
   "metadata": {},
   "source": [
    "You are given an integer array nums. The unique elements of an array are the elements that appear exactly once in the array.\n",
    "\n",
    "Return the sum of all the unique elements of nums."
   ]
  },
  {
   "cell_type": "markdown",
   "id": "76b9d597",
   "metadata": {},
   "source": [
    "`Input: nums = [1,2,3,2]\n",
    "Output: 4\n",
    "Explanation: The unique elements are [1,3], and the sum is 4.`"
   ]
  },
  {
   "cell_type": "markdown",
   "id": "5c3d06ae",
   "metadata": {},
   "source": [
    "`Input: nums = [1,1,1,1,1]\n",
    "Output: 0\n",
    "Explanation: There are no unique elements, and the sum is 0.`"
   ]
  },
  {
   "cell_type": "markdown",
   "id": "269656cf",
   "metadata": {},
   "source": [
    "`Input: nums = [1,2,3,4,5]\n",
    "Output: 15\n",
    "Explanation: The unique elements are [1,2,3,4,5], and the sum is 15.`"
   ]
  },
  {
   "cell_type": "code",
   "execution_count": 4,
   "id": "cd8e5a88",
   "metadata": {},
   "outputs": [
    {
     "data": {
      "text/plain": [
       "6"
      ]
     },
     "execution_count": 4,
     "metadata": {},
     "output_type": "execute_result"
    }
   ],
   "source": [
    "nums = [1,2,3,2]\n",
    "sum(set(nums))"
   ]
  },
  {
   "cell_type": "code",
   "execution_count": 11,
   "id": "1661c6d8",
   "metadata": {},
   "outputs": [
    {
     "data": {
      "text/plain": [
       "4"
      ]
     },
     "execution_count": 11,
     "metadata": {},
     "output_type": "execute_result"
    }
   ],
   "source": [
    "nums = [1,2,3,2]\n",
    "unique=[i for i in nums if nums.count(i)==1]\n",
    "sum(unique)"
   ]
  },
  {
   "cell_type": "code",
   "execution_count": 13,
   "id": "e6904eff",
   "metadata": {},
   "outputs": [
    {
     "data": {
      "text/plain": [
       "1"
      ]
     },
     "execution_count": 13,
     "metadata": {},
     "output_type": "execute_result"
    }
   ],
   "source": [
    "nums.count(3)"
   ]
  },
  {
   "cell_type": "code",
   "execution_count": null,
   "id": "3e760019",
   "metadata": {},
   "outputs": [],
   "source": []
  }
 ],
 "metadata": {
  "kernelspec": {
   "display_name": "Python 3",
   "language": "python",
   "name": "python3"
  },
  "language_info": {
   "codemirror_mode": {
    "name": "ipython",
    "version": 3
   },
   "file_extension": ".py",
   "mimetype": "text/x-python",
   "name": "python",
   "nbconvert_exporter": "python",
   "pygments_lexer": "ipython3",
   "version": "3.8.8"
  }
 },
 "nbformat": 4,
 "nbformat_minor": 5
}
