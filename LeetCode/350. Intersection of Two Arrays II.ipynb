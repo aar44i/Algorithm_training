{
 "cells": [
  {
   "cell_type": "markdown",
   "id": "1f0c2ade",
   "metadata": {},
   "source": [
    "Given two integer arrays nums1 and nums2, return an array of their intersection. Each element in the result must appear as many times as it shows in both arrays and you may return the result in any order."
   ]
  },
  {
   "cell_type": "markdown",
   "id": "abe5e4d2",
   "metadata": {},
   "source": [
    "`Input: nums1 = [1,2,2,1], nums2 = [2,2]\n",
    "Output: [2,2]`"
   ]
  },
  {
   "cell_type": "markdown",
   "id": "3191905f",
   "metadata": {},
   "source": [
    "`Input: nums1 = [4,9,5], nums2 = [9,4,9,8,4]\n",
    "Output: [4,9]\n",
    "Explanation: [9,4] is also accepted.`"
   ]
  },
  {
   "cell_type": "code",
   "execution_count": 89,
   "id": "60432e9b",
   "metadata": {},
   "outputs": [],
   "source": [
    "nums1 = [4,9,5] \n",
    "nums2 = [9,4,9,8,4]"
   ]
  },
  {
   "cell_type": "code",
   "execution_count": 90,
   "id": "17aa2a1b",
   "metadata": {},
   "outputs": [],
   "source": [
    "def TwoArrays(nums1, nums2):\n",
    "    new_array = []\n",
    "    st_list = list(set(nums1))\n",
    "    for i in range(len(st_list)):\n",
    "        if st_list[i] in nums2:\n",
    "            new_array.append(nums1[i])\n",
    "    return new_array"
   ]
  },
  {
   "cell_type": "code",
   "execution_count": 91,
   "id": "52f83f48",
   "metadata": {},
   "outputs": [
    {
     "data": {
      "text/plain": [
       "[4, 9]"
      ]
     },
     "execution_count": 91,
     "metadata": {},
     "output_type": "execute_result"
    }
   ],
   "source": [
    "TwoArrays(nums1, nums2)"
   ]
  },
  {
   "cell_type": "code",
   "execution_count": 96,
   "id": "14db8d0a",
   "metadata": {},
   "outputs": [],
   "source": [
    "def TwoArraysBasic(nums1, nums2):\n",
    "    i, j = 0, 0\n",
    "    new_array = []\n",
    "    nums1, nums2 = sorted(nums1), sorted(nums2)\n",
    "    while i < len(nums1) and j < len(nums2):\n",
    "        if nums1[i] < nums2[j]:\n",
    "            i += 1\n",
    "        elif nums1[i] > nums2[j]:\n",
    "            j += 1\n",
    "        else:\n",
    "            new_array.append(nums1[i])\n",
    "            i += 1\n",
    "            j += 1\n",
    "    return new_array"
   ]
  },
  {
   "cell_type": "code",
   "execution_count": 97,
   "id": "4df5f7ab",
   "metadata": {},
   "outputs": [
    {
     "data": {
      "text/plain": [
       "[4, 9]"
      ]
     },
     "execution_count": 97,
     "metadata": {},
     "output_type": "execute_result"
    }
   ],
   "source": [
    "TwoArraysBasic(nums1, nums2)"
   ]
  },
  {
   "cell_type": "code",
   "execution_count": 63,
   "id": "0c2fc483",
   "metadata": {},
   "outputs": [],
   "source": [
    "def TwoArraysPro(nums1, nums2):\n",
    "        d1 = {}\n",
    "        d2 = {}\n",
    "        for num in nums1:\n",
    "            d1[num] = d1.get(num, 0) + 1 # берет элемент с ключем num и увеличивает счетчик\n",
    "        for num in nums2:\n",
    "            d2[num] = d2.get(num, 0) + 1\n",
    "            \n",
    "        ans = []\n",
    "        for k in d1.keys():\n",
    "            d1[k] = min(d1[k], d2.get(k, 0))\n",
    "            while d1[k]:\n",
    "                ans.append(k)\n",
    "                d1[k] -= 1\n",
    "        return ans"
   ]
  },
  {
   "cell_type": "code",
   "execution_count": null,
   "id": "d319e926",
   "metadata": {},
   "outputs": [],
   "source": []
  }
 ],
 "metadata": {
  "kernelspec": {
   "display_name": "Python 3",
   "language": "python",
   "name": "python3"
  },
  "language_info": {
   "codemirror_mode": {
    "name": "ipython",
    "version": 3
   },
   "file_extension": ".py",
   "mimetype": "text/x-python",
   "name": "python",
   "nbconvert_exporter": "python",
   "pygments_lexer": "ipython3",
   "version": "3.8.8"
  }
 },
 "nbformat": 4,
 "nbformat_minor": 5
}
