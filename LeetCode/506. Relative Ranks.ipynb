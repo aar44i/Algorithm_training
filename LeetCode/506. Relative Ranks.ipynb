{
 "cells": [
  {
   "cell_type": "markdown",
   "id": "8eb41f41",
   "metadata": {},
   "source": [
    "You are given an integer array score of size n, where score[i] is the score of the ith athlete in a competition. All the scores are guaranteed to be unique.\n",
    "\n",
    "The athletes are placed based on their scores, where the 1st place athlete has the highest score, the 2nd place athlete has the 2nd highest score, and so on. The placement of each athlete determines their rank:\n",
    "\n",
    "The 1st place athlete's rank is \"Gold Medal\".  \n",
    "The 2nd place athlete's rank is \"Silver Medal\".  \n",
    "The 3rd place athlete's rank is \"Bronze Medal\".  \n",
    "\n",
    "For the 4th place to the nth place athlete, their rank is their placement number (i.e., the xth place athlete's rank is \"x\").\n",
    "Return an array answer of size n where answer[i] is the rank of the ith athlete."
   ]
  },
  {
   "cell_type": "markdown",
   "id": "641e6d1a",
   "metadata": {},
   "source": [
    "`Input: score = [5,4,3,2,1]\n",
    "Output: [\"Gold Medal\",\"Silver Medal\",\"Bronze Medal\",\"4\",\"5\"]\n",
    "Explanation: The placements are [1st, 2nd, 3rd, 4th, 5th].`"
   ]
  },
  {
   "cell_type": "markdown",
   "id": "1453504b",
   "metadata": {},
   "source": [
    "`Input: score = [10,3,8,9,4]\n",
    "Output: [\"Gold Medal\",\"5\",\"Bronze Medal\",\"Silver Medal\",\"4\"]\n",
    "Explanation: The placements are [1st, 5th, 3rd, 2nd, 4th].`"
   ]
  },
  {
   "cell_type": "code",
   "execution_count": null,
   "id": "4d4ee4fd",
   "metadata": {},
   "outputs": [],
   "source": [
    "score = [10,3,8,9,4]\n",
    "for i in range(len(score)):\n",
    "    "
   ]
  }
 ],
 "metadata": {
  "kernelspec": {
   "display_name": "Python 3",
   "language": "python",
   "name": "python3"
  },
  "language_info": {
   "codemirror_mode": {
    "name": "ipython",
    "version": 3
   },
   "file_extension": ".py",
   "mimetype": "text/x-python",
   "name": "python",
   "nbconvert_exporter": "python",
   "pygments_lexer": "ipython3",
   "version": "3.8.8"
  }
 },
 "nbformat": 4,
 "nbformat_minor": 5
}
