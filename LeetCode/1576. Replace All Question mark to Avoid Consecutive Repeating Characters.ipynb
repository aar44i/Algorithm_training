{
 "cells": [
  {
   "cell_type": "markdown",
   "id": "a318b3a2",
   "metadata": {},
   "source": [
    "Given a string s containing only lowercase English letters and the '?' character, convert all the '?' characters into lowercase letters such that the final string does not contain any consecutive repeating characters. You cannot modify the non '?' characters.\n",
    "\n",
    "It is guaranteed that there are no consecutive repeating characters in the given string except for '?'.\n",
    "\n",
    "Return the final string after all the conversions (possibly zero) have been made. If there is more than one solution, return any of them. It can be shown that an answer is always possible with the given constraints."
   ]
  },
  {
   "cell_type": "markdown",
   "id": "f6039a2f",
   "metadata": {},
   "source": [
    "`Input: s = \"?zs\"\n",
    "Output: \"azs\"\n",
    "Explanation: There are 25 solutions for this problem. From \"azs\" to \"yzs\", all are valid. Only \"z\" is an invalid modification as the string will consist of consecutive repeating characters in \"zzs\".`"
   ]
  },
  {
   "cell_type": "markdown",
   "id": "bf608368",
   "metadata": {},
   "source": [
    "`Input: s = \"ubv?w\"\n",
    "Output: \"ubvaw\"\n",
    "Explanation: There are 24 solutions for this problem. Only \"v\" and \"w\" are invalid modifications as the strings will consist of consecutive repeating characters in \"ubvvw\" and \"ubvww\".`"
   ]
  },
  {
   "cell_type": "code",
   "execution_count": 9,
   "id": "3de9cbab",
   "metadata": {},
   "outputs": [],
   "source": [
    "s = list(\"?zs\")"
   ]
  },
  {
   "cell_type": "code",
   "execution_count": 10,
   "id": "1320012d",
   "metadata": {},
   "outputs": [],
   "source": [
    "s[s.index(\"?\")] = "
   ]
  },
  {
   "cell_type": "code",
   "execution_count": null,
   "id": "7679b636",
   "metadata": {},
   "outputs": [],
   "source": []
  }
 ],
 "metadata": {
  "kernelspec": {
   "display_name": "Python 3",
   "language": "python",
   "name": "python3"
  },
  "language_info": {
   "codemirror_mode": {
    "name": "ipython",
    "version": 3
   },
   "file_extension": ".py",
   "mimetype": "text/x-python",
   "name": "python",
   "nbconvert_exporter": "python",
   "pygments_lexer": "ipython3",
   "version": "3.8.8"
  }
 },
 "nbformat": 4,
 "nbformat_minor": 5
}
