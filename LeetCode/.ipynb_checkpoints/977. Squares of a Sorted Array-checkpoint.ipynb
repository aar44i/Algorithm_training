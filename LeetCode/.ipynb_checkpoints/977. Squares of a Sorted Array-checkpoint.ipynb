{
 "cells": [
  {
   "cell_type": "markdown",
   "id": "8ffe4e30",
   "metadata": {},
   "source": [
    "Given an integer array nums sorted in non-decreasing order, return an array of the squares of each number sorted in non-decreasing order.\n",
    "\n",
    " "
   ]
  },
  {
   "cell_type": "markdown",
   "id": "733ac23e",
   "metadata": {},
   "source": [
    "`Input: nums = [-4,-1,0,3,10]\n",
    "Output: [0,1,9,16,100]\n",
    "Explanation: After squaring, the array becomes [16,1,0,9,100].\n",
    "After sorting, it becomes [0,1,9,16,100].`"
   ]
  },
  {
   "cell_type": "markdown",
   "id": "34df39c3",
   "metadata": {},
   "source": [
    "`Input: nums = [-7,-3,2,3,11]\n",
    "Output: [4,9,9,49,121]`"
   ]
  },
  {
   "cell_type": "code",
   "execution_count": 27,
   "id": "884e0fb2",
   "metadata": {},
   "outputs": [],
   "source": [
    "# lst = [int(item) for item in input().split()]\n",
    "lst = [-7,-3,2,3,11]"
   ]
  },
  {
   "cell_type": "code",
   "execution_count": 28,
   "id": "c8040235",
   "metadata": {},
   "outputs": [],
   "source": [
    "lst_res = []\n",
    "for i in lst:\n",
    "    lst_res.append(i ** 2)"
   ]
  },
  {
   "cell_type": "code",
   "execution_count": 29,
   "id": "46a05e16",
   "metadata": {},
   "outputs": [
    {
     "data": {
      "text/plain": [
       "[4, 9, 9, 49, 121]"
      ]
     },
     "execution_count": 29,
     "metadata": {},
     "output_type": "execute_result"
    }
   ],
   "source": [
    "lst_res.sort()\n",
    "lst_res"
   ]
  },
  {
   "cell_type": "code",
   "execution_count": 30,
   "id": "f11dd3c1",
   "metadata": {},
   "outputs": [],
   "source": [
    "def lst_sort(lst):\n",
    "    lst_res = []\n",
    "    for i in lst:\n",
    "        lst_res.append(i ** 2)\n",
    "        lst_res.sort()\n",
    "    return lst_res"
   ]
  },
  {
   "cell_type": "code",
   "execution_count": 31,
   "id": "b1412583",
   "metadata": {},
   "outputs": [
    {
     "data": {
      "text/plain": [
       "[4, 9, 9, 49, 121]"
      ]
     },
     "execution_count": 31,
     "metadata": {},
     "output_type": "execute_result"
    }
   ],
   "source": [
    "lst_sort(lst)"
   ]
  },
  {
   "cell_type": "code",
   "execution_count": 36,
   "id": "127d8e17",
   "metadata": {},
   "outputs": [
    {
     "name": "stdout",
     "output_type": "stream",
     "text": [
      "[49, 9, 4, 9, 121]\n"
     ]
    }
   ],
   "source": [
    "print(([x ** 2 for x in lst]))"
   ]
  },
  {
   "cell_type": "code",
   "execution_count": 39,
   "id": "dcd6d82c",
   "metadata": {},
   "outputs": [],
   "source": [
    "([x ** 2 for x in lst])"
   ]
  },
  {
   "cell_type": "code",
   "execution_count": 40,
   "id": "d5aa1996",
   "metadata": {},
   "outputs": [],
   "source": [
    "a"
   ]
  },
  {
   "cell_type": "code",
   "execution_count": null,
   "id": "08c6ef78",
   "metadata": {},
   "outputs": [],
   "source": []
  },
  {
   "cell_type": "code",
   "execution_count": null,
   "id": "7b5c9f53",
   "metadata": {},
   "outputs": [],
   "source": []
  }
 ],
 "metadata": {
  "kernelspec": {
   "display_name": "Python 3",
   "language": "python",
   "name": "python3"
  },
  "language_info": {
   "codemirror_mode": {
    "name": "ipython",
    "version": 3
   },
   "file_extension": ".py",
   "mimetype": "text/x-python",
   "name": "python",
   "nbconvert_exporter": "python",
   "pygments_lexer": "ipython3",
   "version": "3.8.8"
  }
 },
 "nbformat": 4,
 "nbformat_minor": 5
}
