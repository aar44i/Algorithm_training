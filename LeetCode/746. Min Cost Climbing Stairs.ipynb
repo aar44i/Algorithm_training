{
 "cells": [
  {
   "cell_type": "markdown",
   "id": "a1e9bf1d",
   "metadata": {},
   "source": [
    "You are given an integer array cost where cost[i] is the cost of ith step on a staircase. Once you pay the cost, you can either climb one or two steps.\n",
    "\n",
    "You can either start from the step with index 0, or the step with index 1.\n",
    "\n",
    "Return the minimum cost to reach the top of the floor."
   ]
  },
  {
   "cell_type": "markdown",
   "id": "eac98e5e",
   "metadata": {},
   "source": [
    "`Input: cost = [10,15,20]\n",
    "Output: 15`  \n",
    "Explanation: You will start at index 1.\n",
    "- Pay 15 and climb two steps to reach the top.\n",
    "The total cost is 15.`"
   ]
  },
  {
   "cell_type": "markdown",
   "id": "0e9b3660",
   "metadata": {},
   "source": [
    "`Input: cost = [1,100,1,1,1,100,1,1,100,1]\n",
    "Output: 6\n",
    "Explanation: You will start at index 0.`  \n",
    "- Pay 1 and climb two steps to reach index 2.\n",
    "- Pay 1 and climb two steps to reach index 4.\n",
    "- Pay 1 and climb two steps to reach index 6.\n",
    "- Pay 1 and climb one step to reach index 7.\n",
    "- Pay 1 and climb two steps to reach index 9.\n",
    "- Pay 1 and climb one step to reach the top.\n",
    "The total cost is 6.\n"
   ]
  },
  {
   "cell_type": "code",
   "execution_count": null,
   "id": "3994c13f",
   "metadata": {},
   "outputs": [],
   "source": []
  }
 ],
 "metadata": {
  "kernelspec": {
   "display_name": "Python 3",
   "language": "python",
   "name": "python3"
  },
  "language_info": {
   "codemirror_mode": {
    "name": "ipython",
    "version": 3
   },
   "file_extension": ".py",
   "mimetype": "text/x-python",
   "name": "python",
   "nbconvert_exporter": "python",
   "pygments_lexer": "ipython3",
   "version": "3.8.8"
  }
 },
 "nbformat": 4,
 "nbformat_minor": 5
}
