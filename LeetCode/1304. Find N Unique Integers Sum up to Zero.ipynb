{
 "cells": [
  {
   "cell_type": "markdown",
   "id": "b1ec95b1",
   "metadata": {},
   "source": [
    "Given an integer n, return any array containing n unique integers such that they add up to 0."
   ]
  },
  {
   "cell_type": "markdown",
   "id": "793af71a",
   "metadata": {},
   "source": [
    "`Input: n = 5\n",
    "Output: [-7,-1,1,3,4]\n",
    "Explanation: These arrays also are accepted [-5,-1,1,2,3] , [-3,-1,2,-2,4].`"
   ]
  },
  {
   "cell_type": "code",
   "execution_count": 7,
   "id": "9671f5f6",
   "metadata": {},
   "outputs": [
    {
     "name": "stdout",
     "output_type": "stream",
     "text": [
      "[828]\n",
      "[828, 421]\n",
      "[828, 421, 672]\n",
      "[828, 421, 672, 760]\n",
      "[828, 421, 672, 760, 537]\n",
      "[828, 421, 672, 760, 537, 386]\n"
     ]
    }
   ],
   "source": [
    "class Solution:\n",
    "    def sumZero(self, n: int) -> List[int]:\n",
    "        sum = 0\n",
    "        res = []\n",
    "        \n",
    "        for i in range(1, n):\n",
    "            res.append(i)\n",
    "            sum += i\n",
    "            \n",
    "        res.append(-sum)\n",
    "        return res"
   ]
  },
  {
   "cell_type": "code",
   "execution_count": null,
   "id": "bc99565f",
   "metadata": {},
   "outputs": [],
   "source": []
  }
 ],
 "metadata": {
  "kernelspec": {
   "display_name": "Python 3",
   "language": "python",
   "name": "python3"
  },
  "language_info": {
   "codemirror_mode": {
    "name": "ipython",
    "version": 3
   },
   "file_extension": ".py",
   "mimetype": "text/x-python",
   "name": "python",
   "nbconvert_exporter": "python",
   "pygments_lexer": "ipython3",
   "version": "3.8.8"
  }
 },
 "nbformat": 4,
 "nbformat_minor": 5
}
