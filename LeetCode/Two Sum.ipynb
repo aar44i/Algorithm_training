{
 "cells": [
  {
   "cell_type": "markdown",
   "id": "7a2daa32",
   "metadata": {},
   "source": [
    "Given an array of integers nums and an integer target, return indices of the two numbers such that they add up to target.\n",
    "\n",
    "You may assume that each input would have exactly one solution, and you may not use the same element twice.\n",
    "\n",
    "You can return the answer in any order."
   ]
  },
  {
   "cell_type": "markdown",
   "id": "4980b67b",
   "metadata": {},
   "source": [
    "`Input: nums = [2,7,11,15], target = 9\n",
    "Output: [0,1]\n",
    "Explanation: Because nums[0] + nums[1] == 9, we return [0, 1].`"
   ]
  },
  {
   "cell_type": "markdown",
   "id": "848764cb",
   "metadata": {},
   "source": [
    "`Input: nums = [3,2,4], target = 6\n",
    "Output: [1,2]`"
   ]
  },
  {
   "cell_type": "markdown",
   "id": "f04102f4",
   "metadata": {},
   "source": [
    "`Input: nums = [3,3], target = 6\n",
    "Output: [0,1]`"
   ]
  },
  {
   "cell_type": "code",
   "execution_count": 11,
   "id": "227830ba",
   "metadata": {},
   "outputs": [
    {
     "name": "stdout",
     "output_type": "stream",
     "text": [
      "3 2 4\n"
     ]
    }
   ],
   "source": [
    "lst = [int(item) for item in input().split()]"
   ]
  },
  {
   "cell_type": "code",
   "execution_count": 12,
   "id": "cd961919",
   "metadata": {},
   "outputs": [
    {
     "name": "stdout",
     "output_type": "stream",
     "text": [
      "6\n"
     ]
    }
   ],
   "source": [
    "target = int(input())"
   ]
  },
  {
   "cell_type": "code",
   "execution_count": 16,
   "id": "6442a9b7",
   "metadata": {},
   "outputs": [],
   "source": [
    "def BruteVersion(lst, target):\n",
    "    for i in range(len(lst)):\n",
    "        for j in range(i + 1, len(lst)):\n",
    "            if (lst[i] + lst[j] == target):\n",
    "                return [i,j]"
   ]
  },
  {
   "cell_type": "code",
   "execution_count": 1,
   "id": "32c89e27",
   "metadata": {},
   "outputs": [],
   "source": [
    "def SmartVersion(lst, target):\n",
    "    compMap = dict()\n",
    "    for i in range(len(lst)):\n",
    "        num = lst[i]\n",
    "        comp = target - num\n",
    "        if lst[i] in compMap:\n",
    "            return [compMap[num], i]\n",
    "        else:\n",
    "            compMap[comp] = i"
   ]
  },
  {
   "cell_type": "code",
   "execution_count": 3,
   "id": "4700b655",
   "metadata": {},
   "outputs": [
    {
     "data": {
      "text/plain": [
       "[0, 1]"
      ]
     },
     "execution_count": 3,
     "metadata": {},
     "output_type": "execute_result"
    }
   ],
   "source": [
    "SmartVersion([2,7,11,15], 9)"
   ]
  },
  {
   "cell_type": "code",
   "execution_count": 4,
   "id": "963202eb",
   "metadata": {},
   "outputs": [
    {
     "ename": "NameError",
     "evalue": "name 'compMap' is not defined",
     "output_type": "error",
     "traceback": [
      "\u001b[1;31m---------------------------------------------------------------------------\u001b[0m",
      "\u001b[1;31mNameError\u001b[0m                                 Traceback (most recent call last)",
      "\u001b[1;32m<ipython-input-4-5a785685e61e>\u001b[0m in \u001b[0;36m<module>\u001b[1;34m\u001b[0m\n\u001b[1;32m----> 1\u001b[1;33m \u001b[0mcompMap\u001b[0m\u001b[1;33m\u001b[0m\u001b[1;33m\u001b[0m\u001b[0m\n\u001b[0m",
      "\u001b[1;31mNameError\u001b[0m: name 'compMap' is not defined"
     ]
    }
   ],
   "source": [
    "compMap"
   ]
  },
  {
   "cell_type": "code",
   "execution_count": 30,
   "id": "8b37a0f1",
   "metadata": {},
   "outputs": [
    {
     "name": "stdout",
     "output_type": "stream",
     "text": [
      "[1, 2]\n"
     ]
    }
   ],
   "source": [
    "compMap = dict()\n",
    "for i in range(len(lst)):\n",
    "    num = lst[i]\n",
    "    comp = target - num\n",
    "    if num in compMap:\n",
    "        print([compMap[num], i])\n",
    "    else:\n",
    "        compMap[comp] = i"
   ]
  },
  {
   "cell_type": "code",
   "execution_count": null,
   "id": "7e3752d3",
   "metadata": {},
   "outputs": [],
   "source": []
  }
 ],
 "metadata": {
  "kernelspec": {
   "display_name": "Python 3",
   "language": "python",
   "name": "python3"
  },
  "language_info": {
   "codemirror_mode": {
    "name": "ipython",
    "version": 3
   },
   "file_extension": ".py",
   "mimetype": "text/x-python",
   "name": "python",
   "nbconvert_exporter": "python",
   "pygments_lexer": "ipython3",
   "version": "3.8.8"
  }
 },
 "nbformat": 4,
 "nbformat_minor": 5
}
