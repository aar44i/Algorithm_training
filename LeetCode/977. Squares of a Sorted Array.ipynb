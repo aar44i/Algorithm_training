{
 "cells": [
  {
   "cell_type": "markdown",
   "id": "2c35bb17",
   "metadata": {},
   "source": [
    "Given an integer array nums sorted in non-decreasing order, return an array of the squares of each number sorted in non-decreasing order.\n",
    "\n",
    " "
   ]
  },
  {
   "cell_type": "markdown",
   "id": "287d58c4",
   "metadata": {},
   "source": [
    "`Input: nums = [-4,-1,0,3,10]\n",
    "Output: [0,1,9,16,100]\n",
    "Explanation: After squaring, the array becomes [16,1,0,9,100].\n",
    "After sorting, it becomes [0,1,9,16,100].`"
   ]
  },
  {
   "cell_type": "markdown",
   "id": "20308d0a",
   "metadata": {},
   "source": [
    "`Input: nums = [-7,-3,2,3,11]\n",
    "Output: [4,9,9,49,121]`"
   ]
  },
  {
   "cell_type": "code",
   "execution_count": 27,
   "id": "87084863",
   "metadata": {},
   "outputs": [],
   "source": [
    "# lst = [int(item) for item in input().split()]\n",
    "lst = [-7,-3,2,3,11]"
   ]
  },
  {
   "cell_type": "code",
   "execution_count": 28,
   "id": "12536ed4",
   "metadata": {},
   "outputs": [],
   "source": [
    "lst_res = []\n",
    "for i in lst:\n",
    "    lst_res.append(i ** 2)"
   ]
  },
  {
   "cell_type": "code",
   "execution_count": 29,
   "id": "0c017833",
   "metadata": {},
   "outputs": [
    {
     "data": {
      "text/plain": [
       "[4, 9, 9, 49, 121]"
      ]
     },
     "execution_count": 29,
     "metadata": {},
     "output_type": "execute_result"
    }
   ],
   "source": [
    "lst_res.sort()\n",
    "lst_res"
   ]
  },
  {
   "cell_type": "code",
   "execution_count": 30,
   "id": "bc4072aa",
   "metadata": {},
   "outputs": [],
   "source": [
    "def lst_sort(lst):\n",
    "    lst_res = []\n",
    "    for i in lst:\n",
    "        lst_res.append(i ** 2)\n",
    "        lst_res.sort()\n",
    "    return lst_res"
   ]
  },
  {
   "cell_type": "code",
   "execution_count": 31,
   "id": "601ced49",
   "metadata": {},
   "outputs": [
    {
     "data": {
      "text/plain": [
       "[4, 9, 9, 49, 121]"
      ]
     },
     "execution_count": 31,
     "metadata": {},
     "output_type": "execute_result"
    }
   ],
   "source": [
    "lst_sort(lst)"
   ]
  },
  {
   "cell_type": "code",
   "execution_count": 50,
   "id": "0fb20d28",
   "metadata": {},
   "outputs": [
    {
     "ename": "TypeError",
     "evalue": "'NoneType' object is not iterable",
     "output_type": "error",
     "traceback": [
      "\u001b[1;31m---------------------------------------------------------------------------\u001b[0m",
      "\u001b[1;31mTypeError\u001b[0m                                 Traceback (most recent call last)",
      "\u001b[1;32m<ipython-input-50-2f01d204e2b7>\u001b[0m in \u001b[0;36m<module>\u001b[1;34m\u001b[0m\n\u001b[0;32m      1\u001b[0m \u001b[0mlst_sort\u001b[0m \u001b[1;33m=\u001b[0m \u001b[0mlst\u001b[0m\u001b[1;33m.\u001b[0m\u001b[0msort\u001b[0m\u001b[1;33m(\u001b[0m\u001b[1;33m)\u001b[0m\u001b[1;33m\u001b[0m\u001b[1;33m\u001b[0m\u001b[0m\n\u001b[1;32m----> 2\u001b[1;33m \u001b[0mprint\u001b[0m\u001b[1;33m(\u001b[0m\u001b[1;33m(\u001b[0m\u001b[1;33m[\u001b[0m\u001b[0mx\u001b[0m \u001b[1;33m**\u001b[0m \u001b[1;36m2\u001b[0m \u001b[1;32mfor\u001b[0m \u001b[0mx\u001b[0m \u001b[1;32min\u001b[0m \u001b[0mlst\u001b[0m\u001b[1;33m.\u001b[0m\u001b[0msort\u001b[0m\u001b[1;33m(\u001b[0m\u001b[1;33m)\u001b[0m\u001b[1;33m]\u001b[0m\u001b[1;33m)\u001b[0m\u001b[1;33m)\u001b[0m\u001b[1;33m\u001b[0m\u001b[1;33m\u001b[0m\u001b[0m\n\u001b[0m",
      "\u001b[1;31mTypeError\u001b[0m: 'NoneType' object is not iterable"
     ]
    }
   ],
   "source": [
    "lst_sort = lst.sort()\n",
    "print(([x ** 2 for x in lst.sort()]))"
   ]
  },
  {
   "cell_type": "code",
   "execution_count": 39,
   "id": "71141e25",
   "metadata": {},
   "outputs": [],
   "source": [
    "([x ** 2 for x in lst])"
   ]
  },
  {
   "cell_type": "code",
   "execution_count": 48,
   "id": "3479b04b",
   "metadata": {},
   "outputs": [
    {
     "data": {
      "text/plain": [
       "[-7, -3, 2, 3, 11]"
      ]
     },
     "execution_count": 48,
     "metadata": {},
     "output_type": "execute_result"
    }
   ],
   "source": [
    "lst.sort()\n",
    "lst"
   ]
  },
  {
   "cell_type": "code",
   "execution_count": null,
   "id": "d006e7bf",
   "metadata": {},
   "outputs": [],
   "source": []
  },
  {
   "cell_type": "code",
   "execution_count": null,
   "id": "244dc388",
   "metadata": {},
   "outputs": [],
   "source": []
  }
 ],
 "metadata": {
  "kernelspec": {
   "display_name": "Python 3",
   "language": "python",
   "name": "python3"
  },
  "language_info": {
   "codemirror_mode": {
    "name": "ipython",
    "version": 3
   },
   "file_extension": ".py",
   "mimetype": "text/x-python",
   "name": "python",
   "nbconvert_exporter": "python",
   "pygments_lexer": "ipython3",
   "version": "3.8.8"
  }
 },
 "nbformat": 4,
 "nbformat_minor": 5
}
