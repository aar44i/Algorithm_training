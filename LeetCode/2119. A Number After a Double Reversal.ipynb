{
 "cells": [
  {
   "cell_type": "markdown",
   "id": "a5aacf00",
   "metadata": {},
   "source": [
    "Reversing an integer means to reverse all its digits.\n",
    "\n",
    "For example, reversing 2021 gives 1202. Reversing 12300 gives 321 as the leading zeros are not retained.\n",
    "Given an integer num, reverse num to get reversed1, then reverse reversed1 to get reversed2. Return true if reversed2 equals num. Otherwise return false."
   ]
  },
  {
   "cell_type": "markdown",
   "id": "ee92c33f",
   "metadata": {},
   "source": [
    "`Input: num = 526\n",
    "Output: true\n",
    "Explanation: Reverse num to get 625, then reverse 625 to get 526, which equals num.`"
   ]
  },
  {
   "cell_type": "markdown",
   "id": "2c0b83cd",
   "metadata": {},
   "source": [
    "`Input: num = 1800\n",
    "Output: false\n",
    "Explanation: Reverse num to get 81, then reverse 81 to get 18, which does not equal num.`"
   ]
  },
  {
   "cell_type": "code",
   "execution_count": 27,
   "id": "49fec0de",
   "metadata": {},
   "outputs": [],
   "source": [
    "def ff(num):\n",
    "    num2 = num\n",
    "    reversed_num = 0\n",
    "    while num != 0:\n",
    "        digit = num % 10\n",
    "        reversed_num = reversed_num * 10 + digit\n",
    "        num //= 10\n",
    "    if (str(reversed_num)[::-1]) == str(num2):\n",
    "        return True\n",
    "    else:\n",
    "        return False"
   ]
  },
  {
   "cell_type": "code",
   "execution_count": 28,
   "id": "b662dc2a",
   "metadata": {},
   "outputs": [
    {
     "data": {
      "text/plain": [
       "True"
      ]
     },
     "execution_count": 28,
     "metadata": {},
     "output_type": "execute_result"
    }
   ],
   "source": [
    "ff(625)"
   ]
  }
 ],
 "metadata": {
  "kernelspec": {
   "display_name": "Python 3",
   "language": "python",
   "name": "python3"
  },
  "language_info": {
   "codemirror_mode": {
    "name": "ipython",
    "version": 3
   },
   "file_extension": ".py",
   "mimetype": "text/x-python",
   "name": "python",
   "nbconvert_exporter": "python",
   "pygments_lexer": "ipython3",
   "version": "3.8.8"
  }
 },
 "nbformat": 4,
 "nbformat_minor": 5
}
