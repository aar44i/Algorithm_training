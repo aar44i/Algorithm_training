{
 "cells": [
  {
   "cell_type": "code",
   "execution_count": 48,
   "id": "67ffeaa3",
   "metadata": {},
   "outputs": [
    {
     "name": "stdout",
     "output_type": "stream",
     "text": [
      "343\n"
     ]
    }
   ],
   "source": [
    "import datetime\n",
    "date = \"2020-12-09\"\n",
    "dt = datetime.datetime.strptime(date, \"%Y-%m-%d\")\n",
    "days = [31,28,31,30,31,30,31,31,30,31,30,31]\n",
    "print(sum(days[:dt.month-1]) + dt.day)"
   ]
  },
  {
   "cell_type": "code",
   "execution_count": 18,
   "id": "b411c2d2",
   "metadata": {},
   "outputs": [
    {
     "name": "stdout",
     "output_type": "stream",
     "text": [
      "21\n",
      "5\n",
      "2021\n",
      "11\n",
      "22\n",
      "3\n"
     ]
    }
   ],
   "source": [
    "import datetime\n",
    "date = '2021-05-21 11:22:03'\n",
    "datem = datetime.datetime.strptime(date, \"%Y-%m-%d %H:%M:%S\")\n",
    "print(datem.day)        # 25\n",
    "print(datem.month)      # 5\n",
    "print(datem.year)       # 2021\n",
    "print(datem.hour)       # 11\n",
    "print(datem.minute)     # 22\n",
    "print(datem.second)     # 3"
   ]
  },
  {
   "cell_type": "code",
   "execution_count": null,
   "id": "31d45432",
   "metadata": {},
   "outputs": [],
   "source": []
  }
 ],
 "metadata": {
  "kernelspec": {
   "display_name": "Python 3",
   "language": "python",
   "name": "python3"
  },
  "language_info": {
   "codemirror_mode": {
    "name": "ipython",
    "version": 3
   },
   "file_extension": ".py",
   "mimetype": "text/x-python",
   "name": "python",
   "nbconvert_exporter": "python",
   "pygments_lexer": "ipython3",
   "version": "3.8.8"
  }
 },
 "nbformat": 4,
 "nbformat_minor": 5
}
