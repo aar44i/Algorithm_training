{
 "cells": [
  {
   "cell_type": "markdown",
   "id": "25c1416e",
   "metadata": {},
   "source": [
    "Given an array of strings patterns and a string word, return the number of strings in patterns that exist as a substring in word.\n",
    "\n",
    "A substring is a contiguous sequence of characters within a string."
   ]
  },
  {
   "cell_type": "markdown",
   "id": "0285b492",
   "metadata": {},
   "source": [
    "`Input: patterns = [\"a\",\"abc\",\"bc\",\"d\"], word = \"abc\"\n",
    "Output: 3`"
   ]
  },
  {
   "cell_type": "code",
   "execution_count": 8,
   "id": "89abc5d4",
   "metadata": {},
   "outputs": [],
   "source": [
    "def numb(patterns, word):\n",
    "    count = 0\n",
    "    for x in patterns:\n",
    "        if x in word:\n",
    "            count += 1\n",
    "    return count"
   ]
  },
  {
   "cell_type": "code",
   "execution_count": 9,
   "id": "ca4dda8f",
   "metadata": {},
   "outputs": [
    {
     "data": {
      "text/plain": [
       "3"
      ]
     },
     "execution_count": 9,
     "metadata": {},
     "output_type": "execute_result"
    }
   ],
   "source": [
    "patterns = [\"a\",\"abc\",\"bc\",\"d\"]\n",
    "word = \"abc\"\n",
    "numb(patterns, word)"
   ]
  },
  {
   "cell_type": "code",
   "execution_count": null,
   "id": "7a28f91a",
   "metadata": {},
   "outputs": [],
   "source": []
  }
 ],
 "metadata": {
  "kernelspec": {
   "display_name": "Python 3",
   "language": "python",
   "name": "python3"
  },
  "language_info": {
   "codemirror_mode": {
    "name": "ipython",
    "version": 3
   },
   "file_extension": ".py",
   "mimetype": "text/x-python",
   "name": "python",
   "nbconvert_exporter": "python",
   "pygments_lexer": "ipython3",
   "version": "3.8.8"
  }
 },
 "nbformat": 4,
 "nbformat_minor": 5
}
