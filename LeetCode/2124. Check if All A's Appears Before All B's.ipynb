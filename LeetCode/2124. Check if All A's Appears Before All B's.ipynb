{
 "cells": [
  {
   "cell_type": "markdown",
   "id": "3ad71b71",
   "metadata": {},
   "source": [
    "Given a string s consisting of only the characters 'a' and 'b', return true if every 'a' appears before every 'b' in the string. Otherwise, return false."
   ]
  },
  {
   "cell_type": "markdown",
   "id": "28300691",
   "metadata": {},
   "source": [
    "`Input: s = \"aaabbb\"\n",
    "Output: true\n",
    "Explanation:\n",
    "The 'a's are at indices 0, 1, and 2, while the 'b's are at indices 3, 4, and 5.\n",
    "Hence, every 'a' appears before every 'b' and we return true.`"
   ]
  },
  {
   "cell_type": "markdown",
   "id": "a6ea97e4",
   "metadata": {},
   "source": [
    "`Input: s = \"abab\"\n",
    "Output: false\n",
    "Explanation:\n",
    "There is an 'a' at index 2 and a 'b' at index 1.\n",
    "Hence, not every 'a' appears before every 'b' and we return false.`"
   ]
  },
  {
   "cell_type": "code",
   "execution_count": 41,
   "id": "fbd2b6fd",
   "metadata": {},
   "outputs": [],
   "source": [
    "s = list(\"a\")"
   ]
  },
  {
   "cell_type": "code",
   "execution_count": 42,
   "id": "c38fb9ae",
   "metadata": {},
   "outputs": [],
   "source": [
    "a_list = [i for i, e in enumerate(s) if e == 'a']\n",
    "b_list = [i for i, e in enumerate(s) if e == 'b']"
   ]
  },
  {
   "cell_type": "code",
   "execution_count": 43,
   "id": "f31bd9e9",
   "metadata": {},
   "outputs": [
    {
     "data": {
      "text/plain": [
       "[0]"
      ]
     },
     "execution_count": 43,
     "metadata": {},
     "output_type": "execute_result"
    }
   ],
   "source": [
    "a_list"
   ]
  },
  {
   "cell_type": "code",
   "execution_count": 44,
   "id": "2141045b",
   "metadata": {},
   "outputs": [
    {
     "data": {
      "text/plain": [
       "[]"
      ]
     },
     "execution_count": 44,
     "metadata": {},
     "output_type": "execute_result"
    }
   ],
   "source": [
    "b_list"
   ]
  },
  {
   "cell_type": "code",
   "execution_count": 14,
   "id": "a70f66ed",
   "metadata": {},
   "outputs": [
    {
     "data": {
      "text/plain": [
       "False"
      ]
     },
     "execution_count": 14,
     "metadata": {},
     "output_type": "execute_result"
    }
   ],
   "source": [
    "all(min(b_list) < i for i in a_list)"
   ]
  },
  {
   "cell_type": "code",
   "execution_count": 47,
   "id": "3b6aa83d",
   "metadata": {},
   "outputs": [],
   "source": [
    "def funcc(s):\n",
    "    s = list(s)\n",
    "    a_list = [i for i, e in enumerate(s) if e == 'a']\n",
    "    b_list = [i for i, e in enumerate(s) if e == 'b']\n",
    "    if (len(b_list) == 0 or len(a_list) == 0):\n",
    "        return True\n",
    "    else:\n",
    "        return all(min(b_list) > i for i in a_list)"
   ]
  },
  {
   "cell_type": "code",
   "execution_count": 49,
   "id": "74a1be9a",
   "metadata": {},
   "outputs": [
    {
     "data": {
      "text/plain": [
       "True"
      ]
     },
     "execution_count": 49,
     "metadata": {},
     "output_type": "execute_result"
    }
   ],
   "source": [
    "funcc(s)"
   ]
  },
  {
   "cell_type": "code",
   "execution_count": null,
   "id": "4f9a2439",
   "metadata": {},
   "outputs": [],
   "source": []
  }
 ],
 "metadata": {
  "kernelspec": {
   "display_name": "Python 3",
   "language": "python",
   "name": "python3"
  },
  "language_info": {
   "codemirror_mode": {
    "name": "ipython",
    "version": 3
   },
   "file_extension": ".py",
   "mimetype": "text/x-python",
   "name": "python",
   "nbconvert_exporter": "python",
   "pygments_lexer": "ipython3",
   "version": "3.8.8"
  }
 },
 "nbformat": 4,
 "nbformat_minor": 5
}
