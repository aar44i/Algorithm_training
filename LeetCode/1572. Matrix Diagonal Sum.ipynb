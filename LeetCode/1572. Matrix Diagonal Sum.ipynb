{
 "cells": [
  {
   "cell_type": "markdown",
   "id": "86569be2",
   "metadata": {},
   "source": [
    "Given a square matrix mat, return the sum of the matrix diagonals.\n",
    "\n",
    "Only include the sum of all the elements on the primary diagonal and all the elements on the secondary diagonal that are not part of the primary diagonal.\n",
    "\n",
    " "
   ]
  },
  {
   "cell_type": "markdown",
   "id": "54bb2ca1",
   "metadata": {},
   "source": [
    "`Input: mat = [[1,2,3],\n",
    "              [4,5,6],\n",
    "              [7,8,9]]\n",
    "Output: 25\n",
    "Explanation: Diagonals sum: 1 + 5 + 9 + 3 + 7 = 25\n",
    "Notice that element mat[1][1] = 5 is counted only once.`"
   ]
  },
  {
   "cell_type": "code",
   "execution_count": 2,
   "id": "41440c09",
   "metadata": {},
   "outputs": [],
   "source": [
    "def diagonalSum(mat):\n",
    "    n = len(mat)\n",
    "    sum_ = 0\n",
    "    for i in range (n):\n",
    "        sum_ += mat[i][i]\n",
    "\n",
    "    matrix = mat[::-1]\n",
    "    for i in range (len(matrix)):\n",
    "        sum_ += matrix[i][i]\n",
    "\n",
    "    if n%2 != 0:\n",
    "        sum_ -= mat[n//2][n//2]\n",
    "\n",
    "    return sum_"
   ]
  },
  {
   "cell_type": "code",
   "execution_count": 22,
   "id": "312e5f2f",
   "metadata": {},
   "outputs": [
    {
     "data": {
      "text/plain": [
       "25"
      ]
     },
     "execution_count": 22,
     "metadata": {},
     "output_type": "execute_result"
    }
   ],
   "source": [
    "mat = [[1,2,3],\n",
    "              [4,5,6],\n",
    "              [7,8,9]]\n",
    "diagonalSum(mat)"
   ]
  },
  {
   "cell_type": "code",
   "execution_count": 28,
   "id": "c90d8735",
   "metadata": {},
   "outputs": [],
   "source": [
    "    n = len(mat)\n",
    "    FIRST_DIG = 0\n",
    "    SECOND_DIG = 0\n",
    "    for i in range (n):\n",
    "        FIRST_DIG += mat[i][i]\n",
    "        SECOND_DIG += mat[::-1][i][i]\n",
    "#         print(mat[i][i])\n",
    "#     matrix = mat[::-1]\n",
    "#     for i in range (len(matrix)):\n",
    "#         sum_ += matrix[i][i]\n",
    "\n",
    "#     if n%2 != 0:\n",
    "#         sum_ -= mat[n//2][n//2]\n",
    "\n",
    "#     return sum_"
   ]
  },
  {
   "cell_type": "code",
   "execution_count": 34,
   "id": "f249077e",
   "metadata": {},
   "outputs": [
    {
     "data": {
      "text/plain": [
       "7"
      ]
     },
     "execution_count": 34,
     "metadata": {},
     "output_type": "execute_result"
    }
   ],
   "source": [
    "mat[::-1][0][0]"
   ]
  },
  {
   "cell_type": "code",
   "execution_count": 29,
   "id": "b1297b0a",
   "metadata": {},
   "outputs": [
    {
     "data": {
      "text/plain": [
       "[[7, 8, 9], [4, 5, 6], [1, 2, 3]]"
      ]
     },
     "execution_count": 29,
     "metadata": {},
     "output_type": "execute_result"
    }
   ],
   "source": [
    "matrix"
   ]
  },
  {
   "cell_type": "code",
   "execution_count": 26,
   "id": "827659ab",
   "metadata": {},
   "outputs": [
    {
     "data": {
      "text/plain": [
       "[[1, 2, 3], [4, 5, 6], [7, 8, 9]]"
      ]
     },
     "execution_count": 26,
     "metadata": {},
     "output_type": "execute_result"
    }
   ],
   "source": [
    "mat"
   ]
  },
  {
   "cell_type": "code",
   "execution_count": null,
   "id": "4867cee1",
   "metadata": {},
   "outputs": [],
   "source": []
  }
 ],
 "metadata": {
  "kernelspec": {
   "display_name": "Python 3",
   "language": "python",
   "name": "python3"
  },
  "language_info": {
   "codemirror_mode": {
    "name": "ipython",
    "version": 3
   },
   "file_extension": ".py",
   "mimetype": "text/x-python",
   "name": "python",
   "nbconvert_exporter": "python",
   "pygments_lexer": "ipython3",
   "version": "3.8.8"
  }
 },
 "nbformat": 4,
 "nbformat_minor": 5
}
