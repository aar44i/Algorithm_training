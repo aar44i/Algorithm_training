{
 "cells": [
  {
   "cell_type": "markdown",
   "id": "85da110a",
   "metadata": {},
   "source": [
    "Given a characters array letters that is sorted in non-decreasing order and a character target, return the smallest character in the array that is larger than target.\n",
    "\n",
    "Note that the letters wrap around.\n",
    "\n",
    "For example, if target == 'z' and letters == ['a', 'b'], the answer is 'a'."
   ]
  },
  {
   "cell_type": "markdown",
   "id": "9c4fbd6b",
   "metadata": {},
   "source": [
    "`Input: letters = [\"c\",\"f\",\"j\"], target = \"a\"\n",
    "Output: \"c\"`"
   ]
  },
  {
   "cell_type": "markdown",
   "id": "f8a1bdc2",
   "metadata": {},
   "source": [
    "`Input: letters = [\"c\",\"f\",\"j\"], target = \"c\"\n",
    "Output: \"f\"`"
   ]
  },
  {
   "cell_type": "markdown",
   "id": "1550665e",
   "metadata": {},
   "source": [
    "`Input: letters = [\"c\",\"f\",\"j\"], target = \"d\"\n",
    "Output: \"f\"`"
   ]
  },
  {
   "cell_type": "code",
   "execution_count": 1,
   "id": "afc6fd77",
   "metadata": {},
   "outputs": [
    {
     "name": "stdout",
     "output_type": "stream",
     "text": [
      "c\n"
     ]
    }
   ],
   "source": [
    "class Solution:\n",
    "   def nextGreatestLetter(self, letters, target):\n",
    "      l = 0\n",
    "      r = len(letters) - 1\n",
    "      while l <= r:\n",
    "         mid = (l + r)//2\n",
    "         if letters[mid] > target:\n",
    "            r = mid -1\n",
    "         else:\n",
    "            l = mid + 1\n",
    "      return letters[l % len(letters)]\n",
    "ob = Solution()\n",
    "print(ob.nextGreatestLetter([\"c\", \"f\", \"j\"], \"a\"))"
   ]
  },
  {
   "cell_type": "code",
   "execution_count": null,
   "id": "956a5a68",
   "metadata": {},
   "outputs": [],
   "source": []
  }
 ],
 "metadata": {
  "kernelspec": {
   "display_name": "Python 3",
   "language": "python",
   "name": "python3"
  },
  "language_info": {
   "codemirror_mode": {
    "name": "ipython",
    "version": 3
   },
   "file_extension": ".py",
   "mimetype": "text/x-python",
   "name": "python",
   "nbconvert_exporter": "python",
   "pygments_lexer": "ipython3",
   "version": "3.8.8"
  }
 },
 "nbformat": 4,
 "nbformat_minor": 5
}
