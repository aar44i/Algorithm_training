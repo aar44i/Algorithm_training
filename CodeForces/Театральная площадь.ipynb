{
 "cells": [
  {
   "cell_type": "markdown",
   "id": "ed00a117",
   "metadata": {},
   "source": [
    "Театральная площадь в столице Берляндии представляет собой прямоугольник n × m метров. По случаю очередного юбилея города, было принято решение о замощении площади квадратными гранитными плитами. Каждая плита имеет размер a × a.\n",
    "\n",
    "Какое наименьшее количество плит понадобится для замощения площади? Разрешено покрыть плитами большую поверхность, чем театральная площадь, но она должна быть покрыта обязательно. Гранитные плиты нельзя ломать или дробить, а разрешено использовать только целиком. Границы плит должны быть параллельны границам площади.\n",
    "\n",
    "Входные данные\n",
    "В первой строке записано три целых натуральных числа n, m и a (1 ≤ n, m, a ≤ 109).\n",
    "\n",
    "Выходные данные\n",
    "Выведите искомое количество плит."
   ]
  },
  {
   "cell_type": "code",
   "execution_count": null,
   "id": "91f178e5",
   "metadata": {},
   "outputs": [],
   "source": [
    "n, m, a = int(input()), int(input()), int(input())\n"
   ]
  }
 ],
 "metadata": {
  "kernelspec": {
   "display_name": "Python 3",
   "language": "python",
   "name": "python3"
  },
  "language_info": {
   "codemirror_mode": {
    "name": "ipython",
    "version": 3
   },
   "file_extension": ".py",
   "mimetype": "text/x-python",
   "name": "python",
   "nbconvert_exporter": "python",
   "pygments_lexer": "ipython3",
   "version": "3.8.8"
  }
 },
 "nbformat": 4,
 "nbformat_minor": 5
}
