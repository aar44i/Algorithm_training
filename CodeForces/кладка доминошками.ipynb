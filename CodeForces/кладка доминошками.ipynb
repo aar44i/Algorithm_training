{
 "cells": [
  {
   "cell_type": "markdown",
   "id": "8cc32c27",
   "metadata": {},
   "source": [
    "Дана прямоугольная клеточная доска размера M × N клеток. Также дано неограниченное количество стандартных доминошек размера 2 × 1 клетку. Доминошки можно поворачивать. Требуется уложить как можно больше доминошек на доску так, чтобы соблюдались следующие условия:\n",
    "\n",
    "1. Каждая доминошка полностью покрывает две клетки доски.\n",
    "\n",
    "2. Никакие две доминошки не перекрываются.\n",
    "\n",
    "3. Каждая доминошка полностью лежит внутри доски. Касание краев доски допускается.\n",
    "\n",
    "Найдите максимальное количество доминошек, которое можно уложить с данными ограничениями.\n",
    "\n",
    "### Входные данные\n",
    "В единственной строке записано два целых числа M и N — размеры доски в клетках (1 ≤ M ≤ N ≤ 16).\n",
    "\n",
    "### Выходные данные\n",
    "Выведите одно число — максимальное количество доминошек, которое можно уложить.\n",
    "\n",
    "### входные данные\n",
    "2 4\n",
    "### выходные данные\n",
    "4"
   ]
  },
  {
   "cell_type": "code",
   "execution_count": 3,
   "id": "ff397e8c",
   "metadata": {},
   "outputs": [
    {
     "name": "stdout",
     "output_type": "stream",
     "text": [
      "2\n",
      "4\n"
     ]
    }
   ],
   "source": [
    "n, m = int(input()), int(input())"
   ]
  },
  {
   "cell_type": "code",
   "execution_count": null,
   "id": "144abc1e",
   "metadata": {},
   "outputs": [],
   "source": []
  }
 ],
 "metadata": {
  "kernelspec": {
   "display_name": "Python 3",
   "language": "python",
   "name": "python3"
  },
  "language_info": {
   "codemirror_mode": {
    "name": "ipython",
    "version": 3
   },
   "file_extension": ".py",
   "mimetype": "text/x-python",
   "name": "python",
   "nbconvert_exporter": "python",
   "pygments_lexer": "ipython3",
   "version": "3.8.8"
  }
 },
 "nbformat": 4,
 "nbformat_minor": 5
}
