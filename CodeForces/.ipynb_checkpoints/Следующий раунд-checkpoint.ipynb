{
 "cells": [
  {
   "cell_type": "markdown",
   "id": "22075382",
   "metadata": {},
   "source": [
    "«Участник выходит в следующий раунд соревнований, если он набрал не меньше баллов, чем участник, занявший k-е место, при условии, что набранное им число баллов строго положительно...» — выдержка из правил соревнований.\n",
    "\n",
    "Всего в соревновании было n участников (n ≥ k), и вам уже известны их баллы. Определите, сколько участников выйдет в следующий раунд.\n",
    "\n",
    "Входные данные\n",
    "В первой строке входных данных записаны два целых числа n и k (1 ≤ k ≤ n ≤ 50), разделенных единичным пробелом.\n",
    "\n",
    "Во второй строке записаны n целых чисел, разделенных единичными пробелами, a1, a2, ..., an (0 ≤ ai ≤ 100), где ai — количество баллов, набранных участником на i-ом месте. Числа в заданной последовательности не возрастают (то есть для всех i от 1 до n - 1 выполняется ai ≥ ai + 1).\n",
    "\n",
    "## Выходные данные\n",
    "Выведите одно целое число — искомое количество участников, в соответствии с правилами.\n",
    "\n",
    "\n",
    "### Входные данные\n",
    "8 5\n",
    "10 9 8 7 7 7 5 5\n",
    "### Выходные данные\n",
    "6"
   ]
  },
  {
   "cell_type": "code",
   "execution_count": 53,
   "id": "f0d3645a",
   "metadata": {},
   "outputs": [
    {
     "name": "stdout",
     "output_type": "stream",
     "text": [
      "4 2\n",
      "0 0 0 \n",
      "0\n"
     ]
    }
   ],
   "source": [
    "n = list(map(int, input().split()))\n",
    "k = n[1]\n",
    "next_round = 0\n",
    "\n",
    "scores = list(map(int, input().split()))\n",
    "for score in scores:\n",
    "    if score >= scores[k-1] and score != 0:\n",
    "        next_round += 1\n",
    "print(next_round)\n"
   ]
  },
  {
   "cell_type": "code",
   "execution_count": null,
   "id": "46aa810d",
   "metadata": {},
   "outputs": [],
   "source": []
  }
 ],
 "metadata": {
  "kernelspec": {
   "display_name": "Python 3",
   "language": "python",
   "name": "python3"
  },
  "language_info": {
   "codemirror_mode": {
    "name": "ipython",
    "version": 3
   },
   "file_extension": ".py",
   "mimetype": "text/x-python",
   "name": "python",
   "nbconvert_exporter": "python",
   "pygments_lexer": "ipython3",
   "version": "3.8.8"
  }
 },
 "nbformat": 4,
 "nbformat_minor": 5
}
