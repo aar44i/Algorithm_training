{
 "cells": [
  {
   "cell_type": "markdown",
   "id": "c8d63ef9",
   "metadata": {},
   "source": [
    "Иногда некоторые слова вроде «localization» или «internationalization» настолько длинны, что их весьма утомительно писать много раз в каком либо тексте.\n",
    "\n",
    "Будем считать слово слишком длинным, если его длина строго больше 10 символов. Все слишком длинные слова можно заменить специальной аббревиатурой.\n",
    "\n",
    "Эта аббревиатура строится следующим образом: записывается первая и последняя буква слова, а между ними — количество букв между первой и последней буквой (в десятичной системе счисления и без ведущих нулей).\n",
    "\n",
    "Таком образом, «localization» запишется как «l10n», а «internationalization» как «i18n».\n",
    "\n",
    "Вам предлагается автоматизировать процесс замены слов на аббревиатуры. При этом все слишком длинные слова должны быть заменены аббревиатурой, а слова, не являющиеся слишком длинными, должны остаться без изменений.\n",
    "\n",
    "Входные данные\n",
    "В первой строке содержится целое число n (1 ≤ n ≤ 100). В каждой из последующих n строк содержится по одному слову. Все слова состоят из малых латинских букв и имеют длину от 1 до 100 символов.\n",
    "\n",
    "Выходные данные\n",
    "Выведите n строк. В i строке должен находиться результат замены i-го слова из входных данных."
   ]
  },
  {
   "cell_type": "code",
   "execution_count": 67,
   "id": "ec7911a2",
   "metadata": {},
   "outputs": [
    {
     "name": "stdout",
     "output_type": "stream",
     "text": [
      "Кол-во строк: 4\n",
      "word\n",
      "localization\n",
      "internationalization\n",
      "pneumonoultramicroscopicsilicovolcanoconiosis\n",
      "word\n",
      "l10n\n",
      "i18n\n",
      "p43s\n"
     ]
    }
   ],
   "source": [
    "n = int(input('Кол-во строк: '))\n",
    "lst = []\n",
    "\n",
    "for i in range(n):\n",
    "    lst.append(input())\n",
    "    \n",
    "for i in range(n):\n",
    "    if len(lst[i]) > 10:\n",
    "        print(lst[i][0] + str(len(lst[i])-2) + lst[i][len(lst[i])-1])\n",
    "    else:\n",
    "        print(lst[i])"
   ]
  },
  {
   "cell_type": "code",
   "execution_count": null,
   "id": "793ca658",
   "metadata": {},
   "outputs": [],
   "source": []
  }
 ],
 "metadata": {
  "kernelspec": {
   "display_name": "Python 3",
   "language": "python",
   "name": "python3"
  },
  "language_info": {
   "codemirror_mode": {
    "name": "ipython",
    "version": 3
   },
   "file_extension": ".py",
   "mimetype": "text/x-python",
   "name": "python",
   "nbconvert_exporter": "python",
   "pygments_lexer": "ipython3",
   "version": "3.8.8"
  }
 },
 "nbformat": 4,
 "nbformat_minor": 5
}
