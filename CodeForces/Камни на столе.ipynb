{
 "cells": [
  {
   "cell_type": "markdown",
   "id": "74b4e13d",
   "metadata": {},
   "source": [
    "На столе в ряд выложены n камней, каждый из которых может быть красного, зеленого или синего цвета. Посчитайте, какое минимальное количество камней нужно убрать со стола, чтобы любые два соседних камня имели разные цвета. Камни в ряду считаются соседними, если между ними нет других камней."
   ]
  },
  {
   "cell_type": "markdown",
   "id": "a02ad777",
   "metadata": {},
   "source": [
    "# Входные данные\n",
    "В первой строке задано целое число n (1 ≤ n ≤ 50) — количество камней на столе.\n",
    "\n",
    "В следующей строке задана строка s, обозначающая цвета камней. Будем считать, что камни в ряду пронумерованы целыми числами от 1 до n слева направо. Тогда i-ый символ s равен «R», если i-ый камень красного цвета, «G» — если он зеленого цвета, и «B» — если он синего цвета."
   ]
  },
  {
   "cell_type": "code",
   "execution_count": null,
   "id": "d0469838",
   "metadata": {},
   "outputs": [],
   "source": []
  }
 ],
 "metadata": {
  "kernelspec": {
   "display_name": "Python 3",
   "language": "python",
   "name": "python3"
  },
  "language_info": {
   "codemirror_mode": {
    "name": "ipython",
    "version": 3
   },
   "file_extension": ".py",
   "mimetype": "text/x-python",
   "name": "python",
   "nbconvert_exporter": "python",
   "pygments_lexer": "ipython3",
   "version": "3.8.8"
  }
 },
 "nbformat": 4,
 "nbformat_minor": 5
}
