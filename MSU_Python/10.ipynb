{
 "cells": [
  {
   "cell_type": "markdown",
   "id": "f6dd1068",
   "metadata": {},
   "source": [
    "# 1\n",
    "На вход подается файл input.csv, в первой строке названия столбцов: name и score, данные в строках разделены с помощью запятых. Данные в колонке score - числовые."
   ]
  },
  {
   "cell_type": "code",
   "execution_count": 17,
   "id": "3296c8ec",
   "metadata": {},
   "outputs": [],
   "source": [
    "import pandas as pd\n",
    "df = pd.read_csv('input.csv')\n",
    "df.dropna(subset = ['name'], inplace = True)\n",
    "df.fillna(df.score.mean(), inplace = True)\n",
    "df.to_csv('output.csv', sep=',')"
   ]
  },
  {
   "cell_type": "markdown",
   "id": "76d4b1b4",
   "metadata": {},
   "source": [
    "# 2\n",
    "На вход подается файл input.csv, в первой строке названия столбцов: date и temperature_c, данные в строках разделены с помощью запятых. Данные в колонке temperature_c - числовые."
   ]
  },
  {
   "cell_type": "code",
   "execution_count": 22,
   "id": "03660de9",
   "metadata": {},
   "outputs": [],
   "source": [
    "import pandas as pd\n",
    "df = pd.read_csv('input.csv')\n",
    "df['temperature_f'] = round(df['temperature_c'] * (9/5) + 32)\n",
    "df.to_csv('output.csv', sep=',')"
   ]
  },
  {
   "cell_type": "code",
   "execution_count": 23,
   "id": "63c8623d",
   "metadata": {},
   "outputs": [
    {
     "data": {
      "text/html": [
       "<div>\n",
       "<style scoped>\n",
       "    .dataframe tbody tr th:only-of-type {\n",
       "        vertical-align: middle;\n",
       "    }\n",
       "\n",
       "    .dataframe tbody tr th {\n",
       "        vertical-align: top;\n",
       "    }\n",
       "\n",
       "    .dataframe thead th {\n",
       "        text-align: right;\n",
       "    }\n",
       "</style>\n",
       "<table border=\"1\" class=\"dataframe\">\n",
       "  <thead>\n",
       "    <tr style=\"text-align: right;\">\n",
       "      <th></th>\n",
       "      <th>date</th>\n",
       "      <th>temperature_c</th>\n",
       "      <th>temperature_f</th>\n",
       "    </tr>\n",
       "  </thead>\n",
       "  <tbody>\n",
       "    <tr>\n",
       "      <th>0</th>\n",
       "      <td>07-12-2021</td>\n",
       "      <td>-9</td>\n",
       "      <td>16.0</td>\n",
       "    </tr>\n",
       "    <tr>\n",
       "      <th>1</th>\n",
       "      <td>08-12-2021</td>\n",
       "      <td>-11</td>\n",
       "      <td>12.0</td>\n",
       "    </tr>\n",
       "    <tr>\n",
       "      <th>2</th>\n",
       "      <td>09-12-2021</td>\n",
       "      <td>-13</td>\n",
       "      <td>9.0</td>\n",
       "    </tr>\n",
       "  </tbody>\n",
       "</table>\n",
       "</div>"
      ],
      "text/plain": [
       "         date  temperature_c  temperature_f\n",
       "0  07-12-2021             -9           16.0\n",
       "1  08-12-2021            -11           12.0\n",
       "2  09-12-2021            -13            9.0"
      ]
     },
     "execution_count": 23,
     "metadata": {},
     "output_type": "execute_result"
    }
   ],
   "source": [
    "df"
   ]
  },
  {
   "cell_type": "code",
   "execution_count": 28,
   "id": "59251275",
   "metadata": {},
   "outputs": [
    {
     "data": {
      "text/plain": [
       "354224848179261915075"
      ]
     },
     "execution_count": 28,
     "metadata": {},
     "output_type": "execute_result"
    }
   ],
   "source": [
    "def func(n):\n",
    "    if n < 2: return n \n",
    "    a, b = 0, 1\n",
    "    for i in range(1,n):\n",
    "        a,b = b, a + b\n",
    "    return b\n",
    "func(100)"
   ]
  },
  {
   "cell_type": "code",
   "execution_count": null,
   "id": "4bca790c",
   "metadata": {},
   "outputs": [],
   "source": []
  }
 ],
 "metadata": {
  "kernelspec": {
   "display_name": "Python 3",
   "language": "python",
   "name": "python3"
  },
  "language_info": {
   "codemirror_mode": {
    "name": "ipython",
    "version": 3
   },
   "file_extension": ".py",
   "mimetype": "text/x-python",
   "name": "python",
   "nbconvert_exporter": "python",
   "pygments_lexer": "ipython3",
   "version": "3.8.8"
  }
 },
 "nbformat": 4,
 "nbformat_minor": 5
}
