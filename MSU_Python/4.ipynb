{
 "cells": [
  {
   "cell_type": "markdown",
   "id": "a5434294",
   "metadata": {},
   "source": [
    "# 3 \n",
    "Перевести число из двоичной системы счисления в десятичную.\n",
    "s — число в двоичном представлении, записанное при помощи цифр 0 и 1, длиной не более 8 символов."
   ]
  },
  {
   "cell_type": "code",
   "execution_count": 15,
   "id": "26eae348",
   "metadata": {},
   "outputs": [
    {
     "name": "stdout",
     "output_type": "stream",
     "text": [
      "11\n",
      "3\n"
     ]
    }
   ],
   "source": [
    "user_input = int(input())\n",
    "bits = list(str(user_input))\n",
    "decimal = 0\n",
    "counter = 0\n",
    "if len(str(user_input)) <= 8:\n",
    "    for i in reversed(bits):\n",
    "        decimal += 2**counter * int(i)\n",
    "        counter+=1\n",
    "print(decimal)"
   ]
  },
  {
   "cell_type": "code",
   "execution_count": 14,
   "id": "95cdf183",
   "metadata": {},
   "outputs": [
    {
     "name": "stdout",
     "output_type": "stream",
     "text": [
      "1001\n",
      "9\n"
     ]
    }
   ],
   "source": [
    "s = input()\n",
    "if len(s)<9:\n",
    " print(int(s,2))"
   ]
  },
  {
   "cell_type": "markdown",
   "id": "09eaf41e",
   "metadata": {},
   "source": [
    "# 4\n",
    "Вычислить при помощи класса Fraction библиотеки fractions значение следующего выражения:\n"
   ]
  },
  {
   "cell_type": "code",
   "execution_count": null,
   "id": "83067ca2",
   "metadata": {},
   "outputs": [],
   "source": [
    "from fractions import Fraction\n",
    "a_n, a_d = map(int, input().split())\n",
    "b_n, b_d = map(int, input().split())\n",
    "c_n, c_d = map(int, input().split())\n",
    "\n",
    "a = Fraction(a_n, a_d)\n",
    "b = Fraction(b_n, b_d)\n",
    "c = Fraction(c_n, c_d)\n",
    "\n",
    "result = b/a + b/(a + c) - c/ (c - a)\n",
    "\n",
    "print(f'{float(result):.4f}')"
   ]
  },
  {
   "cell_type": "markdown",
   "id": "7e7960e2",
   "metadata": {},
   "source": [
    "# 5\n",
    "Построчно вводятся целые числа. Последовательность заканчивается нулем.\n",
    "Вывести 2 числа через пробел: количество чисел (не считая 0) и сумму чисел."
   ]
  },
  {
   "cell_type": "code",
   "execution_count": null,
   "id": "d87ce76f",
   "metadata": {},
   "outputs": [],
   "source": []
  },
  {
   "cell_type": "markdown",
   "id": "afb03e92",
   "metadata": {},
   "source": [
    "# 6\n",
    "Найти номер наименьшего члена геометрической прогрессии, превышающего заданное пользователем число \n",
    "a\n",
    "a."
   ]
  },
  {
   "cell_type": "code",
   "execution_count": 18,
   "id": "6b75b89e",
   "metadata": {},
   "outputs": [
    {
     "name": "stdout",
     "output_type": "stream",
     "text": [
      "1 2 3.3\n",
      "3\n"
     ]
    }
   ],
   "source": [
    "b1, q, a = map(float,input().split())\n",
    "n = 1\n",
    "b = b1 * pow(q, n-1)\n",
    "while (b < a):\n",
    "    b = b * q\n",
    "    n = n + 1\n",
    "print(n)"
   ]
  },
  {
   "cell_type": "code",
   "execution_count": null,
   "id": "85c8d809",
   "metadata": {},
   "outputs": [],
   "source": []
  }
 ],
 "metadata": {
  "kernelspec": {
   "display_name": "Python 3",
   "language": "python",
   "name": "python3"
  },
  "language_info": {
   "codemirror_mode": {
    "name": "ipython",
    "version": 3
   },
   "file_extension": ".py",
   "mimetype": "text/x-python",
   "name": "python",
   "nbconvert_exporter": "python",
   "pygments_lexer": "ipython3",
   "version": "3.8.8"
  }
 },
 "nbformat": 4,
 "nbformat_minor": 5
}
