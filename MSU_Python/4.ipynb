{
 "cells": [
  {
   "cell_type": "markdown",
   "id": "44b66462",
   "metadata": {},
   "source": [
    "# 3 \n",
    "Перевести число из двоичной системы счисления в десятичную.\n",
    "s — число в двоичном представлении, записанное при помощи цифр 0 и 1, длиной не более 8 символов."
   ]
  },
  {
   "cell_type": "code",
   "execution_count": 15,
   "id": "2e1d6f7d",
   "metadata": {},
   "outputs": [
    {
     "name": "stdout",
     "output_type": "stream",
     "text": [
      "11\n",
      "3\n"
     ]
    }
   ],
   "source": [
    "user_input = int(input())\n",
    "bits = list(str(user_input))\n",
    "decimal = 0\n",
    "counter = 0\n",
    "if len(str(user_input)) <= 8:\n",
    "    for i in reversed(bits):\n",
    "        decimal += 2**counter * int(i)\n",
    "        counter+=1\n",
    "print(decimal)"
   ]
  },
  {
   "cell_type": "code",
   "execution_count": 14,
   "id": "ae956d9e",
   "metadata": {},
   "outputs": [
    {
     "name": "stdout",
     "output_type": "stream",
     "text": [
      "1001\n",
      "9\n"
     ]
    }
   ],
   "source": [
    "s = input()\n",
    "if len(s)<9:\n",
    " print(int(s,2))"
   ]
  },
  {
   "cell_type": "markdown",
   "id": "965b3359",
   "metadata": {},
   "source": [
    "# 4\n",
    "Вычислить при помощи класса Fraction библиотеки fractions значение следующего выражения:\n"
   ]
  },
  {
   "cell_type": "code",
   "execution_count": null,
   "id": "55079a3b",
   "metadata": {},
   "outputs": [],
   "source": [
    "from fractions import Fraction\n",
    "a_n, a_d = map(int, input().split())\n",
    "b_n, b_d = map(int, input().split())\n",
    "c_n, c_d = map(int, input().split())\n",
    "\n",
    "a = Fraction(a_n, a_d)\n",
    "b = Fraction(b_n, b_d)\n",
    "c = Fraction(c_n, c_d)\n",
    "\n",
    "result = b/a + b/(a + c) - c/ (c - a)\n",
    "\n",
    "print(f'{float(result):.4f}')"
   ]
  },
  {
   "cell_type": "markdown",
   "id": "2087444f",
   "metadata": {},
   "source": [
    "# 5\n",
    "Построчно вводятся целые числа. Последовательность заканчивается нулем.\n",
    "Вывести 2 числа через пробел: количество чисел (не считая 0) и сумму чисел."
   ]
  },
  {
   "cell_type": "code",
   "execution_count": 75,
   "id": "3a79359c",
   "metadata": {},
   "outputs": [
    {
     "name": "stdout",
     "output_type": "stream",
     "text": [
      "1\n",
      "2\n",
      "3\n",
      "4\n",
      "5\n",
      "0\n",
      "5 15\n"
     ]
    }
   ],
   "source": [
    "lst = []\n",
    "while 0 not in lst:\n",
    "    lst.append(int(input()))\n",
    "if lst[0] == 0:\n",
    "    print(0, sum(lst))\n",
    "else:\n",
    "    print(len(lst) - 1, sum(lst))"
   ]
  },
  {
   "cell_type": "markdown",
   "id": "db976525",
   "metadata": {},
   "source": [
    "# 6\n",
    "Найти номер наименьшего члена геометрической прогрессии, превышающего заданное пользователем число \n",
    "a\n",
    "a."
   ]
  },
  {
   "cell_type": "code",
   "execution_count": 18,
   "id": "b4f71707",
   "metadata": {},
   "outputs": [
    {
     "name": "stdout",
     "output_type": "stream",
     "text": [
      "1 2 3.3\n",
      "3\n"
     ]
    }
   ],
   "source": [
    "b1, q, a = map(float,input().split())\n",
    "n = 1\n",
    "b = b1 * pow(q, n-1)\n",
    "while (b < a):\n",
    "    b = b * q\n",
    "    n = n + 1\n",
    "print(n)"
   ]
  },
  {
   "cell_type": "markdown",
   "id": "cb95172e",
   "metadata": {},
   "source": [
    "# 7\n",
    "Таблица CSV, состоящая из 3-х столбцов с названиями: \"Месяц\", \"Сумма на вкладе\", \"Начисление\"; Необходимо заполнить таблицу соответствующими величинами (см. примечание) с точностью до 2-х знаков после запятой."
   ]
  },
  {
   "cell_type": "code",
   "execution_count": 86,
   "id": "8edfd0ae",
   "metadata": {},
   "outputs": [
    {
     "name": "stdout",
     "output_type": "stream",
     "text": [
      "1000000 2 10\n"
     ]
    }
   ],
   "source": [
    "import csv\n",
    "\n",
    "data = [['Месяц', 'Сумма на вкладе', 'Начисление']]\n",
    "amount, period, rate = map(float, input().split()[:3])\n",
    "amount, period = map(int, [amount, period])\n",
    "for month in range(1, 12*period + 1):\n",
    "    s = amount*(rate/1200)\n",
    "    amount += s\n",
    "    data.append([str(month), '%.2f' % amount, '%.2f' % s])\n",
    "with open('output.csv', 'w', encoding='utf-8') as file:\n",
    "    writer = csv.writer(file, delimiter=',')\n",
    "    writer.writerows(data)"
   ]
  }
 ],
 "metadata": {
  "kernelspec": {
   "display_name": "Python 3",
   "language": "python",
   "name": "python3"
  },
  "language_info": {
   "codemirror_mode": {
    "name": "ipython",
    "version": 3
   },
   "file_extension": ".py",
   "mimetype": "text/x-python",
   "name": "python",
   "nbconvert_exporter": "python",
   "pygments_lexer": "ipython3",
   "version": "3.8.8"
  }
 },
 "nbformat": 4,
 "nbformat_minor": 5
}
