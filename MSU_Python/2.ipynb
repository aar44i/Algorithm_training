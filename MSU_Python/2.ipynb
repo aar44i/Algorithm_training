{
 "cells": [
  {
   "cell_type": "markdown",
   "id": "fcb99d9d",
   "metadata": {},
   "source": [
    "Задана строка \n",
    "s\n",
    "s состоящая из символов. Необходимо посчитать их количество \n",
    "∣\n",
    "s\n",
    "∣\n",
    "∣s∣."
   ]
  },
  {
   "cell_type": "code",
   "execution_count": 43,
   "id": "8d29a26e",
   "metadata": {},
   "outputs": [
    {
     "name": "stdout",
     "output_type": "stream",
     "text": [
      "eoriewrpo\n",
      "9\n"
     ]
    }
   ],
   "source": [
    "a = input()\n",
    "if len(a) > 0:\n",
    "    print(len(a))"
   ]
  },
  {
   "cell_type": "markdown",
   "id": "3c4e95bf",
   "metadata": {},
   "source": [
    "Измените порядок символов в строке \n",
    "s\n",
    "s на обратный."
   ]
  },
  {
   "cell_type": "code",
   "execution_count": 50,
   "id": "605130b6",
   "metadata": {},
   "outputs": [
    {
     "name": "stdout",
     "output_type": "stream",
     "text": [
      "Hello World!|\n",
      "|!dlroW olleH\n"
     ]
    }
   ],
   "source": [
    "a = input()\n",
    "if len(a) > 0:\n",
    "    print(a[::-1])"
   ]
  },
  {
   "cell_type": "markdown",
   "id": "6ad463f2",
   "metadata": {},
   "source": [
    "Найдите подстроку \n",
    "s\n",
    "'\n",
    "s′ заключенную в двойных кавычках в строке \n",
    "s\n",
    "s."
   ]
  },
  {
   "cell_type": "code",
   "execution_count": 53,
   "id": "b4a024cc",
   "metadata": {},
   "outputs": [
    {
     "name": "stdout",
     "output_type": "stream",
     "text": [
      "Hel\"lo Wor\"ld!\n"
     ]
    }
   ],
   "source": [
    "a = input()"
   ]
  },
  {
   "cell_type": "code",
   "execution_count": 54,
   "id": "b19877fc",
   "metadata": {},
   "outputs": [
    {
     "data": {
      "text/plain": [
       "'Hel\"lo Wor\"ld!'"
      ]
     },
     "execution_count": 54,
     "metadata": {},
     "output_type": "execute_result"
    }
   ],
   "source": [
    "a"
   ]
  },
  {
   "cell_type": "code",
   "execution_count": null,
   "id": "da07f2e6",
   "metadata": {},
   "outputs": [],
   "source": [
    "def get_Gauge(name):\n",
    "    return name.split('.')[-1].split('пгт ')[-1]\n",
    "def get_River(name):\n",
    "    return name.split(' -')[0].split('р.')[-1]"
   ]
  },
  {
   "cell_type": "code",
   "execution_count": 80,
   "id": "b1235d59",
   "metadata": {},
   "outputs": [
    {
     "ename": "IndentationError",
     "evalue": "unindent does not match any outer indentation level (<tokenize>, line 5)",
     "output_type": "error",
     "traceback": [
      "\u001b[1;36m  File \u001b[1;32m\"<tokenize>\"\u001b[1;36m, line \u001b[1;32m5\u001b[0m\n\u001b[1;33m    return matches\u001b[0m\n\u001b[1;37m    ^\u001b[0m\n\u001b[1;31mIndentationError\u001b[0m\u001b[1;31m:\u001b[0m unindent does not match any outer indentation level\n"
     ]
    }
   ],
   "source": [
    "import re\n",
    "def doit(text):      \n",
    "  matches =re.findall(r'\\\"(.+?)\\\"',text)\n",
    "  return matches\n",
    "\n",
    "# word = input()\n",
    "# if len(word) > 0:\n",
    "#     doit(word)"
   ]
  },
  {
   "cell_type": "code",
   "execution_count": 77,
   "id": "aa6c2100",
   "metadata": {},
   "outputs": [
    {
     "name": "stdout",
     "output_type": "stream",
     "text": [
      "Hel\"lo Wor\"ld!\n"
     ]
    }
   ],
   "source": [
    "word = input()"
   ]
  },
  {
   "cell_type": "code",
   "execution_count": 78,
   "id": "be10c772",
   "metadata": {},
   "outputs": [
    {
     "data": {
      "text/plain": [
       "14"
      ]
     },
     "execution_count": 78,
     "metadata": {},
     "output_type": "execute_result"
    }
   ],
   "source": [
    "len(word)"
   ]
  },
  {
   "cell_type": "code",
   "execution_count": null,
   "id": "53814c21",
   "metadata": {},
   "outputs": [],
   "source": []
  }
 ],
 "metadata": {
  "kernelspec": {
   "display_name": "Python 3",
   "language": "python",
   "name": "python3"
  },
  "language_info": {
   "codemirror_mode": {
    "name": "ipython",
    "version": 3
   },
   "file_extension": ".py",
   "mimetype": "text/x-python",
   "name": "python",
   "nbconvert_exporter": "python",
   "pygments_lexer": "ipython3",
   "version": "3.8.8"
  }
 },
 "nbformat": 4,
 "nbformat_minor": 5
}
