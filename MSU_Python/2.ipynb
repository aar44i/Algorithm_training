{
 "cells": [
  {
   "cell_type": "markdown",
   "id": "316e6607",
   "metadata": {},
   "source": [
    "Задана строка \n",
    "s\n",
    "s состоящая из символов. Необходимо посчитать их количество \n",
    "∣\n",
    "s\n",
    "∣\n",
    "∣s∣."
   ]
  },
  {
   "cell_type": "code",
   "execution_count": 43,
   "id": "fd299df3",
   "metadata": {},
   "outputs": [
    {
     "name": "stdout",
     "output_type": "stream",
     "text": [
      "eoriewrpo\n",
      "9\n"
     ]
    }
   ],
   "source": [
    "a = input()\n",
    "if len(a) > 0:\n",
    "    print(len(a))"
   ]
  },
  {
   "cell_type": "markdown",
   "id": "276a5e78",
   "metadata": {},
   "source": [
    "Измените порядок символов в строке \n",
    "s\n",
    "s на обратный."
   ]
  },
  {
   "cell_type": "code",
   "execution_count": 27,
   "id": "b5834511",
   "metadata": {},
   "outputs": [
    {
     "name": "stdout",
     "output_type": "stream",
     "text": [
      "Hello World!|\n",
      "|!dlroW olleH\n"
     ]
    }
   ],
   "source": [
    "a = input()\n",
    "if len(a) > 0:\n",
    "    print(a[::-1])"
   ]
  },
  {
   "cell_type": "code",
   "execution_count": 10,
   "id": "711660fb",
   "metadata": {},
   "outputs": [
    {
     "name": "stdout",
     "output_type": "stream",
     "text": [
      "121564\n"
     ]
    }
   ],
   "source": [
    "a = input()"
   ]
  },
  {
   "cell_type": "code",
   "execution_count": 14,
   "id": "6e89428a",
   "metadata": {},
   "outputs": [
    {
     "name": "stdout",
     "output_type": "stream",
     "text": [
      "Enter number of elements : 2\n",
      "1\n",
      "2\n",
      "[1, 2]\n"
     ]
    }
   ],
   "source": [
    "lst = []\n",
    "# number of elemetns as input\n",
    "n = int(input(\"Enter number of elements : \"))\n",
    "# iterating till the range\n",
    "for i in range(0, n):\n",
    "            ele = int(input())\n",
    "            lst.append(ele) # adding the element\n",
    "print(lst)"
   ]
  },
  {
   "cell_type": "markdown",
   "id": "bf49d134",
   "metadata": {},
   "source": [
    "Найдите подстроку \n",
    "s\n",
    "'\n",
    "s′ заключенную в двойных кавычках в строке \n",
    "s\n",
    "s."
   ]
  },
  {
   "cell_type": "code",
   "execution_count": 86,
   "id": "8e941853",
   "metadata": {},
   "outputs": [
    {
     "name": "stdout",
     "output_type": "stream",
     "text": [
      "Hel\"lo Wor\"ld!\n",
      "lo Wor\n"
     ]
    }
   ],
   "source": [
    "import re\n",
    "word = input()\n",
    "if len(word) > 0:\n",
    "    matches =re.findall(r'\\\"(.+?)\\\"',word)\n",
    "    print(matches[0])"
   ]
  },
  {
   "cell_type": "markdown",
   "id": "72256666",
   "metadata": {},
   "source": [
    "На вход подается строка, состоящая из одного числа. Напишите программу, которая удваивает его."
   ]
  },
  {
   "cell_type": "code",
   "execution_count": 87,
   "id": "f6f57371",
   "metadata": {},
   "outputs": [
    {
     "name": "stdout",
     "output_type": "stream",
     "text": [
      "2\n",
      "4\n"
     ]
    }
   ],
   "source": [
    "a = int(input())\n",
    "print(a * 2)"
   ]
  },
  {
   "cell_type": "markdown",
   "id": "393afff0",
   "metadata": {},
   "source": [
    "В строке записаны два числа, разделенные пробелом. Поменяйте их местами и напечатайте результат."
   ]
  },
  {
   "cell_type": "code",
   "execution_count": 12,
   "id": "9349a8ab",
   "metadata": {},
   "outputs": [
    {
     "name": "stdout",
     "output_type": "stream",
     "text": [
      "2 4 \n",
      "4 2\n"
     ]
    }
   ],
   "source": [
    "a, b = map(int, input().split( ))\n",
    "print(b, a)"
   ]
  },
  {
   "cell_type": "markdown",
   "id": "af81a0e5",
   "metadata": {},
   "source": [
    "Из почтового адреса нужно достать логин."
   ]
  },
  {
   "cell_type": "code",
   "execution_count": 70,
   "id": "abfe3603",
   "metadata": {},
   "outputs": [
    {
     "name": "stdout",
     "output_type": "stream",
     "text": [
      "ivan@lenta.ru\n",
      "ivan\n"
     ]
    }
   ],
   "source": [
    "from itertools import takewhile\n",
    "s = input()\n",
    "filtered = takewhile(lambda item: item != \"@\", s)\n",
    "filtered = list(filtered) \n",
    "word = ''.join(filtered)\n",
    "print(word)"
   ]
  },
  {
   "cell_type": "markdown",
   "id": "c11f61a8",
   "metadata": {},
   "source": [
    "Человек вводит на сайте номер телефона, ему позволено для удобства использовать кроме плюса и цифр знаки ‘-’, ‘)’, ‘(’ и пробелы. Уберите их из ввода."
   ]
  },
  {
   "cell_type": "code",
   "execution_count": 83,
   "id": "7ed28bd9",
   "metadata": {},
   "outputs": [
    {
     "name": "stdout",
     "output_type": "stream",
     "text": [
      "+7 (812) 134-12-324\n",
      "+781213412324\n"
     ]
    }
   ],
   "source": [
    "import re\n",
    "phone = input()\n",
    "a = re.sub(\"[^0-9+]\", \"\", phone)\n",
    "# print(f\"+{a}\")\n",
    "print(a)\n",
    "# ' \\+ '"
   ]
  },
  {
   "cell_type": "markdown",
   "id": "58e73e16",
   "metadata": {},
   "source": [
    "Проверка палиндрома"
   ]
  },
  {
   "cell_type": "code",
   "execution_count": null,
   "id": "de8b050b",
   "metadata": {},
   "outputs": [],
   "source": []
  },
  {
   "cell_type": "code",
   "execution_count": 2,
   "id": "7a7aa643",
   "metadata": {},
   "outputs": [
    {
     "name": "stdout",
     "output_type": "stream",
     "text": [
      "qwerty\n",
      "It is not a palindrome\n"
     ]
    }
   ],
   "source": [
    "a = input()\n",
    "a = a.lower()\n",
    "a = a.replace(\" \", \"\")\n",
    "if len(a) > 0:\n",
    "    if a == a[::-1]:\n",
    "        print(\"It is a palindrome\")\n",
    "    else:\n",
    "        print(\"It is not a palindrome\")"
   ]
  },
  {
   "cell_type": "markdown",
   "id": "f7a71e8c",
   "metadata": {},
   "source": [
    "Петя записал все числа от 1 до 123 (без пробелов). А потом вычеркнул все девятки. Какая строка у него получилась?"
   ]
  },
  {
   "cell_type": "code",
   "execution_count": 58,
   "id": "45872448",
   "metadata": {},
   "outputs": [
    {
     "data": {
      "text/plain": [
       "'12345678101112131415161718120212223242526272823031323334353637383404142434445464748450515253545556575856061626364656667686707172737475767778780818283848586878880123456781001011021031041051061071081011011111211311411511611711811120121122123'"
      ]
     },
     "execution_count": 58,
     "metadata": {},
     "output_type": "execute_result"
    }
   ],
   "source": [
    "num = []\n",
    "for i in range(124):\n",
    "    num.append(i)\n",
    "strings = [str(integer) for integer in num]\n",
    "del strings[0]\n",
    "a_string = list(map(str, a_string))\n",
    "strings = [ x for x in a_string if \"9\" not in x ]\n",
    "a_string = \"\".join(strings)\n",
    "a_string\n",
    "\n"
   ]
  }
 ],
 "metadata": {
  "kernelspec": {
   "display_name": "Python 3",
   "language": "python",
   "name": "python3"
  },
  "language_info": {
   "codemirror_mode": {
    "name": "ipython",
    "version": 3
   },
   "file_extension": ".py",
   "mimetype": "text/x-python",
   "name": "python",
   "nbconvert_exporter": "python",
   "pygments_lexer": "ipython3",
   "version": "3.8.8"
  }
 },
 "nbformat": 4,
 "nbformat_minor": 5
}
