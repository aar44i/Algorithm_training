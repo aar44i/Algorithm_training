{
 "cells": [
  {
   "cell_type": "markdown",
   "id": "316e6607",
   "metadata": {},
   "source": [
    "Задана строка \n",
    "s\n",
    "s состоящая из символов. Необходимо посчитать их количество \n",
    "∣\n",
    "s\n",
    "∣\n",
    "∣s∣."
   ]
  },
  {
   "cell_type": "code",
   "execution_count": 43,
   "id": "fd299df3",
   "metadata": {},
   "outputs": [
    {
     "name": "stdout",
     "output_type": "stream",
     "text": [
      "eoriewrpo\n",
      "9\n"
     ]
    }
   ],
   "source": [
    "a = input()\n",
    "if len(a) > 0:\n",
    "    print(len(a))"
   ]
  },
  {
   "cell_type": "markdown",
   "id": "276a5e78",
   "metadata": {},
   "source": [
    "Измените порядок символов в строке \n",
    "s\n",
    "s на обратный."
   ]
  },
  {
   "cell_type": "code",
   "execution_count": 27,
   "id": "b5834511",
   "metadata": {},
   "outputs": [
    {
     "name": "stdout",
     "output_type": "stream",
     "text": [
      "Hello World!|\n",
      "|!dlroW olleH\n"
     ]
    }
   ],
   "source": [
    "a = input()\n",
    "if len(a) > 0:\n",
    "    print(a[::-1])"
   ]
  },
  {
   "cell_type": "code",
   "execution_count": 28,
   "id": "6c0f5d3b",
   "metadata": {},
   "outputs": [
    {
     "data": {
      "text/plain": [
       "str"
      ]
     },
     "execution_count": 28,
     "metadata": {},
     "output_type": "execute_result"
    }
   ],
   "source": [
    "type(a)"
   ]
  },
  {
   "cell_type": "markdown",
   "id": "bf49d134",
   "metadata": {},
   "source": [
    "Найдите подстроку \n",
    "s\n",
    "'\n",
    "s′ заключенную в двойных кавычках в строке \n",
    "s\n",
    "s."
   ]
  },
  {
   "cell_type": "code",
   "execution_count": 86,
   "id": "8e941853",
   "metadata": {},
   "outputs": [
    {
     "name": "stdout",
     "output_type": "stream",
     "text": [
      "Hel\"lo Wor\"ld!\n",
      "lo Wor\n"
     ]
    }
   ],
   "source": [
    "import re\n",
    "word = input()\n",
    "if len(word) > 0:\n",
    "    matches =re.findall(r'\\\"(.+?)\\\"',word)\n",
    "    print(matches[0])"
   ]
  },
  {
   "cell_type": "markdown",
   "id": "72256666",
   "metadata": {},
   "source": [
    "На вход подается строка, состоящая из одного числа. Напишите программу, которая удваивает его."
   ]
  },
  {
   "cell_type": "code",
   "execution_count": 87,
   "id": "f6f57371",
   "metadata": {},
   "outputs": [
    {
     "name": "stdout",
     "output_type": "stream",
     "text": [
      "2\n",
      "4\n"
     ]
    }
   ],
   "source": [
    "a = int(input())\n",
    "print(a * 2)"
   ]
  },
  {
   "cell_type": "markdown",
   "id": "393afff0",
   "metadata": {},
   "source": [
    "В строке записаны два числа, разделенные пробелом. Поменяйте их местами и напечатайте результат."
   ]
  },
  {
   "cell_type": "code",
   "execution_count": 12,
   "id": "9349a8ab",
   "metadata": {},
   "outputs": [
    {
     "name": "stdout",
     "output_type": "stream",
     "text": [
      "2 4 \n",
      "4 2\n"
     ]
    }
   ],
   "source": [
    "a, b = map(int, input().split( ))\n",
    "print(b, a)"
   ]
  },
  {
   "cell_type": "markdown",
   "id": "af81a0e5",
   "metadata": {},
   "source": [
    "Из почтового адреса нужно достать логин."
   ]
  },
  {
   "cell_type": "code",
   "execution_count": 58,
   "id": "0bd3bc14",
   "metadata": {},
   "outputs": [
    {
     "name": "stdout",
     "output_type": "stream",
     "text": [
      "ivan@lenta.ru\n"
     ]
    }
   ],
   "source": [
    "s = input()\n"
   ]
  },
  {
   "cell_type": "code",
   "execution_count": 18,
   "id": "10ca3b8f",
   "metadata": {},
   "outputs": [
    {
     "data": {
      "text/plain": [
       "'ivan'"
      ]
     },
     "execution_count": 18,
     "metadata": {},
     "output_type": "execute_result"
    }
   ],
   "source": [
    "s.split(\"@\")[0]"
   ]
  },
  {
   "cell_type": "code",
   "execution_count": 29,
   "id": "6e244cc5",
   "metadata": {},
   "outputs": [
    {
     "data": {
      "text/plain": [
       "str"
      ]
     },
     "execution_count": 29,
     "metadata": {},
     "output_type": "execute_result"
    }
   ],
   "source": [
    "type(s)"
   ]
  },
  {
   "cell_type": "code",
   "execution_count": 70,
   "id": "db6fead5",
   "metadata": {},
   "outputs": [
    {
     "name": "stdout",
     "output_type": "stream",
     "text": [
      "ivan@lenta.ru\n",
      "ivan\n"
     ]
    }
   ],
   "source": [
    "from itertools import takewhile\n",
    "s = input()\n",
    "filtered = takewhile(lambda item: item != \"@\", s)\n",
    "filtered = list(filtered) \n",
    "word = ''.join(filtered)\n",
    "print(word)"
   ]
  },
  {
   "cell_type": "markdown",
   "id": "c11f61a8",
   "metadata": {},
   "source": [
    "Человек вводит на сайте номер телефона, ему позволено для удобства использовать кроме плюса и цифр знаки ‘-’, ‘)’, ‘(’ и пробелы. Уберите их из ввода."
   ]
  },
  {
   "cell_type": "code",
   "execution_count": 71,
   "id": "7ed28bd9",
   "metadata": {},
   "outputs": [
    {
     "name": "stdout",
     "output_type": "stream",
     "text": [
      "dfrergr\n",
      "+\n"
     ]
    }
   ],
   "source": [
    "import re\n",
    "phone = input()\n",
    "a = re.sub(\"[^0-9]\", \"\", phone)\n",
    "print(f\"+{a}\")"
   ]
  },
  {
   "cell_type": "markdown",
   "id": "58e73e16",
   "metadata": {},
   "source": [
    "Проверка палиндрома"
   ]
  },
  {
   "cell_type": "code",
   "execution_count": 51,
   "id": "479a0fe8",
   "metadata": {},
   "outputs": [
    {
     "name": "stdout",
     "output_type": "stream",
     "text": [
      "FA  OAoA f\n",
      "It is a palindrome\n"
     ]
    }
   ],
   "source": [
    "a = input()\n",
    "a = a.lower()\n",
    "a = a.replace(\" \", \"\")\n",
    "if len(a) > 0:\n",
    "    if a == a[::-1]:\n",
    "        print(\"It is a palindrome\")\n",
    "    else:\n",
    "        print(\"It is not a palindrome\")"
   ]
  },
  {
   "cell_type": "markdown",
   "id": "f7a71e8c",
   "metadata": {},
   "source": [
    "Петя записал все числа от 1 до 123 (без пробелов). А потом вычеркнул все девятки. Какая строка у него получилась?"
   ]
  },
  {
   "cell_type": "code",
   "execution_count": 56,
   "id": "00b131c3",
   "metadata": {},
   "outputs": [
    {
     "ename": "TypeError",
     "evalue": "'int' object is not iterable",
     "output_type": "error",
     "traceback": [
      "\u001b[1;31m---------------------------------------------------------------------------\u001b[0m",
      "\u001b[1;31mTypeError\u001b[0m                                 Traceback (most recent call last)",
      "\u001b[1;32m<ipython-input-56-0f2d404b8fcf>\u001b[0m in \u001b[0;36m<module>\u001b[1;34m\u001b[0m\n\u001b[0;32m      2\u001b[0m \u001b[1;31m# for i in range(123):\u001b[0m\u001b[1;33m\u001b[0m\u001b[1;33m\u001b[0m\u001b[1;33m\u001b[0m\u001b[0m\n\u001b[0;32m      3\u001b[0m \u001b[1;31m#     x\u001b[0m\u001b[1;33m\u001b[0m\u001b[1;33m\u001b[0m\u001b[1;33m\u001b[0m\u001b[0m\n\u001b[1;32m----> 4\u001b[1;33m \u001b[0mlist\u001b[0m\u001b[1;33m(\u001b[0m\u001b[0mfilter\u001b[0m\u001b[1;33m(\u001b[0m\u001b[1;33m(\u001b[0m\u001b[1;36m9\u001b[0m\u001b[1;33m)\u001b[0m\u001b[1;33m.\u001b[0m\u001b[0m__ne__\u001b[0m\u001b[1;33m,\u001b[0m \u001b[0mx\u001b[0m\u001b[1;33m)\u001b[0m\u001b[1;33m)\u001b[0m\u001b[1;33m\u001b[0m\u001b[1;33m\u001b[0m\u001b[0m\n\u001b[0m",
      "\u001b[1;31mTypeError\u001b[0m: 'int' object is not iterable"
     ]
    }
   ],
   "source": [
    "x = 1239999\n",
    "# for i in range(123):\n",
    "#     x\n",
    "list(filter((9).__ne__, x))"
   ]
  },
  {
   "cell_type": "code",
   "execution_count": null,
   "id": "45872448",
   "metadata": {},
   "outputs": [],
   "source": []
  }
 ],
 "metadata": {
  "kernelspec": {
   "display_name": "Python 3",
   "language": "python",
   "name": "python3"
  },
  "language_info": {
   "codemirror_mode": {
    "name": "ipython",
    "version": 3
   },
   "file_extension": ".py",
   "mimetype": "text/x-python",
   "name": "python",
   "nbconvert_exporter": "python",
   "pygments_lexer": "ipython3",
   "version": "3.8.8"
  }
 },
 "nbformat": 4,
 "nbformat_minor": 5
}
