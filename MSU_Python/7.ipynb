{
 "cells": [
  {
   "cell_type": "code",
   "execution_count": 3,
   "id": "a8844ad3",
   "metadata": {},
   "outputs": [
    {
     "name": "stdout",
     "output_type": "stream",
     "text": [
      "1\n"
     ]
    }
   ],
   "source": [
    "with open('input.txt', 'r') as f: #чило, например, 1415 среди списка 1413 1414 1415 1416.\n",
    "    text = f.read().split()\n",
    "    text = list(map(int, text))\n",
    "i = 0\n",
    "while i < len(text):\n",
    "    if text[i] == 1415:\n",
    "        print(i)\n",
    "    i += 1"
   ]
  },
  {
   "cell_type": "code",
   "execution_count": 4,
   "id": "58ab8eb1",
   "metadata": {},
   "outputs": [],
   "source": [
    "import numpy as np\n",
    "with open ('input.txt', 'r') as f:\n",
    "    text = f.read().split()\n",
    "    start = float(text[0])\n",
    "    end = float(text[1])\n",
    "    days = int(text[2])\n",
    "    waiting_currency = np.linspace(start, end, days)\n",
    "    waiting_currency[0::7] = waiting_currency[0::7]/3\n",
    "    waiting_currency[4::7] = waiting_currency[4::7]*2\n",
    "    np.savetxt('output.txt', waiting_currency, newline='\\n', fmt = '%2.2f') "
   ]
  },
  {
   "cell_type": "code",
   "execution_count": null,
   "id": "d152d0b5",
   "metadata": {},
   "outputs": [],
   "source": []
  }
 ],
 "metadata": {
  "kernelspec": {
   "display_name": "Python 3",
   "language": "python",
   "name": "python3"
  },
  "language_info": {
   "codemirror_mode": {
    "name": "ipython",
    "version": 3
   },
   "file_extension": ".py",
   "mimetype": "text/x-python",
   "name": "python",
   "nbconvert_exporter": "python",
   "pygments_lexer": "ipython3",
   "version": "3.8.8"
  }
 },
 "nbformat": 4,
 "nbformat_minor": 5
}
