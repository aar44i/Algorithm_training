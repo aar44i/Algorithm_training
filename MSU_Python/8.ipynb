{
 "cells": [
  {
   "cell_type": "markdown",
   "id": "eeb47829",
   "metadata": {},
   "source": [
    "# 1\n",
    "В стандартный поток вывода или в файл output.txt выведите 3\n",
    "вещественных числа (медиану, среднее арифметическое и среднеквадратическое отклонение) с точностью \n",
    "2 знака после запятой, разделив их одним пробелом."
   ]
  },
  {
   "cell_type": "code",
   "execution_count": 78,
   "id": "a104ec8e",
   "metadata": {},
   "outputs": [
    {
     "name": "stdout",
     "output_type": "stream",
     "text": [
      "6104.00, 5442.20, 2612.10\n"
     ]
    }
   ],
   "source": [
    "import numpy as np\n",
    "with open('numpy.txt') as file:\n",
    "    a = np.genfromtxt(file)\n",
    "print(\"{:.2f}, {:.2f}, {:.2f}\".format(np.median(a), np.mean(a), np.std(a)))"
   ]
  },
  {
   "cell_type": "markdown",
   "id": "e854877c",
   "metadata": {},
   "source": [
    "# 2\n",
    "В стандартный поток вывода или в файл output.txt необходимо вывести единственное число, равное номеру (не путайте номер с ИНДЕКСОМ) наиболее часто встречающегося цвета:"
   ]
  },
  {
   "cell_type": "code",
   "execution_count": 98,
   "id": "656caba4",
   "metadata": {},
   "outputs": [
    {
     "name": "stdout",
     "output_type": "stream",
     "text": [
      "1\n"
     ]
    }
   ],
   "source": [
    "import numpy as np\n",
    "with open('input.csv') as file:\n",
    "    fashion = np.genfromtxt(file, delimiter=',')\n",
    "column_sums = fashion.sum(axis=0).tolist()\n",
    "print(column_sums.index(max(column_sums)) + 1)\n",
    "# column_sums"
   ]
  },
  {
   "cell_type": "markdown",
   "id": "ef8b0c86",
   "metadata": {},
   "source": [
    "# 3\n",
    "В файле input.csv содержатся записи о подходах, сделанных клиентами за последние \n",
    "35 дней. Массив содержит N строк и 35 столбцов, где N — это количество спортсменов в клубе.\n",
    "В стандартный поток вывода или в файл output.txt запишите единственное число \n",
    "1 или 2, в зависимости от Вашего решения. Если в клубе больше спортсменов, совершающих примерно одно и то же число подходов, запишите 1, иначе — запишите 2"
   ]
  },
  {
   "cell_type": "code",
   "execution_count": 115,
   "id": "9b4a1390",
   "metadata": {},
   "outputs": [
    {
     "name": "stdout",
     "output_type": "stream",
     "text": [
      "1\n"
     ]
    }
   ],
   "source": [
    "import numpy as np\n",
    "with open('input.csv') as file:\n",
    "    a =  np.genfromtxt(file, delimiter=',')\n",
    "std  = np.std(a, 1)\n",
    "print(1 if (std > 4).tolist().count(True) else 2)"
   ]
  },
  {
   "cell_type": "code",
   "execution_count": null,
   "id": "378b343d",
   "metadata": {},
   "outputs": [],
   "source": []
  }
 ],
 "metadata": {
  "kernelspec": {
   "display_name": "Python 3",
   "language": "python",
   "name": "python3"
  },
  "language_info": {
   "codemirror_mode": {
    "name": "ipython",
    "version": 3
   },
   "file_extension": ".py",
   "mimetype": "text/x-python",
   "name": "python",
   "nbconvert_exporter": "python",
   "pygments_lexer": "ipython3",
   "version": "3.8.8"
  }
 },
 "nbformat": 4,
 "nbformat_minor": 5
}
