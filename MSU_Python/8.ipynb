{
 "cells": [
  {
   "cell_type": "markdown",
   "id": "7a772c08",
   "metadata": {},
   "source": [
    "# 1\n",
    "В стандартный поток вывода или в файл output.txt выведите 3\n",
    "вещественных числа (медиану, среднее арифметическое и среднеквадратическое отклонение) с точностью \n",
    "2 знака после запятой, разделив их одним пробелом."
   ]
  },
  {
   "cell_type": "code",
   "execution_count": 78,
   "id": "b1875821",
   "metadata": {},
   "outputs": [
    {
     "name": "stdout",
     "output_type": "stream",
     "text": [
      "6104.00, 5442.20, 2612.10\n"
     ]
    }
   ],
   "source": [
    "import numpy as np\n",
    "with open('numpy.txt') as file:\n",
    "    a = np.genfromtxt(file)\n",
    "print(\"{:.2f}, {:.2f}, {:.2f}\".format(np.median(a), np.mean(a), np.std(a)))"
   ]
  },
  {
   "cell_type": "markdown",
   "id": "9424ada5",
   "metadata": {},
   "source": [
    "# 2\n",
    "В стандартный поток вывода или в файл output.txt необходимо вывести единственное число, равное номеру (не путайте номер с ИНДЕКСОМ) наиболее часто встречающегося цвета:"
   ]
  },
  {
   "cell_type": "code",
   "execution_count": 98,
   "id": "07588b87",
   "metadata": {},
   "outputs": [
    {
     "name": "stdout",
     "output_type": "stream",
     "text": [
      "1\n"
     ]
    }
   ],
   "source": [
    "import numpy as np\n",
    "with open('input.csv') as file:\n",
    "    fashion = np.genfromtxt(file, delimiter=',')\n",
    "column_sums = fashion.sum(axis=0).tolist()\n",
    "print(column_sums.index(max(column_sums)) + 1)\n",
    "# column_sums"
   ]
  },
  {
   "cell_type": "markdown",
   "id": "d175dd88",
   "metadata": {},
   "source": [
    "# 3\n",
    "В файле input.csv содержатся записи о подходах, сделанных клиентами за последние \n",
    "35 дней. Массив содержит N строк и 35 столбцов, где N — это количество спортсменов в клубе.\n",
    "В стандартный поток вывода или в файл output.txt запишите единственное число \n",
    "1 или 2, в зависимости от Вашего решения. Если в клубе больше спортсменов, совершающих примерно одно и то же число подходов, запишите 1, иначе — запишите 2"
   ]
  },
  {
   "cell_type": "code",
   "execution_count": 21,
   "id": "6bdd9b20",
   "metadata": {},
   "outputs": [
    {
     "name": "stdout",
     "output_type": "stream",
     "text": [
      "1\n"
     ]
    }
   ],
   "source": [
    "import numpy as np\n",
    "with open('input.csv') as file:\n",
    "    a =  np.genfromtxt(file, delimiter=',')\n",
    "std  = np.std(a, 1)\n",
    "print(2 if ((std > 4).tolist().count(True) > (std > 4).tolist().count(False)) else 1)"
   ]
  },
  {
   "cell_type": "markdown",
   "id": "f64f6b0f",
   "metadata": {},
   "source": [
    "# 5\n",
    " Вам дан csv-файл с количеством побед каждого из участников клуба (их 15) за каждый из 30 дней месяца. Присваиванием в срез замените значение в первой строке (конечно, эта строка принадлежит Гарри) на среднее значение побед по этому дню, умноженное на \n",
    "1.5."
   ]
  },
  {
   "cell_type": "code",
   "execution_count": 55,
   "id": "d05a2376",
   "metadata": {},
   "outputs": [],
   "source": [
    "import numpy as np\n",
    "with open('input.csv') as file:\n",
    "    a =  np.genfromtxt(file, delimiter=',')\n",
    "a[0] = np.fix(a.mean(axis=0) * 1.5)\n",
    "np.savetxt(\"output.csv\", a, delimiter=',', fmt=\"%g\")"
   ]
  }
 ],
 "metadata": {
  "kernelspec": {
   "display_name": "Python 3",
   "language": "python",
   "name": "python3"
  },
  "language_info": {
   "codemirror_mode": {
    "name": "ipython",
    "version": 3
   },
   "file_extension": ".py",
   "mimetype": "text/x-python",
   "name": "python",
   "nbconvert_exporter": "python",
   "pygments_lexer": "ipython3",
   "version": "3.8.8"
  }
 },
 "nbformat": 4,
 "nbformat_minor": 5
}
