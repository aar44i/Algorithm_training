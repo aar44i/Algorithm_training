{
 "cells": [
  {
   "cell_type": "markdown",
   "id": "2f03086a",
   "metadata": {},
   "source": [
    "# 4\n",
    "Провести частотный анализ числа и найти наиболее часто встречающуюся цифру."
   ]
  },
  {
   "cell_type": "code",
   "execution_count": 72,
   "id": "19d26507",
   "metadata": {},
   "outputs": [
    {
     "name": "stdout",
     "output_type": "stream",
     "text": [
      "200222222221\n",
      "2\n"
     ]
    }
   ],
   "source": [
    "import collections\n",
    "a = input()\n",
    "if len(a) < 1000:\n",
    "    a = [int(d) for d in str(a)]\n",
    "    counter=collections.Counter(a)\n",
    "    print(max(counter.keys()))"
   ]
  },
  {
   "cell_type": "markdown",
   "id": "c9344ddc",
   "metadata": {},
   "source": [
    "# 5\n",
    "Вывести через строчку названия всех видов животных в порядке увеличения длины названия,"
   ]
  },
  {
   "cell_type": "code",
   "execution_count": 121,
   "id": "3a27e059",
   "metadata": {},
   "outputs": [
    {
     "name": "stdout",
     "output_type": "stream",
     "text": [
      "leopard\n",
      "orangutan\n"
     ]
    }
   ],
   "source": [
    "with open('input.txt', 'r', encoding = 'UTF-8') as f:\n",
    "    text = f.read().splitlines()\n",
    "animals_lst = []\n",
    "if len(text) <= 1000:\n",
    "    for i in range(len(text)):\n",
    "        animals_lst.append(text[i].split(' ')[1])\n",
    "\n",
    "    animals = set(animals_lst)\n",
    "    animals_sort = sorted(animals, key=len)\n",
    "    for i in animals_sort:\n",
    "        print(i)"
   ]
  },
  {
   "cell_type": "markdown",
   "id": "6a28412a",
   "metadata": {},
   "source": [
    "# 6\n",
    "Вывести через строчку названия всех животных, которые могут давать потомство, в порядке увеличения длины названия:"
   ]
  },
  {
   "cell_type": "code",
   "execution_count": 4,
   "id": "0238a4c9",
   "metadata": {},
   "outputs": [
    {
     "name": "stdout",
     "output_type": "stream",
     "text": [
      "cat\n"
     ]
    }
   ],
   "source": [
    "with open('input6.txt', 'r', encoding = 'UTF-8') as f:\n",
    "    text = [line.split() for line in f.read().splitlines()]\n",
    "male = set()\n",
    "female = set()\n",
    "for word in text:\n",
    "    if word[2] == 'female':\n",
    "        female.add(word[1])\n",
    "    else:\n",
    "        male.add(word[1])\n",
    "pair=list(male&female)\n",
    "pair_sort = sorted(pair, key=len)\n",
    "if len(pair_sort) > 0:\n",
    "    for i in pair_sort:\n",
    "        print(i)\n",
    "else:\n",
    "    print(0)"
   ]
  },
  {
   "cell_type": "markdown",
   "id": "35d991ea",
   "metadata": {},
   "source": [
    "# 7\n",
    "Вывести через строчку количество животных для каждого вида в порядке убывания:"
   ]
  },
  {
   "cell_type": "code",
   "execution_count": 25,
   "id": "f6080a37",
   "metadata": {},
   "outputs": [],
   "source": [
    "with open('input7.txt', 'r', encoding = 'UTF-8') as f:\n",
    "    text = f.read().splitlines()"
   ]
  },
  {
   "cell_type": "code",
   "execution_count": 26,
   "id": "9bdfedb0",
   "metadata": {},
   "outputs": [
    {
     "data": {
      "text/plain": [
       "['0043 dog female Dora 29.01.2015 31.12.2016',\n",
       " '0003 dog male Max 03.03.2011 31.12.2016',\n",
       " '0042 cat male Pushok 13.09.2015 31.12.2016']"
      ]
     },
     "execution_count": 26,
     "metadata": {},
     "output_type": "execute_result"
    }
   ],
   "source": [
    "text"
   ]
  },
  {
   "cell_type": "code",
   "execution_count": 27,
   "id": "17537f9b",
   "metadata": {},
   "outputs": [],
   "source": [
    "animals_lst = []\n",
    "if len(text) <= 1000:\n",
    "    for i in range(len(text)):\n",
    "        animals_lst.append(text[i].split(' ')[1])"
   ]
  },
  {
   "cell_type": "code",
   "execution_count": 28,
   "id": "6045e7cc",
   "metadata": {},
   "outputs": [
    {
     "data": {
      "text/plain": [
       "['dog', 'dog', 'cat']"
      ]
     },
     "execution_count": 28,
     "metadata": {},
     "output_type": "execute_result"
    }
   ],
   "source": [
    "animals_lst"
   ]
  },
  {
   "cell_type": "code",
   "execution_count": 33,
   "id": "d57f692d",
   "metadata": {},
   "outputs": [
    {
     "ename": "SyntaxError",
     "evalue": "unexpected EOF while parsing (<ipython-input-33-278d1cc4a974>, line 4)",
     "output_type": "error",
     "traceback": [
      "\u001b[1;36m  File \u001b[1;32m\"<ipython-input-33-278d1cc4a974>\"\u001b[1;36m, line \u001b[1;32m4\u001b[0m\n\u001b[1;33m    # print(sorted(counter.values()))\u001b[0m\n\u001b[1;37m                                     ^\u001b[0m\n\u001b[1;31mSyntaxError\u001b[0m\u001b[1;31m:\u001b[0m unexpected EOF while parsing\n"
     ]
    }
   ],
   "source": [
    "import collections\n",
    "counter=collections.Counter(animals_lst)\n",
    "print(sorted(counter.keys(), key = sorted(counter.values())\n",
    "# print(sorted(counter.values()))"
   ]
  },
  {
   "cell_type": "code",
   "execution_count": null,
   "id": "2dabf091",
   "metadata": {},
   "outputs": [],
   "source": []
  }
 ],
 "metadata": {
  "kernelspec": {
   "display_name": "Python 3",
   "language": "python",
   "name": "python3"
  },
  "language_info": {
   "codemirror_mode": {
    "name": "ipython",
    "version": 3
   },
   "file_extension": ".py",
   "mimetype": "text/x-python",
   "name": "python",
   "nbconvert_exporter": "python",
   "pygments_lexer": "ipython3",
   "version": "3.8.8"
  }
 },
 "nbformat": 4,
 "nbformat_minor": 5
}
