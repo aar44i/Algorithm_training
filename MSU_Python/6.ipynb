{
 "cells": [
  {
   "cell_type": "markdown",
   "id": "2f03086a",
   "metadata": {},
   "source": [
    "# 4\n",
    "Провести частотный анализ числа и найти наиболее часто встречающуюся цифру."
   ]
  },
  {
   "cell_type": "code",
   "execution_count": 50,
   "id": "448f9492",
   "metadata": {},
   "outputs": [
    {
     "name": "stdout",
     "output_type": "stream",
     "text": [
      "4 4 4 4\n",
      "4\n"
     ]
    }
   ],
   "source": [
    "import collections\n",
    "a = list(map(int, input().split()))\n",
    "counter=collections.Counter(a)\n",
    "print(max(counter.values()))"
   ]
  },
  {
   "cell_type": "code",
   "execution_count": 55,
   "id": "418a975b",
   "metadata": {},
   "outputs": [
    {
     "name": "stdout",
     "output_type": "stream",
     "text": [
      "488\n"
     ]
    }
   ],
   "source": [
    "a = input()"
   ]
  },
  {
   "cell_type": "code",
   "execution_count": 56,
   "id": "d3c796e9",
   "metadata": {},
   "outputs": [
    {
     "data": {
      "text/plain": [
       "3"
      ]
     },
     "execution_count": 56,
     "metadata": {},
     "output_type": "execute_result"
    }
   ],
   "source": [
    "len(a)"
   ]
  },
  {
   "cell_type": "code",
   "execution_count": 72,
   "id": "19d26507",
   "metadata": {},
   "outputs": [
    {
     "name": "stdout",
     "output_type": "stream",
     "text": [
      "200222222221\n",
      "2\n"
     ]
    }
   ],
   "source": [
    "import collections\n",
    "a = input()\n",
    "if len(a) < 1000:\n",
    "    a = [int(d) for d in str(a)]\n",
    "    counter=collections.Counter(a)\n",
    "    print(max(counter.keys()))"
   ]
  },
  {
   "cell_type": "code",
   "execution_count": 71,
   "id": "a0c0172c",
   "metadata": {},
   "outputs": [
    {
     "data": {
      "text/plain": [
       "Counter({2: 2, 0: 1, 1: 1})"
      ]
     },
     "execution_count": 71,
     "metadata": {},
     "output_type": "execute_result"
    }
   ],
   "source": [
    "counter"
   ]
  },
  {
   "cell_type": "code",
   "execution_count": 74,
   "id": "9643b37d",
   "metadata": {},
   "outputs": [
    {
     "name": "stdout",
     "output_type": "stream",
     "text": [
      "222222200014\n",
      "2\n"
     ]
    }
   ],
   "source": [
    "a = input()\n",
    "if len(a) < 1000:\n",
    "    res = max(set(a), key = a.count)\n",
    "print(res)"
   ]
  },
  {
   "cell_type": "code",
   "execution_count": 69,
   "id": "bcef10f5",
   "metadata": {},
   "outputs": [
    {
     "name": "stdout",
     "output_type": "stream",
     "text": [
      "[(4, 5)]\n"
     ]
    }
   ],
   "source": [
    "print(counter.most_common(1))"
   ]
  },
  {
   "cell_type": "code",
   "execution_count": null,
   "id": "a157ffa1",
   "metadata": {},
   "outputs": [],
   "source": [
    "test_list = [9, 4, 5, 4, 4, 5, 9, 5, 4]\n",
    "res = max(set(test_list), key = test_list.count)"
   ]
  }
 ],
 "metadata": {
  "kernelspec": {
   "display_name": "Python 3",
   "language": "python",
   "name": "python3"
  },
  "language_info": {
   "codemirror_mode": {
    "name": "ipython",
    "version": 3
   },
   "file_extension": ".py",
   "mimetype": "text/x-python",
   "name": "python",
   "nbconvert_exporter": "python",
   "pygments_lexer": "ipython3",
   "version": "3.8.8"
  }
 },
 "nbformat": 4,
 "nbformat_minor": 5
}
