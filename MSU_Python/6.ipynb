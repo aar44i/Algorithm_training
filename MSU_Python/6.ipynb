{
 "cells": [
  {
   "cell_type": "markdown",
   "id": "2f03086a",
   "metadata": {},
   "source": [
    "# 4\n",
    "Провести частотный анализ числа и найти наиболее часто встречающуюся цифру."
   ]
  },
  {
   "cell_type": "code",
   "execution_count": 72,
   "id": "19d26507",
   "metadata": {},
   "outputs": [
    {
     "name": "stdout",
     "output_type": "stream",
     "text": [
      "200222222221\n",
      "2\n"
     ]
    }
   ],
   "source": [
    "import collections\n",
    "a = input()\n",
    "if len(a) < 1000:\n",
    "    a = [int(d) for d in str(a)]\n",
    "    counter=collections.Counter(a)\n",
    "    print(max(counter.keys()))"
   ]
  },
  {
   "cell_type": "markdown",
   "id": "c9344ddc",
   "metadata": {},
   "source": [
    "# 5\n",
    "Вывести через строчку названия всех видов животных в порядке увеличения длины названия,"
   ]
  },
  {
   "cell_type": "code",
   "execution_count": 121,
   "id": "3a27e059",
   "metadata": {},
   "outputs": [
    {
     "name": "stdout",
     "output_type": "stream",
     "text": [
      "leopard\n",
      "orangutan\n"
     ]
    }
   ],
   "source": [
    "with open('input.txt', 'r', encoding = 'UTF-8') as f:\n",
    "    text = f.read().splitlines()\n",
    "animals_lst = []\n",
    "if len(text) <= 1000:\n",
    "    for i in range(len(text)):\n",
    "        animals_lst.append(text[i].split(' ')[1])\n",
    "\n",
    "    animals = set(animals_lst)\n",
    "    animals_sort = sorted(animals, key=len)\n",
    "    for i in animals_sort:\n",
    "        print(i)"
   ]
  },
  {
   "cell_type": "markdown",
   "id": "6a28412a",
   "metadata": {},
   "source": [
    "# 6\n",
    "Вывести через строчку названия всех животных, которые могут давать потомство, в порядке увеличения длины названия:"
   ]
  },
  {
   "cell_type": "code",
   "execution_count": 4,
   "id": "0238a4c9",
   "metadata": {},
   "outputs": [
    {
     "name": "stdout",
     "output_type": "stream",
     "text": [
      "cat\n"
     ]
    }
   ],
   "source": [
    "with open('input6.txt', 'r', encoding = 'UTF-8') as f:\n",
    "    text = [line.split() for line in f.read().splitlines()]\n",
    "male = set()\n",
    "female = set()\n",
    "for word in text:\n",
    "    if word[2] == 'female':\n",
    "        female.add(word[1])\n",
    "    else:\n",
    "        male.add(word[1])\n",
    "pair=list(male&female)\n",
    "pair_sort = sorted(pair, key=len)\n",
    "if len(pair_sort) > 0:\n",
    "    for i in pair_sort:\n",
    "        print(i)\n",
    "else:\n",
    "    print(0)"
   ]
  },
  {
   "cell_type": "code",
   "execution_count": 146,
   "id": "841a9803",
   "metadata": {},
   "outputs": [
    {
     "data": {
      "text/plain": [
       "0"
      ]
     },
     "execution_count": 146,
     "metadata": {},
     "output_type": "execute_result"
    }
   ],
   "source": [
    "len(pair_sort)"
   ]
  },
  {
   "cell_type": "code",
   "execution_count": 148,
   "id": "4cd53bc6",
   "metadata": {},
   "outputs": [
    {
     "name": "stdout",
     "output_type": "stream",
     "text": [
      "0\n"
     ]
    }
   ],
   "source": [
    "# with open('input.txt','r') as f:\n",
    "with open('input6.txt','r') as f:\n",
    "    a=[line.split() for line in f.read().splitlines()]\n",
    "male = set()\n",
    "female = set()\n",
    "for r in a:\n",
    "      if 'female' == r[2]:\n",
    "        female.add(r[1])\n",
    "      else:\n",
    "          male.add(r[1])\n",
    "pair=list(male&female)\n",
    "if len(pair):\n",
    "      pair1=sorted(pair, key=len)\n",
    "      print(*pair1)\n",
    "else:\n",
    "  print(0)"
   ]
  },
  {
   "cell_type": "code",
   "execution_count": null,
   "id": "0c1ab692",
   "metadata": {},
   "outputs": [],
   "source": []
  }
 ],
 "metadata": {
  "kernelspec": {
   "display_name": "Python 3",
   "language": "python",
   "name": "python3"
  },
  "language_info": {
   "codemirror_mode": {
    "name": "ipython",
    "version": 3
   },
   "file_extension": ".py",
   "mimetype": "text/x-python",
   "name": "python",
   "nbconvert_exporter": "python",
   "pygments_lexer": "ipython3",
   "version": "3.8.8"
  }
 },
 "nbformat": 4,
 "nbformat_minor": 5
}
