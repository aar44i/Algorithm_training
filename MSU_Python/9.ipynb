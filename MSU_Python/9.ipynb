{
 "cells": [
  {
   "cell_type": "markdown",
   "id": "7422fe72",
   "metadata": {},
   "source": [
    "# 1\n",
    "Вывести название колонки с максимальным значением"
   ]
  },
  {
   "cell_type": "code",
   "execution_count": 18,
   "id": "2601e3c3",
   "metadata": {},
   "outputs": [
    {
     "name": "stdout",
     "output_type": "stream",
     "text": [
      "Вишенка\n"
     ]
    }
   ],
   "source": [
    "import pandas as pd\n",
    "df = pd.read_csv(\"input.csv\")\n",
    "print(df.sum().idxmax(axis=1))"
   ]
  },
  {
   "cell_type": "markdown",
   "id": "785621ee",
   "metadata": {},
   "source": [
    "# 2\n",
    "Выведите \n",
    "1\n",
    "1, если Генадию хватит на новый Мерседес, если он соберет все дивиденды за все периоды, указанные в таблице. В обратном случае выведите \n",
    "0\n",
    "0.\n",
    "\n",
    "Также через пробел выведите \n",
    "n\n",
    "a\n",
    "m\n",
    "e\n",
    "i\n",
    "name \n",
    "i\n",
    "​\n",
    "  — название наиболее прибыльной (суммарно) бумаги."
   ]
  },
  {
   "cell_type": "code",
   "execution_count": 48,
   "id": "b8e526cd",
   "metadata": {},
   "outputs": [
    {
     "name": "stdout",
     "output_type": "stream",
     "text": [
      "1 Мыло.ру\n"
     ]
    }
   ],
   "source": [
    "import pandas as pd\n",
    "df = pd.read_csv(\"input.csv\")\n",
    "S = df.to_numpy().sum()\n",
    "if S >= 8000000:\n",
    "    print(1, df.sum().idxmax(axis=1))\n",
    "else:\n",
    "    print(0)"
   ]
  },
  {
   "cell_type": "markdown",
   "id": "a3499bfb",
   "metadata": {},
   "source": [
    "# 3\n",
    "Выведите через пробел имя лучшего работника \n",
    "name и день day, когда он выполнил план. Если таких работников несколько, то данные выводите построчно:"
   ]
  },
  {
   "cell_type": "code",
   "execution_count": 92,
   "id": "38abef00",
   "metadata": {},
   "outputs": [
    {
     "data": {
      "text/html": [
       "<div>\n",
       "<style scoped>\n",
       "    .dataframe tbody tr th:only-of-type {\n",
       "        vertical-align: middle;\n",
       "    }\n",
       "\n",
       "    .dataframe tbody tr th {\n",
       "        vertical-align: top;\n",
       "    }\n",
       "\n",
       "    .dataframe thead th {\n",
       "        text-align: right;\n",
       "    }\n",
       "</style>\n",
       "<table border=\"1\" class=\"dataframe\">\n",
       "  <thead>\n",
       "    <tr style=\"text-align: right;\">\n",
       "      <th></th>\n",
       "      <th>Петр</th>\n",
       "      <th>Иван</th>\n",
       "      <th>Елисей</th>\n",
       "      <th>Потап</th>\n",
       "      <th>Евгений</th>\n",
       "      <th>Сергей</th>\n",
       "    </tr>\n",
       "  </thead>\n",
       "  <tbody>\n",
       "    <tr>\n",
       "      <th>0</th>\n",
       "      <td>NaN</td>\n",
       "      <td>NaN</td>\n",
       "      <td>NaN</td>\n",
       "      <td>NaN</td>\n",
       "      <td>NaN</td>\n",
       "      <td>NaN</td>\n",
       "    </tr>\n",
       "    <tr>\n",
       "      <th>1</th>\n",
       "      <td>NaN</td>\n",
       "      <td>NaN</td>\n",
       "      <td>NaN</td>\n",
       "      <td>NaN</td>\n",
       "      <td>NaN</td>\n",
       "      <td>NaN</td>\n",
       "    </tr>\n",
       "    <tr>\n",
       "      <th>2</th>\n",
       "      <td>NaN</td>\n",
       "      <td>NaN</td>\n",
       "      <td>NaN</td>\n",
       "      <td>NaN</td>\n",
       "      <td>NaN</td>\n",
       "      <td>NaN</td>\n",
       "    </tr>\n",
       "  </tbody>\n",
       "</table>\n",
       "</div>"
      ],
      "text/plain": [
       "   Петр  Иван  Елисей  Потап  Евгений  Сергей\n",
       "0   NaN   NaN     NaN    NaN      NaN     NaN\n",
       "1   NaN   NaN     NaN    NaN      NaN     NaN\n",
       "2   NaN   NaN     NaN    NaN      NaN     NaN"
      ]
     },
     "execution_count": 92,
     "metadata": {},
     "output_type": "execute_result"
    }
   ],
   "source": [
    "import pandas as pd\n",
    "import numpy as np\n",
    "df = pd.read_csv(\"input.csv\")\n",
    "summ = df.cumsum()\n",
    "total = summ[summ >= df.sum().mean() * 1.5]\n",
    "# print(summ[summ >= df.sum().mean() * 1.5])\n",
    "# summ >= df.sum().mean() * 1.5\n",
    "# print('\\n'.join([f\"{t} {df.first_valid_index()}\" for t in total.loc[total.first_valid_index()].dropna().index.to_list()]))\n",
    "# df.cumsum()\n",
    "# df.sum().mean()\n",
    "# df\n",
    "total\n",
    "# df1 = np.where(~pd.isnull(total))\n",
    "df1 = total[total.isna()]\n",
    "df1"
   ]
  },
  {
   "cell_type": "code",
   "execution_count": 54,
   "id": "cef1469b",
   "metadata": {},
   "outputs": [
    {
     "data": {
      "text/html": [
       "<div>\n",
       "<style scoped>\n",
       "    .dataframe tbody tr th:only-of-type {\n",
       "        vertical-align: middle;\n",
       "    }\n",
       "\n",
       "    .dataframe tbody tr th {\n",
       "        vertical-align: top;\n",
       "    }\n",
       "\n",
       "    .dataframe thead th {\n",
       "        text-align: right;\n",
       "    }\n",
       "</style>\n",
       "<table border=\"1\" class=\"dataframe\">\n",
       "  <thead>\n",
       "    <tr style=\"text-align: right;\">\n",
       "      <th></th>\n",
       "      <th>Петр</th>\n",
       "      <th>Иван</th>\n",
       "      <th>Елисей</th>\n",
       "      <th>Потап</th>\n",
       "      <th>Евгений</th>\n",
       "      <th>Сергей</th>\n",
       "    </tr>\n",
       "  </thead>\n",
       "  <tbody>\n",
       "    <tr>\n",
       "      <th>0</th>\n",
       "      <td>88</td>\n",
       "      <td>268</td>\n",
       "      <td>253</td>\n",
       "      <td>564</td>\n",
       "      <td>281</td>\n",
       "      <td>861</td>\n",
       "    </tr>\n",
       "    <tr>\n",
       "      <th>1</th>\n",
       "      <td>296</td>\n",
       "      <td>424</td>\n",
       "      <td>391</td>\n",
       "      <td>1168</td>\n",
       "      <td>329</td>\n",
       "      <td>1620</td>\n",
       "    </tr>\n",
       "    <tr>\n",
       "      <th>2</th>\n",
       "      <td>551</td>\n",
       "      <td>753</td>\n",
       "      <td>653</td>\n",
       "      <td>1721</td>\n",
       "      <td>476</td>\n",
       "      <td>2393</td>\n",
       "    </tr>\n",
       "  </tbody>\n",
       "</table>\n",
       "</div>"
      ],
      "text/plain": [
       "   Петр  Иван  Елисей  Потап  Евгений  Сергей\n",
       "0    88   268     253    564      281     861\n",
       "1   296   424     391   1168      329    1620\n",
       "2   551   753     653   1721      476    2393"
      ]
     },
     "execution_count": 54,
     "metadata": {},
     "output_type": "execute_result"
    }
   ],
   "source": [
    "summ"
   ]
  },
  {
   "cell_type": "code",
   "execution_count": null,
   "id": "bb251e99",
   "metadata": {},
   "outputs": [],
   "source": []
  }
 ],
 "metadata": {
  "kernelspec": {
   "display_name": "Python 3",
   "language": "python",
   "name": "python3"
  },
  "language_info": {
   "codemirror_mode": {
    "name": "ipython",
    "version": 3
   },
   "file_extension": ".py",
   "mimetype": "text/x-python",
   "name": "python",
   "nbconvert_exporter": "python",
   "pygments_lexer": "ipython3",
   "version": "3.8.8"
  }
 },
 "nbformat": 4,
 "nbformat_minor": 5
}
