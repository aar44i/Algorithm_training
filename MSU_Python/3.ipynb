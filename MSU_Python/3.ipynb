{
 "cells": [
  {
   "cell_type": "markdown",
   "id": "e9a0abef",
   "metadata": {},
   "source": [
    "Помогите опечаленному Яше справиться с его бедой: напишите программу, которая развернет все слова в строке, не меняя их порядка."
   ]
  },
  {
   "cell_type": "code",
   "execution_count": 34,
   "id": "3f797ee7",
   "metadata": {},
   "outputs": [
    {
     "name": "stdout",
     "output_type": "stream",
     "text": [
      "илбароК ,илаворивал-илаворивал ад ен илаворивалыв\n"
     ]
    }
   ],
   "source": [
    "with open('input.txt', 'r', encoding = 'UTF-8') as f:\n",
    "    text = f.readlines()\n",
    "text = \"\".join(text)\n",
    "words = text.split()\n",
    "a = []\n",
    "for i in words:\n",
    "    a.append(i[::-1])\n",
    "a_string = \" \".join(a)\n",
    "print(a_string)\n",
    "\n"
   ]
  },
  {
   "cell_type": "markdown",
   "id": "e4599536",
   "metadata": {},
   "source": [
    "Напишите программу, которая будет искать строки в текстовом файле, в котором есть буква ё и выводить их на экран."
   ]
  },
  {
   "cell_type": "code",
   "execution_count": 70,
   "id": "c8b27ad6",
   "metadata": {},
   "outputs": [
    {
     "name": "stdout",
     "output_type": "stream",
     "text": [
      "В лесу родилась ёлочка,\n",
      "Ёжик\n",
      "ёлка\n",
      "\n"
     ]
    }
   ],
   "source": [
    "with open('input.txt', 'r', encoding = 'UTF-8') as f:\n",
    "    text = f.readlines()\n",
    "    print(\"\".join(list(filter(lambda i: 'ё' in i.lower(), text))))"
   ]
  },
  {
   "cell_type": "markdown",
   "id": "ed055a5b",
   "metadata": {},
   "source": [
    "Вывести строки, исключив каждое второе слово из текстов Вадима.\n",
    "\n",
    "Знак препинания, следующий за словом, которое будет удалено, удаляется вместе со словом."
   ]
  },
  {
   "cell_type": "code",
   "execution_count": 157,
   "id": "f0f5d507",
   "metadata": {},
   "outputs": [
    {
     "name": "stdout",
     "output_type": "stream",
     "text": [
      "Мне привезли товар в плохом состоянии.\n",
      "Плата разбита\n",
      "Я хочу вернуть деньги.\n"
     ]
    }
   ],
   "source": [
    "with open('input.txt', 'r', encoding = 'UTF-8') as f:\n",
    "    text = f.readlines()\n",
    "for line in text:\n",
    "    line = line.split()\n",
    "    del line[1::2]\n",
    "    text = \" \".join(line)\n",
    "    print(text)"
   ]
  },
  {
   "cell_type": "markdown",
   "id": "8de8959c",
   "metadata": {},
   "source": [
    "Выведите построчно информацию из этого файла и запишите в файл output.txt, при этом разделяйте имена и даты рождения при помощи специального символа табуляции '\\t'."
   ]
  },
  {
   "cell_type": "code",
   "execution_count": 225,
   "id": "6e36a7a0",
   "metadata": {},
   "outputs": [],
   "source": [
    "with open('input.txt', 'r', encoding = 'UTF-8') as f:\n",
    "    text = f.read().splitlines()\n",
    "\n",
    "N = int(text[0])\n",
    "if N > 0:\n",
    "    names = text[1:N+1]\n",
    "    bd = text[-N:]\n",
    "\n",
    "with open('output.txt', 'w') as w:\n",
    "    for x, y in zip(names, bd):\n",
    "        print(x + '\\t' + y, file=w)"
   ]
  },
  {
   "cell_type": "markdown",
   "id": "1f8153af",
   "metadata": {},
   "source": [
    "Выведите несколько строк вида\n",
    "\n",
    "                     1: student_A 2: student_B 3: student_C \n",
    "Имена школьников и сами строки должны быть выведены в том порядке, в котором их предполагает вывод функции itertools.combinations()."
   ]
  },
  {
   "cell_type": "code",
   "execution_count": 251,
   "id": "3df7dcfa",
   "metadata": {},
   "outputs": [
    {
     "name": "stdout",
     "output_type": "stream",
     "text": [
      "1: Dima 2: Petya 3: Sasha\n",
      "1: Dima 2: Petya 3: Misha\n",
      "1: Dima 2: Petya 3: Egor\n",
      "1: Dima 2: Sasha 3: Misha\n",
      "1: Dima 2: Sasha 3: Egor\n",
      "1: Dima 2: Misha 3: Egor\n",
      "1: Petya 2: Sasha 3: Misha\n",
      "1: Petya 2: Sasha 3: Egor\n",
      "1: Petya 2: Misha 3: Egor\n",
      "1: Sasha 2: Misha 3: Egor\n"
     ]
    }
   ],
   "source": [
    "import itertools as it\n",
    "with open('studygroup.txt', 'r', encoding = 'UTF-8') as f:\n",
    "    text = f.read().splitlines()\n",
    "text = \"\".join(text)\n",
    "names = text.split()\n",
    "\n",
    "for x, y, z in it.combinations(names, 3):\n",
    "    print(f\"1: {x}\", f\"2: {y}\", f\"3: {z}\", sep= ' ', end='\\n')"
   ]
  }
 ],
 "metadata": {
  "kernelspec": {
   "display_name": "Python 3",
   "language": "python",
   "name": "python3"
  },
  "language_info": {
   "codemirror_mode": {
    "name": "ipython",
    "version": 3
   },
   "file_extension": ".py",
   "mimetype": "text/x-python",
   "name": "python",
   "nbconvert_exporter": "python",
   "pygments_lexer": "ipython3",
   "version": "3.8.8"
  }
 },
 "nbformat": 4,
 "nbformat_minor": 5
}
