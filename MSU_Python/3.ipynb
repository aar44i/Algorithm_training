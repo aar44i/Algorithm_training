{
 "cells": [
  {
   "cell_type": "markdown",
   "id": "e9a0abef",
   "metadata": {},
   "source": [
    "Помогите опечаленному Яше справиться с его бедой: напишите программу, которая развернет все слова в строке, не меняя их порядка."
   ]
  },
  {
   "cell_type": "code",
   "execution_count": 34,
   "id": "3f797ee7",
   "metadata": {},
   "outputs": [
    {
     "name": "stdout",
     "output_type": "stream",
     "text": [
      "илбароК ,илаворивал-илаворивал ад ен илаворивалыв\n"
     ]
    }
   ],
   "source": [
    "with open('input.txt', 'r', encoding = 'UTF-8') as f:\n",
    "    text = f.readlines()\n",
    "text = \"\".join(text)\n",
    "words = text.split()\n",
    "a = []\n",
    "for i in words:\n",
    "    a.append(i[::-1])\n",
    "a_string = \" \".join(a)\n",
    "print(a_string)\n",
    "\n"
   ]
  },
  {
   "cell_type": "markdown",
   "id": "e4599536",
   "metadata": {},
   "source": [
    "Напишите программу, которая будет искать строки в текстовом файле, в котором есть буква ё и выводить их на экран."
   ]
  },
  {
   "cell_type": "code",
   "execution_count": 70,
   "id": "c8b27ad6",
   "metadata": {},
   "outputs": [
    {
     "name": "stdout",
     "output_type": "stream",
     "text": [
      "В лесу родилась ёлочка,\n",
      "Ёжик\n",
      "ёлка\n",
      "\n"
     ]
    }
   ],
   "source": [
    "with open('input.txt', 'r', encoding = 'UTF-8') as f:\n",
    "    text = f.readlines()\n",
    "    print(\"\".join(list(filter(lambda i: 'ё' in i.lower(), text))))"
   ]
  },
  {
   "cell_type": "markdown",
   "id": "ed055a5b",
   "metadata": {},
   "source": [
    "Вывести строки, исключив каждое второе слово из текстов Вадима.\n",
    "\n",
    "Знак препинания, следующий за словом, которое будет удалено, удаляется вместе со словом."
   ]
  },
  {
   "cell_type": "code",
   "execution_count": 157,
   "id": "f0f5d507",
   "metadata": {},
   "outputs": [
    {
     "name": "stdout",
     "output_type": "stream",
     "text": [
      "Мне привезли товар в плохом состоянии.\n",
      "Плата разбита\n",
      "Я хочу вернуть деньги.\n"
     ]
    }
   ],
   "source": [
    "with open('input.txt', 'r', encoding = 'UTF-8') as f:\n",
    "    text = f.readlines()\n",
    "for line in text:\n",
    "    line = line.split()\n",
    "    del line[1::2]\n",
    "    text = \" \".join(line)\n",
    "    print(text)"
   ]
  },
  {
   "cell_type": "markdown",
   "id": "478c1a2c",
   "metadata": {},
   "source": [
    "Выведите построчно информацию из этого файла и запишите в файл output.txt, при этом разделяйте имена и даты рождения при помощи специального символа табуляции '\\t'."
   ]
  },
  {
   "cell_type": "code",
   "execution_count": 161,
   "id": "d82f6d0e",
   "metadata": {},
   "outputs": [
    {
     "data": {
      "text/plain": [
       "['3\\n', 'Dania\\n', 'Petya\\n', 'Egor\\n', '13 oct\\n', '28 mar\\n', '26 feb']"
      ]
     },
     "execution_count": 161,
     "metadata": {},
     "output_type": "execute_result"
    }
   ],
   "source": [
    "with open('input.txt', 'r', encoding = 'UTF-8') as f:\n",
    "    text = f.readlines()\n",
    "text"
   ]
  },
  {
   "cell_type": "code",
   "execution_count": 163,
   "id": "13c8d681",
   "metadata": {},
   "outputs": [],
   "source": [
    "text = \"\".join(text)\n",
    "words = text.split('\\n')"
   ]
  },
  {
   "cell_type": "code",
   "execution_count": 164,
   "id": "0159a101",
   "metadata": {},
   "outputs": [
    {
     "data": {
      "text/plain": [
       "['3', 'Dania', 'Petya', 'Egor', '13 oct', '28 mar', '26 feb']"
      ]
     },
     "execution_count": 164,
     "metadata": {},
     "output_type": "execute_result"
    }
   ],
   "source": [
    "words"
   ]
  },
  {
   "cell_type": "code",
   "execution_count": null,
   "id": "46313987",
   "metadata": {},
   "outputs": [],
   "source": [
    "words[0]"
   ]
  }
 ],
 "metadata": {
  "kernelspec": {
   "display_name": "Python 3",
   "language": "python",
   "name": "python3"
  },
  "language_info": {
   "codemirror_mode": {
    "name": "ipython",
    "version": 3
   },
   "file_extension": ".py",
   "mimetype": "text/x-python",
   "name": "python",
   "nbconvert_exporter": "python",
   "pygments_lexer": "ipython3",
   "version": "3.8.8"
  }
 },
 "nbformat": 4,
 "nbformat_minor": 5
}
