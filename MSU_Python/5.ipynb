{
 "cells": [
  {
   "cell_type": "markdown",
   "id": "4316eb67",
   "metadata": {},
   "source": [
    "# 1"
   ]
  },
  {
   "cell_type": "markdown",
   "id": "56fff064",
   "metadata": {},
   "source": [
    "Требуется создать две команды следующим образом: отсортировать всех ребят по убыванию веса, а затем 1-го, 3-го, 5-го и т.д. игроков отобрать в 1-ю команду, а оставшихся — во 2-ю команду. Вывести список команды №1 в первые 11 строк файла team.txt, а список команды №2 в последние 11 строк файла team.txt. В списках команд указывать и имена, и значения веса."
   ]
  },
  {
   "cell_type": "code",
   "execution_count": 80,
   "id": "e1e3e6b1",
   "metadata": {},
   "outputs": [],
   "source": [
    "with open('weights.txt', 'r', encoding = 'UTF-8') as f:\n",
    "    text = f.read().splitlines()\n",
    "lst = []\n",
    "for i in range(len(text)):\n",
    "    letter = text[i].split()[0]\n",
    "    num = float(text[i].split()[1])\n",
    "    lst.append([letter, num])\n",
    "lst.sort(reverse=True)\n",
    "listOdd = lst[1::2]\n",
    "listEven = lst[::2]\n",
    "list_full = listEven + listOdd\n",
    "with open('team.txt', 'w', encoding='utf-8') as file:\n",
    "    for i in range(len(list_full)):\n",
    "        print(str(list_full[i][0]) + ' ' + str(list_full[i][1]), sep = '\\n',  file=file)"
   ]
  },
  {
   "cell_type": "markdown",
   "id": "382bf0b6",
   "metadata": {},
   "source": [
    "# 2\n",
    " Для применения алгоритма расшифрования нужно упорядочить строки по возрастанию количества слов в каждой строке (слова разделяются пробелами), а внутри каждой строки слова нужно упорядочить по количеству букв в них. Результат нужно сохранить в файл poe_decode_attempt.txt\n"
   ]
  },
  {
   "cell_type": "code",
   "execution_count": 82,
   "id": "2ce274ec",
   "metadata": {},
   "outputs": [],
   "source": [
    "f = open('poe_unpublished.txt', 'r')\n",
    "lines = f.readlines()\n",
    "data = []\n",
    "for line in lines:\n",
    "    cur_line = ' '.join(sorted(line.rstrip().split(), key=lambda x: len(x)))\n",
    "    data.append(cur_line)\n",
    "data = sorted(data, key=lambda x: len(x.split()))\n",
    "out = open('poe_decode_attempt.txt', 'w')\n",
    "for el in data:\n",
    "    out.write(el+'\\n')"
   ]
  },
  {
   "cell_type": "markdown",
   "id": "13cad884",
   "metadata": {},
   "source": [
    "# 3\n",
    "Биолог узнал, что эта операция называется в математике транспонированием, но он не знает, как её сделать автоматически. Если вы не поможете, то ему предстоит провести ночь, вручную переставляя числа в огромном листе. В файле хранятся только сами числа. Список видов бактерий и список антибиотиков вас не интересуют, биолог вставит их сам."
   ]
  },
  {
   "cell_type": "code",
   "execution_count": 9,
   "id": "8bb63f3e",
   "metadata": {},
   "outputs": [],
   "source": [
    "matrix = [] # транспонирование матрицы\n",
    "with open('med_research.txt', 'r') as file:\n",
    "    string = [list (row.split()) for row in file.readlines()]\n",
    "for i in range(len(string[0])):\n",
    "    matrix.append(list())\n",
    "    for j in range(len(string)):\n",
    "        matrix[i].append(string[j][i])\n",
    "with open('output.txt', 'w') as output_file:\n",
    "    for el in matrix:\n",
    "        output_file.write(\"%s\\n\" % ' '.join(el))\n",
    "# matrix"
   ]
  },
  {
   "cell_type": "markdown",
   "id": "16e3741f",
   "metadata": {},
   "source": [
    "# 4\n",
    "Руководителю более подозрительны звонки, длившиеся дольше всего, поэтому строки следует отсортировать в обратном порядке по длительности звонка (сначала самые длительные).\n",
    "\n",
    "Распределите строки из файла на два упорядоченных указанным образом списка, и запишите их в файл calls.txt: Сначала группу звонков A, затем - группу звонков B."
   ]
  },
  {
   "cell_type": "code",
   "execution_count": null,
   "id": "b30b2b00",
   "metadata": {},
   "outputs": [],
   "source": [
    "f = open('the_calls.txt', 'r')\n",
    "lines = f.readlines()\n",
    "A = list()\n",
    "B = list()\n",
    "for line in lines:\n",
    "    cur_line = line.split()\n",
    "    if cur_line[2] == 'A':\n",
    "        A.append(cur_line)\n",
    "    else:\n",
    "        B.append(cur_line)\n",
    "A = sorted(A, key=lambda x: -int(x[1]))\n",
    "B = sorted(B, key=lambda x: -int(x[1]))\n",
    "out = open('calls.txt', 'w')\n",
    "for el in A:\n",
    "    out.write('\\t'.join(el)+'\\n')\n",
    "for el in B:\n",
    "    out.write('\\t'.join(el)+'\\n')"
   ]
  }
 ],
 "metadata": {
  "kernelspec": {
   "display_name": "Python 3",
   "language": "python",
   "name": "python3"
  },
  "language_info": {
   "codemirror_mode": {
    "name": "ipython",
    "version": 3
   },
   "file_extension": ".py",
   "mimetype": "text/x-python",
   "name": "python",
   "nbconvert_exporter": "python",
   "pygments_lexer": "ipython3",
   "version": "3.8.8"
  }
 },
 "nbformat": 4,
 "nbformat_minor": 5
}
