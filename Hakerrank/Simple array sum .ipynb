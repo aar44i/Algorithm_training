{
 "cells": [
  {
   "cell_type": "code",
   "execution_count": 2,
   "id": "321ce9ae",
   "metadata": {},
   "outputs": [],
   "source": [
    "def summ(lst):\n",
    "    return sum(lst)"
   ]
  },
  {
   "cell_type": "code",
   "execution_count": 5,
   "id": "025a5a9f",
   "metadata": {},
   "outputs": [
    {
     "data": {
      "text/plain": [
       "31"
      ]
     },
     "execution_count": 5,
     "metadata": {},
     "output_type": "execute_result"
    }
   ],
   "source": [
    "lst = [1,2,3,4,10,11]\n",
    "summ(lst)"
   ]
  },
  {
   "cell_type": "code",
   "execution_count": 17,
   "id": "dc4786ef",
   "metadata": {},
   "outputs": [],
   "source": [
    "def triplets(a, b):\n",
    "    a_count = 0\n",
    "    b_count = 0\n",
    "    for i in range(3):\n",
    "        if a[i] > b[i]:\n",
    "            a_count += 1\n",
    "        elif  b[i] > a[i]:\n",
    "            b_count += 1\n",
    "    return [a_count, b_count]"
   ]
  },
  {
   "cell_type": "code",
   "execution_count": null,
   "id": "9185374a",
   "metadata": {},
   "outputs": [],
   "source": [
    "def compareTriplets(a, b):\n",
    "    alice = 0\n",
    "    bob = 0\n",
    "    for i in range(3):\n",
    "        if a[i] > b[i]:\n",
    "            alice += 1\n",
    "        elif b[i] > a[i]:\n",
    "            bob += 1\n",
    "    li =[alice,bob]\n",
    "    return li"
   ]
  },
  {
   "cell_type": "code",
   "execution_count": 18,
   "id": "425bd04e",
   "metadata": {},
   "outputs": [
    {
     "data": {
      "text/plain": [
       "[1, 1]"
      ]
     },
     "execution_count": 18,
     "metadata": {},
     "output_type": "execute_result"
    }
   ],
   "source": [
    "# a = \n",
    "a = [5, 6, 7]\n",
    "b = [3, 6, 10]\n",
    "triplets(a, b)"
   ]
  },
  {
   "cell_type": "code",
   "execution_count": 12,
   "id": "56aaba20",
   "metadata": {},
   "outputs": [
    {
     "ename": "NameError",
     "evalue": "name 'a_count' is not defined",
     "output_type": "error",
     "traceback": [
      "\u001b[1;31m---------------------------------------------------------------------------\u001b[0m",
      "\u001b[1;31mNameError\u001b[0m                                 Traceback (most recent call last)",
      "\u001b[1;32m<ipython-input-12-b6866b613e0c>\u001b[0m in \u001b[0;36m<module>\u001b[1;34m\u001b[0m\n\u001b[1;32m----> 1\u001b[1;33m \u001b[0ma_count\u001b[0m\u001b[1;33m\u001b[0m\u001b[1;33m\u001b[0m\u001b[0m\n\u001b[0m",
      "\u001b[1;31mNameError\u001b[0m: name 'a_count' is not defined"
     ]
    }
   ],
   "source": [
    "a_count"
   ]
  },
  {
   "cell_type": "code",
   "execution_count": null,
   "id": "48106da8",
   "metadata": {},
   "outputs": [],
   "source": []
  }
 ],
 "metadata": {
  "kernelspec": {
   "display_name": "Python 3",
   "language": "python",
   "name": "python3"
  },
  "language_info": {
   "codemirror_mode": {
    "name": "ipython",
    "version": 3
   },
   "file_extension": ".py",
   "mimetype": "text/x-python",
   "name": "python",
   "nbconvert_exporter": "python",
   "pygments_lexer": "ipython3",
   "version": "3.8.8"
  }
 },
 "nbformat": 4,
 "nbformat_minor": 5
}
