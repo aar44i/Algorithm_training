{
 "cells": [
  {
   "cell_type": "markdown",
   "id": "5125c24b",
   "metadata": {},
   "source": [
    "Ответьте на его вопрос: «Чем отличается DataFrame от Series?»"
   ]
  },
  {
   "cell_type": "markdown",
   "id": "862aa0c3",
   "metadata": {},
   "source": [
    "В первую очередь стоит разобраться, что такое объекты Series и Data Frame сами по себе.  "
   ]
  },
  {
   "cell_type": "markdown",
   "id": "5b02e73a",
   "metadata": {},
   "source": [
    "# Структура данных Series"
   ]
  },
  {
   "cell_type": "markdown",
   "id": "0762f336",
   "metadata": {},
   "source": [
    "**Series** - похожий на массив объект, который имеет одну важную отличительную особенность - *индексы*.\n",
    "\n",
    "*Индексы* - это определенный массив меток, позволяющий гораздо удобнее обращатсья к элементам Series. Индексами могут быть порядковые номера элементов, даты, имена и любые другие признаки. Наличие индексов делает анализ с помощью Series гораздо удобнее.\n",
    "\n",
    "Пример работы с Series:"
   ]
  },
  {
   "cell_type": "code",
   "execution_count": 4,
   "id": "749cfab7",
   "metadata": {},
   "outputs": [],
   "source": [
    "import pandas as pd\n",
    "import numpy as np"
   ]
  },
  {
   "cell_type": "markdown",
   "id": "5bec37c8",
   "metadata": {},
   "source": [
    "Создание объекта Series "
   ]
  },
  {
   "cell_type": "code",
   "execution_count": 22,
   "id": "fd8c8955",
   "metadata": {},
   "outputs": [
    {
     "name": "stdout",
     "output_type": "stream",
     "text": [
      "Создание обьекта Series:\n"
     ]
    },
    {
     "data": {
      "text/plain": [
       "0    1\n",
       "1    2\n",
       "2    3\n",
       "3    4\n",
       "4    5\n",
       "5    6\n",
       "6    7\n",
       "dtype: int64"
      ]
     },
     "execution_count": 22,
     "metadata": {},
     "output_type": "execute_result"
    }
   ],
   "source": [
    "print(\"Создание обьекта Series:\")\n",
    "obj = pd.Series([1,2,3,4,5,6,7])\n",
    "obj"
   ]
  },
  {
   "cell_type": "markdown",
   "id": "50065523",
   "metadata": {},
   "source": [
    " Series позволяет проводить арифмитические операции над элементами и условные выражения"
   ]
  },
  {
   "cell_type": "code",
   "execution_count": 33,
   "id": "7c483484",
   "metadata": {},
   "outputs": [
    {
     "name": "stdout",
     "output_type": "stream",
     "text": [
      "Все элементы, больше чем 4\n",
      "4    5\n",
      "5    6\n",
      "6    7\n",
      "dtype: int64\n",
      "Все элементы, умноженные на 3\n",
      "0     3\n",
      "1     6\n",
      "2     9\n",
      "3    12\n",
      "4    15\n",
      "5    18\n",
      "6    21\n",
      "dtype: int64\n"
     ]
    }
   ],
   "source": [
    "print('Все элементы, больше чем 4')\n",
    "print(obj[obj > 4])\n",
    "print('Все элементы, умноженные на 3')\n",
    "print(obj * 3)"
   ]
  },
  {
   "cell_type": "markdown",
   "id": "438cb86d",
   "metadata": {},
   "source": [
    "Объект Series может содержать не только числовые значения, но и строковые данные "
   ]
  },
  {
   "cell_type": "code",
   "execution_count": 7,
   "id": "c3bf93a0",
   "metadata": {},
   "outputs": [
    {
     "name": "stdout",
     "output_type": "stream",
     "text": [
      "Создание обьекта Series со строковым типом данных:\n"
     ]
    },
    {
     "data": {
      "text/plain": [
       "0      Маша\n",
       "1     Антон\n",
       "2    Сергей\n",
       "3     Света\n",
       "dtype: object"
      ]
     },
     "execution_count": 7,
     "metadata": {},
     "output_type": "execute_result"
    }
   ],
   "source": [
    "print(\"Создание обьекта Series со строковым типом данных:\")\n",
    "obj2 = pd.Series(['Маша','Антон','Сергей','Света'])\n",
    "obj2"
   ]
  },
  {
   "cell_type": "markdown",
   "id": "f7471b53",
   "metadata": {},
   "source": [
    "Помимо самих объектов Series, мы так же можем задать и значения индексов. Например, давайте попробуем создать объект Series с информацией о любимых блюдах школьников. В качестве индексов будем использовать имена, а в качестве элемента, их любимые блюда. "
   ]
  },
  {
   "cell_type": "code",
   "execution_count": 18,
   "id": "fbcde9c8",
   "metadata": {},
   "outputs": [
    {
     "name": "stdout",
     "output_type": "stream",
     "text": [
      "Создание обьекта Series с указанием индексов:\n"
     ]
    },
    {
     "data": {
      "text/plain": [
       "Маша                    Пельмени\n",
       "Антон                Куриный суп\n",
       "Сережа    Картофельная запеканка\n",
       "Света                    Голубцы\n",
       "dtype: object"
      ]
     },
     "execution_count": 18,
     "metadata": {},
     "output_type": "execute_result"
    }
   ],
   "source": [
    "print(\"Создание обьекта Series с указанием индексов:\")\n",
    "obj2 = pd.Series(['Пельмени','Куриный суп','Картофельная запеканка','Голубцы'], \n",
    "                 index = ['Маша','Антон','Сережа','Света'])\n",
    "obj2"
   ]
  },
  {
   "cell_type": "markdown",
   "id": "b924fc30",
   "metadata": {},
   "source": [
    "Теперь, имея такую удобную структуру данных, мы можем очень просто обращаться к интересующему элементу списка. Например мы хотим узнать любимое блюда Сережи:"
   ]
  },
  {
   "cell_type": "code",
   "execution_count": 14,
   "id": "189f5009",
   "metadata": {},
   "outputs": [
    {
     "name": "stdout",
     "output_type": "stream",
     "text": [
      "Обращение к элементу списка по индексу:\n"
     ]
    },
    {
     "data": {
      "text/plain": [
       "'Картофельная запеканка'"
      ]
     },
     "execution_count": 14,
     "metadata": {},
     "output_type": "execute_result"
    }
   ],
   "source": [
    "print(\"Обращение к элементу списка по индексу:\")\n",
    "obj2['Сережа']"
   ]
  },
  {
   "cell_type": "markdown",
   "id": "af4a7c96",
   "metadata": {},
   "source": [
    "С помощью обращения к объекту Series по индексу, мы можем изменить какое то определенное значение. Например, мы хотим изменить любимое блюдо у Маши. Для этого мы обращаемся к элементу с индексом Маша и присваиваем ему значение нового блюда "
   ]
  },
  {
   "cell_type": "code",
   "execution_count": 21,
   "id": "57033468",
   "metadata": {},
   "outputs": [
    {
     "name": "stdout",
     "output_type": "stream",
     "text": [
      "Изменение определенного элемента:\n"
     ]
    },
    {
     "data": {
      "text/plain": [
       "Маша                        Борщ\n",
       "Антон                Куриный суп\n",
       "Сережа    Картофельная запеканка\n",
       "Света                    Голубцы\n",
       "dtype: object"
      ]
     },
     "execution_count": 21,
     "metadata": {},
     "output_type": "execute_result"
    }
   ],
   "source": [
    "print(\"Изменение определенного элемента:\")\n",
    "obj2['Маша'] = 'Борщ'\n",
    "obj2"
   ]
  },
  {
   "cell_type": "markdown",
   "id": "de7efe4d",
   "metadata": {},
   "source": [
    "Также мы можем проверить, есть ли тот или иной индекс в Series. В зависимости от того, есть ли тот или иной обьект, программа выведет нам значение True или False."
   ]
  },
  {
   "cell_type": "code",
   "execution_count": 27,
   "id": "f9a7fa4b",
   "metadata": {},
   "outputs": [
    {
     "name": "stdout",
     "output_type": "stream",
     "text": [
      "True\n"
     ]
    }
   ],
   "source": [
    "print('Света' in obj2)"
   ]
  },
  {
   "cell_type": "code",
   "execution_count": 26,
   "id": "33bff449",
   "metadata": {},
   "outputs": [
    {
     "name": "stdout",
     "output_type": "stream",
     "text": [
      "False\n"
     ]
    }
   ],
   "source": [
    "print('Олег' in obj2)"
   ]
  },
  {
   "cell_type": "markdown",
   "id": "6f4da962",
   "metadata": {},
   "source": [
    "# Структура данных DataFrame"
   ]
  },
  {
   "cell_type": "markdown",
   "id": "64875a9d",
   "metadata": {},
   "source": [
    "Если Series представляет собой одномерную структуру, которую для себя можно представить как таблицу с одной строкой, то  **DataFrame** – это уже двумерная структура – полноценная таблица с множеством строк и столбцов самых разных типов. \n",
    "\n",
    "Можно сказать что главное отличие **DataFrame** от **Series** в том, что в объекте **DataFrame** храняться два индекса а не один: по столбцам и по строкам.\n",
    "\n",
    "Конструктор класса DataFrame выглядит так:  \n",
    "`class pandas.DataFrame(data=None, index=None, columns=None, dtype=None, copy=False)`\n",
    "\n",
    "*data* – массив ndarray, словарь (dict) или другой DataFrame;  \n",
    "*index* – список меток для записей (имена строк таблицы);  \n",
    "*columns* – список меток для полей (имена столбцов таблицы);  \n",
    "*dtype* – объект numpy.dtype, определяющий тип данных;  \n",
    "*copy* – создает копию массива данных, если параметр равен True в ином случае ничего не делает."
   ]
  },
  {
   "cell_type": "code",
   "execution_count": null,
   "id": "748995e0",
   "metadata": {},
   "outputs": [],
   "source": []
  },
  {
   "cell_type": "markdown",
   "id": "7346f79c",
   "metadata": {},
   "source": [
    "Давайте вспомним уже знакомых школьников и их любимые блюда и добавим еще полезной информации."
   ]
  },
  {
   "cell_type": "code",
   "execution_count": 74,
   "id": "f05a832e",
   "metadata": {},
   "outputs": [
    {
     "data": {
      "text/html": [
       "<div>\n",
       "<style scoped>\n",
       "    .dataframe tbody tr th:only-of-type {\n",
       "        vertical-align: middle;\n",
       "    }\n",
       "\n",
       "    .dataframe tbody tr th {\n",
       "        vertical-align: top;\n",
       "    }\n",
       "\n",
       "    .dataframe thead th {\n",
       "        text-align: right;\n",
       "    }\n",
       "</style>\n",
       "<table border=\"1\" class=\"dataframe\">\n",
       "  <thead>\n",
       "    <tr style=\"text-align: right;\">\n",
       "      <th></th>\n",
       "      <th>Любимые блюда</th>\n",
       "      <th>Возраст</th>\n",
       "      <th>Вес</th>\n",
       "    </tr>\n",
       "  </thead>\n",
       "  <tbody>\n",
       "    <tr>\n",
       "      <th>Маша</th>\n",
       "      <td>Пельмени</td>\n",
       "      <td>8</td>\n",
       "      <td>28</td>\n",
       "    </tr>\n",
       "    <tr>\n",
       "      <th>Антон</th>\n",
       "      <td>Куриный суп</td>\n",
       "      <td>9</td>\n",
       "      <td>36</td>\n",
       "    </tr>\n",
       "    <tr>\n",
       "      <th>Сережа</th>\n",
       "      <td>Картофельная запеканка</td>\n",
       "      <td>11</td>\n",
       "      <td>41</td>\n",
       "    </tr>\n",
       "    <tr>\n",
       "      <th>Света</th>\n",
       "      <td>Голубцы</td>\n",
       "      <td>7</td>\n",
       "      <td>34</td>\n",
       "    </tr>\n",
       "  </tbody>\n",
       "</table>\n",
       "</div>"
      ],
      "text/plain": [
       "                 Любимые блюда  Возраст  Вес\n",
       "Маша                  Пельмени        8   28\n",
       "Антон              Куриный суп        9   36\n",
       "Сережа  Картофельная запеканка       11   41\n",
       "Света                  Голубцы        7   34"
      ]
     },
     "execution_count": 74,
     "metadata": {},
     "output_type": "execute_result"
    }
   ],
   "source": [
    "ind = ['Маша','Антон','Сережа','Света']\n",
    "data = {'Любимые блюда': ['Пельмени','Куриный суп','Картофельная запеканка','Голубцы'], \n",
    "        'Возраст':[8, 9, 11, 7],\n",
    "       'Вес': [28, 36, 41, 34]}\n",
    "df = pd.DataFrame(data, index = ind)\n",
    "df\n"
   ]
  },
  {
   "cell_type": "markdown",
   "id": "2ccf09a5",
   "metadata": {},
   "source": [
    "Теперь мы можем обращаться к данным не только по строчно, но и с помощью столбцов, например мы хотим узнать возраст всех школьников."
   ]
  },
  {
   "cell_type": "code",
   "execution_count": 75,
   "id": "695048ca",
   "metadata": {},
   "outputs": [
    {
     "data": {
      "text/plain": [
       "Маша       8\n",
       "Антон      9\n",
       "Сережа    11\n",
       "Света      7\n",
       "Name: Возраст, dtype: int64"
      ]
     },
     "execution_count": 75,
     "metadata": {},
     "output_type": "execute_result"
    }
   ],
   "source": [
    "df['Возраст']"
   ]
  },
  {
   "cell_type": "markdown",
   "id": "cac27d95",
   "metadata": {},
   "source": [
    "В DataFrame обращения к строкам осуществляются с помощью метода .loc. Например мы хотим узнать все данные о Свете:"
   ]
  },
  {
   "cell_type": "code",
   "execution_count": 76,
   "id": "31444408",
   "metadata": {},
   "outputs": [
    {
     "data": {
      "text/plain": [
       "Любимые блюда    Голубцы\n",
       "Возраст                7\n",
       "Вес                   34\n",
       "Name: Света, dtype: object"
      ]
     },
     "execution_count": 76,
     "metadata": {},
     "output_type": "execute_result"
    }
   ],
   "source": [
    "df.loc['Света']"
   ]
  },
  {
   "cell_type": "markdown",
   "id": "fe3d7cdb",
   "metadata": {},
   "source": [
    "Так же можно испольвать так назваемые срезы, для обращения к данным с учетом как строк, так и столбцов"
   ]
  },
  {
   "cell_type": "code",
   "execution_count": 90,
   "id": "44f3f1e4",
   "metadata": {},
   "outputs": [
    {
     "data": {
      "text/html": [
       "<div>\n",
       "<style scoped>\n",
       "    .dataframe tbody tr th:only-of-type {\n",
       "        vertical-align: middle;\n",
       "    }\n",
       "\n",
       "    .dataframe tbody tr th {\n",
       "        vertical-align: top;\n",
       "    }\n",
       "\n",
       "    .dataframe thead th {\n",
       "        text-align: right;\n",
       "    }\n",
       "</style>\n",
       "<table border=\"1\" class=\"dataframe\">\n",
       "  <thead>\n",
       "    <tr style=\"text-align: right;\">\n",
       "      <th></th>\n",
       "      <th>Возраст</th>\n",
       "    </tr>\n",
       "  </thead>\n",
       "  <tbody>\n",
       "    <tr>\n",
       "      <th>Маша</th>\n",
       "      <td>8</td>\n",
       "    </tr>\n",
       "    <tr>\n",
       "      <th>Антон</th>\n",
       "      <td>9</td>\n",
       "    </tr>\n",
       "  </tbody>\n",
       "</table>\n",
       "</div>"
      ],
      "text/plain": [
       "       Возраст\n",
       "Маша         8\n",
       "Антон        9"
      ]
     },
     "execution_count": 90,
     "metadata": {},
     "output_type": "execute_result"
    }
   ],
   "source": [
    "df.iloc[0:2, 1:2]"
   ]
  },
  {
   "cell_type": "markdown",
   "id": "f187e823",
   "metadata": {},
   "source": [
    "В DataFrame мы в целом можем приминять все те арифмитические операции и условные выражения что и в Series."
   ]
  },
  {
   "cell_type": "code",
   "execution_count": 85,
   "id": "aa18362b",
   "metadata": {},
   "outputs": [
    {
     "name": "stdout",
     "output_type": "stream",
     "text": [
      "Средний вес всех школьников:\n",
      "34.75\n",
      "Максимальный возраст школьников:\n",
      "11\n",
      "Имена школьников, старше 8 лет:\n",
      "['Антон', 'Сережа']\n"
     ]
    }
   ],
   "source": [
    "print('Средний вес всех школьников:')\n",
    "print(df['Вес'].mean())\n",
    "print('Максимальный возраст школьников:')\n",
    "print(df['Возраст'].max())\n",
    "print('Имена школьников, старше 8 лет:')\n",
    "print(list(df[df['Возраст'] > 8].index))"
   ]
  },
  {
   "cell_type": "code",
   "execution_count": null,
   "id": "a3a41014",
   "metadata": {},
   "outputs": [],
   "source": [
    "# каждое число встреч 2 раза, и только одно число - 1 раз, найти его \n",
    "[1,1,2,3,2]\n",
    "def twonums(list):\n",
    "    "
   ]
  }
 ],
 "metadata": {
  "kernelspec": {
   "display_name": "Python 3",
   "language": "python",
   "name": "python3"
  },
  "language_info": {
   "codemirror_mode": {
    "name": "ipython",
    "version": 3
   },
   "file_extension": ".py",
   "mimetype": "text/x-python",
   "name": "python",
   "nbconvert_exporter": "python",
   "pygments_lexer": "ipython3",
   "version": "3.8.8"
  }
 },
 "nbformat": 4,
 "nbformat_minor": 5
}
