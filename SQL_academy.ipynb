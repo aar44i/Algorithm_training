{
 "cells": [
  {
   "cell_type": "code",
   "execution_count": 6,
   "id": "a054e23d",
   "metadata": {},
   "outputs": [
    {
     "data": {
      "text/html": [
       "<img src=\"C:/Users/gorba/Pictures/sql.png\"/>"
      ],
      "text/plain": [
       "<IPython.core.display.Image object>"
      ]
     },
     "execution_count": 6,
     "metadata": {},
     "output_type": "execute_result"
    }
   ],
   "source": [
    "from IPython.display import Image\n",
    "from IPython.core.display import HTML \n",
    "Image(url= \"C:/Users/gorba/Pictures/sql.png\")"
   ]
  },
  {
   "cell_type": "markdown",
   "id": "af8601bb",
   "metadata": {},
   "source": [
    "Вывести имена людей, которые заканчиваются на \"man\""
   ]
  },
  {
   "cell_type": "markdown",
   "id": "1f0c0dac",
   "metadata": {},
   "source": [
    "`SELECT name FROM Passenger WHERE name LIKE '%man'`"
   ]
  },
  {
   "cell_type": "markdown",
   "id": "98590ece",
   "metadata": {},
   "source": [
    "Вывести количество рейсов, совершенных на TU-134\n",
    "\n",
    "`SELECT\n",
    "COUNT(*) AS count\n",
    "FROM Trip\n",
    "WHERE\n",
    "plane = 'TU-134'`"
   ]
  },
  {
   "cell_type": "markdown",
   "id": "63c38cc7",
   "metadata": {},
   "source": [
    "Какие компании совершали перелеты на Boeing\n",
    "\n",
    "`SELECT DISTINCT\n",
    "c.name\n",
    "FROM Trip AS t\n",
    "JOIN Company AS c ON t.company = c.id\n",
    "WHERE\n",
    "t.plane = 'Boeing'`"
   ]
  },
  {
   "cell_type": "code",
   "execution_count": null,
   "id": "c3a6e67f",
   "metadata": {},
   "outputs": [],
   "source": []
  }
 ],
 "metadata": {
  "kernelspec": {
   "display_name": "Python 3",
   "language": "python",
   "name": "python3"
  },
  "language_info": {
   "codemirror_mode": {
    "name": "ipython",
    "version": 3
   },
   "file_extension": ".py",
   "mimetype": "text/x-python",
   "name": "python",
   "nbconvert_exporter": "python",
   "pygments_lexer": "ipython3",
   "version": "3.8.8"
  }
 },
 "nbformat": 4,
 "nbformat_minor": 5
}
